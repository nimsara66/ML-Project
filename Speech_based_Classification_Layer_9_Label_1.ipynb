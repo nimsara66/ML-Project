{
  "nbformat": 4,
  "nbformat_minor": 0,
  "metadata": {
    "colab": {
      "provenance": [],
      "mount_file_id": "1gBU6WD0H49XbzntIlT7Ap7-CrXtIVlan",
      "authorship_tag": "ABX9TyNpzS+cOBZ1+KqM/J6kV9aH",
      "include_colab_link": true
    },
    "kernelspec": {
      "name": "python3",
      "display_name": "Python 3"
    },
    "language_info": {
      "name": "python"
    }
  },
  "cells": [
    {
      "cell_type": "markdown",
      "metadata": {
        "id": "view-in-github",
        "colab_type": "text"
      },
      "source": [
        "<a href=\"https://colab.research.google.com/github/nimsara66/ML-Project/blob/main/Speech_based_Classification_Layer_9_Label_1.ipynb\" target=\"_parent\"><img src=\"https://colab.research.google.com/assets/colab-badge.svg\" alt=\"Open In Colab\"/></a>"
      ]
    },
    {
      "cell_type": "markdown",
      "source": [
        "# Library Imports"
      ],
      "metadata": {
        "id": "-fJeqxkY7Y1p"
      }
    },
    {
      "cell_type": "code",
      "source": [
        "import pandas as pd\n",
        "import numpy as np\n",
        "import matplotlib.pyplot as plt\n",
        "import torch\n",
        "import torch.nn as nn\n",
        "import torch.nn.functional as F\n",
        "from torch.utils.data import DataLoader, TensorDataset\n",
        "from sklearn.preprocessing import OneHotEncoder\n",
        "from sklearn.model_selection import train_test_split\n",
        "from sklearn.feature_selection import VarianceThreshold\n",
        "import seaborn as sns"
      ],
      "metadata": {
        "id": "W2isdk-z7c_a"
      },
      "execution_count": 26,
      "outputs": []
    },
    {
      "cell_type": "markdown",
      "source": [
        "# Import Datasets"
      ],
      "metadata": {
        "id": "ibLreehg7RM0"
      }
    },
    {
      "cell_type": "code",
      "source": [
        "train_csv_url = \"/content/drive/MyDrive/#Semester07/CS4622/ML Project/speech-based-classification-layer-9/train.csv\"\n",
        "valid_csv_url = \"/content/drive/MyDrive/#Semester07/CS4622/ML Project/speech-based-classification-layer-9/valid.csv\"\n",
        "test_csv_url = \"/content/drive/MyDrive/#Semester07/CS4622/ML Project/speech-based-classification-layer-9/test.csv\"\n",
        "\n",
        "train_data = pd.read_csv(train_csv_url)\n",
        "valid_data = pd.read_csv(valid_csv_url)\n",
        "test_data = pd.read_csv(train_csv_url)\n",
        "\n",
        "print(\"Train data:\")\n",
        "print(train_data.head())\n",
        "print(\"Valid data:\")\n",
        "print(valid_data.head())\n",
        "print(\"Test data:\")\n",
        "print(test_data.head())"
      ],
      "metadata": {
        "colab": {
          "base_uri": "https://localhost:8080/"
        },
        "id": "7X2KG96u7XP2",
        "outputId": "372dea54-4fb2-420c-9751-d34a8f8aa69d"
      },
      "execution_count": 7,
      "outputs": [
        {
          "output_type": "stream",
          "name": "stdout",
          "text": [
            "Train data:\n",
            "   feature_1  feature_2  feature_3  feature_4  feature_5  feature_6  \\\n",
            "0   0.019301   0.059756   0.081375   0.057481  -0.068440  -0.165913   \n",
            "1   0.049741   0.090030   0.035118  -0.013676  -0.194317  -0.101763   \n",
            "2   0.019212   0.087779   0.093907  -0.033738  -0.141409  -0.062881   \n",
            "3   0.070283   0.049040   0.042126   0.122637  -0.056964  -0.113700   \n",
            "4   0.028864   0.165634   0.016302   0.036117  -0.028871  -0.147748   \n",
            "\n",
            "   feature_7  feature_8  feature_9  feature_10  ...  feature_763  feature_764  \\\n",
            "0   0.035643  -0.091138   0.021688    0.057158  ...    -0.035576     0.127319   \n",
            "1   0.085875  -0.081317   0.112418    0.120523  ...     0.020538     0.058968   \n",
            "2  -0.071402  -0.006599   0.020372   -0.027777  ...     0.119645    -0.040861   \n",
            "3   0.108454   0.051336   0.086610    0.141578  ...    -0.124494    -0.169225   \n",
            "4   0.053180   0.025071  -0.004200   -0.022183  ...    -0.124862     0.044907   \n",
            "\n",
            "   feature_765  feature_766  feature_767  feature_768  label_1  label_2  \\\n",
            "0     0.098128    -0.058787     0.100971    -0.047754       45      NaN   \n",
            "1     0.029803     0.111324     0.036727     0.031927       45      NaN   \n",
            "2     0.000548    -0.061003    -0.042450     0.063340       45      NaN   \n",
            "3    -0.046391     0.148787     0.014616    -0.140644       45      NaN   \n",
            "4     0.084005    -0.038450     0.084371    -0.072146       45      NaN   \n",
            "\n",
            "   label_3  label_4  \n",
            "0        1        6  \n",
            "1        1        6  \n",
            "2        1        6  \n",
            "3        1        6  \n",
            "4        1        6  \n",
            "\n",
            "[5 rows x 772 columns]\n",
            "Valid data:\n",
            "   feature_1  feature_2  feature_3  feature_4  feature_5  feature_6  \\\n",
            "0  -0.130454   0.103857   0.130866  -0.036366  -0.152212  -0.072316   \n",
            "1   0.019179   0.104888   0.079487   0.005187  -0.134111  -0.109271   \n",
            "2  -0.028485   0.051889   0.033343  -0.029115  -0.091265  -0.038653   \n",
            "3  -0.078959   0.082325   0.068852  -0.028885  -0.146059  -0.071453   \n",
            "4   0.001748   0.050968  -0.034524   0.074153   0.063857  -0.133338   \n",
            "\n",
            "   feature_7  feature_8  feature_9  feature_10  ...  feature_763  feature_764  \\\n",
            "0  -0.041838  -0.019596   0.038727    0.022496  ...     0.129246     0.018913   \n",
            "1   0.054558  -0.083966  -0.000091    0.083015  ...    -0.031823     0.061069   \n",
            "2   0.113460  -0.057983   0.128808    0.062455  ...    -0.033106    -0.007366   \n",
            "3  -0.028955   0.031253   0.034923    0.019338  ...     0.164456    -0.025891   \n",
            "4   0.102604  -0.031676   0.010629   -0.018684  ...    -0.102749     0.022433   \n",
            "\n",
            "   feature_765  feature_766  feature_767  feature_768  label_1  label_2  \\\n",
            "0     0.013387    -0.054259     0.006282     0.049646       45      NaN   \n",
            "1     0.036411     0.101357     0.088504     0.008192       45      NaN   \n",
            "2    -0.027673     0.052090     0.044097     0.054422       45      NaN   \n",
            "3     0.037993     0.012060    -0.044266     0.045405       45      NaN   \n",
            "4     0.018421     0.086064     0.075351    -0.067089       45      NaN   \n",
            "\n",
            "   label_3  label_4  \n",
            "0        1        6  \n",
            "1        1        6  \n",
            "2        1        6  \n",
            "3        1        6  \n",
            "4        1        6  \n",
            "\n",
            "[5 rows x 772 columns]\n",
            "Test data:\n",
            "   feature_1  feature_2  feature_3  feature_4  feature_5  feature_6  \\\n",
            "0   0.019301   0.059756   0.081375   0.057481  -0.068440  -0.165913   \n",
            "1   0.049741   0.090030   0.035118  -0.013676  -0.194317  -0.101763   \n",
            "2   0.019212   0.087779   0.093907  -0.033738  -0.141409  -0.062881   \n",
            "3   0.070283   0.049040   0.042126   0.122637  -0.056964  -0.113700   \n",
            "4   0.028864   0.165634   0.016302   0.036117  -0.028871  -0.147748   \n",
            "\n",
            "   feature_7  feature_8  feature_9  feature_10  ...  feature_763  feature_764  \\\n",
            "0   0.035643  -0.091138   0.021688    0.057158  ...    -0.035576     0.127319   \n",
            "1   0.085875  -0.081317   0.112418    0.120523  ...     0.020538     0.058968   \n",
            "2  -0.071402  -0.006599   0.020372   -0.027777  ...     0.119645    -0.040861   \n",
            "3   0.108454   0.051336   0.086610    0.141578  ...    -0.124494    -0.169225   \n",
            "4   0.053180   0.025071  -0.004200   -0.022183  ...    -0.124862     0.044907   \n",
            "\n",
            "   feature_765  feature_766  feature_767  feature_768  label_1  label_2  \\\n",
            "0     0.098128    -0.058787     0.100971    -0.047754       45      NaN   \n",
            "1     0.029803     0.111324     0.036727     0.031927       45      NaN   \n",
            "2     0.000548    -0.061003    -0.042450     0.063340       45      NaN   \n",
            "3    -0.046391     0.148787     0.014616    -0.140644       45      NaN   \n",
            "4     0.084005    -0.038450     0.084371    -0.072146       45      NaN   \n",
            "\n",
            "   label_3  label_4  \n",
            "0        1        6  \n",
            "1        1        6  \n",
            "2        1        6  \n",
            "3        1        6  \n",
            "4        1        6  \n",
            "\n",
            "[5 rows x 772 columns]\n"
          ]
        }
      ]
    },
    {
      "cell_type": "markdown",
      "source": [
        "# Data Visualization"
      ],
      "metadata": {
        "id": "ONkuJldC7Kjq"
      }
    },
    {
      "cell_type": "code",
      "execution_count": 8,
      "metadata": {
        "id": "dCzSAdL064FB"
      },
      "outputs": [],
      "source": [
        "def visualize_label(y, title, x_title, y_title='Number of entries'):\n",
        "  unique_classes, class_counts = np.unique(y, return_counts=True)\n",
        "  plt.bar(unique_classes, class_counts)\n",
        "  plt.xlabel(x_title)\n",
        "  plt.ylabel(y_title)\n",
        "  plt.title(title)\n",
        "  plt.show()"
      ]
    },
    {
      "cell_type": "code",
      "source": [
        "visualize_label(train_data['label_1'], \"Number of rows versus Speaker\",\"Speaker\")"
      ],
      "metadata": {
        "colab": {
          "base_uri": "https://localhost:8080/",
          "height": 472
        },
        "id": "lVKQPrgl8VEM",
        "outputId": "cdae1074-3c50-492e-8b15-df39a17eb216"
      },
      "execution_count": 6,
      "outputs": [
        {
          "output_type": "display_data",
          "data": {
            "text/plain": [
              "<Figure size 640x480 with 1 Axes>"
            ],
            "image/png": "[encoded data removed]"
          },
          "metadata": {}
        }
      ]
    },
    {
      "cell_type": "code",
      "source": [
        "visualize_label(valid_data['label_1'], \"Number of rows versus Speaker\",\"Speaker\")"
      ],
      "metadata": {
        "colab": {
          "base_uri": "https://localhost:8080/",
          "height": 472
        },
        "id": "P6R0boOC87OG",
        "outputId": "94574d9f-0117-4e60-e56b-38ef7dab017b"
      },
      "execution_count": 9,
      "outputs": [
        {
          "output_type": "display_data",
          "data": {
            "text/plain": [
              "<Figure size 640x480 with 1 Axes>"
            ],
            "image/png": "[encoded data removed]"
          },
          "metadata": {}
        }
      ]
    },
    {
      "cell_type": "code",
      "source": [
        "visualize_label(test_data['label_1'], \"Number of rows versus Speaker\",\"Speaker\")"
      ],
      "metadata": {
        "colab": {
          "base_uri": "https://localhost:8080/",
          "height": 472
        },
        "id": "sTyrHiV_87n8",
        "outputId": "ffa3d6dc-0b08-4f76-9f5b-8ab7fc14d374"
      },
      "execution_count": 10,
      "outputs": [
        {
          "output_type": "display_data",
          "data": {
            "text/plain": [
              "<Figure size 640x480 with 1 Axes>"
            ],
            "image/png": "[encoded data removed]"
          },
          "metadata": {}
        }
      ]
    },
    {
      "cell_type": "markdown",
      "source": [
        "# Outlier Detection and Removal"
      ],
      "metadata": {
        "id": "tpusrJOMDSx0"
      }
    },
    {
      "cell_type": "code",
      "source": [
        "from scipy.stats import norm\n",
        "\n",
        "def visualize_label_norm(y, title, x_title, y_title='Number of entries'):\n",
        "  unique_classes, class_counts = np.unique(y, return_counts=True)\n",
        "  plt.bar(unique_classes, class_counts)\n",
        "  plt.xlabel(x_title)\n",
        "  plt.ylabel(y_title)\n",
        "  plt.title(title)\n",
        "\n",
        "  rng = np.arange(train_data[\"label_1\"].min(), train_data[\"label_1\"].max(), 0.1)\n",
        "  plt.plot(rng, norm.pdf(rng,train_data[\"label_1\"].mean(),train_data[\"label_1\"].std()))\n",
        "  plt.show()"
      ],
      "metadata": {
        "id": "aSCCdnGiDU7J"
      },
      "execution_count": 51,
      "outputs": []
    },
    {
      "cell_type": "code",
      "source": [
        "visualize_label_norm(train_data['label_1'], \"Number of rows versus Speaker\",\"Speaker\")"
      ],
      "metadata": {
        "colab": {
          "base_uri": "https://localhost:8080/",
          "height": 449
        },
        "id": "5zXbFThOEXxW",
        "outputId": "ea2295fc-1f20-4d13-8473-9569d00e3460"
      },
      "execution_count": 53,
      "outputs": [
        {
          "output_type": "display_data",
          "data": {
            "text/plain": [
              "<Figure size 640x480 with 1 Axes>"
            ],
            "image/png": "[encoded data removed]"
          },
          "metadata": {}
        }
      ]
    },
    {
      "cell_type": "code",
      "source": [
        "train_data['zscore'] = ( train_data[\"label_1\"] - train_data[\"label_1\"].mean() ) / train_data[\"label_1\"].std()\n",
        "outliers = train_data[(train_data.zscore<-3) | (train_data.zscore>3)]\n",
        "outliers.shape"
      ],
      "metadata": {
        "colab": {
          "base_uri": "https://localhost:8080/"
        },
        "id": "qaYx8OAeFOVi",
        "outputId": "45995752-e1cb-4635-add6-c1d027a6260a"
      },
      "execution_count": 54,
      "outputs": [
        {
          "output_type": "execute_result",
          "data": {
            "text/plain": [
              "(0, 773)"
            ]
          },
          "metadata": {},
          "execution_count": 54
        }
      ]
    },
    {
      "cell_type": "markdown",
      "source": [
        "No outliers to remove"
      ],
      "metadata": {
        "id": "JbFT-37lFgnA"
      }
    },
    {
      "cell_type": "markdown",
      "source": [
        "# Train without Feaure Reduction"
      ],
      "metadata": {
        "id": "1xBztUNn9IiC"
      }
    },
    {
      "cell_type": "code",
      "source": [
        "print(f\"train_data dataset shape {train_data.shape}\")\n",
        "print(f\"# of missing values {train_data['label_1'].isna().sum()}\")\n",
        "print(f\"# of labels {train_data['label_1'].value_counts().shape[0]}\")\n",
        "print(f\"label summary\\n{train_data['label_1'].value_counts()}\")"
      ],
      "metadata": {
        "colab": {
          "base_uri": "https://localhost:8080/"
        },
        "id": "YPnQDUZw9BaM",
        "outputId": "3749d18e-7dc6-4abc-bce7-7899cb1a70aa"
      },
      "execution_count": 13,
      "outputs": [
        {
          "output_type": "stream",
          "name": "stdout",
          "text": [
            "train_data dataset shape (28520, 772)\n",
            "# of missing values 0\n",
            "# of labels 60\n",
            "label summary\n",
            "12    485\n",
            "35    484\n",
            "26    483\n",
            "60    482\n",
            "24    482\n",
            "25    481\n",
            "59    481\n",
            "10    481\n",
            "54    481\n",
            "45    480\n",
            "41    480\n",
            "9     480\n",
            "2     479\n",
            "42    479\n",
            "47    479\n",
            "6     479\n",
            "56    479\n",
            "34    478\n",
            "52    478\n",
            "3     478\n",
            "14    478\n",
            "33    478\n",
            "43    477\n",
            "1     477\n",
            "13    477\n",
            "20    477\n",
            "23    477\n",
            "30    476\n",
            "51    476\n",
            "32    476\n",
            "53    476\n",
            "22    476\n",
            "38    476\n",
            "49    476\n",
            "55    475\n",
            "28    474\n",
            "8     474\n",
            "40    474\n",
            "48    474\n",
            "21    474\n",
            "4     474\n",
            "39    473\n",
            "17    473\n",
            "7     473\n",
            "15    472\n",
            "58    472\n",
            "5     471\n",
            "27    471\n",
            "31    470\n",
            "19    469\n",
            "11    469\n",
            "46    469\n",
            "29    469\n",
            "36    468\n",
            "16    468\n",
            "50    467\n",
            "37    467\n",
            "44    467\n",
            "57    466\n",
            "18    465\n",
            "Name: label_1, dtype: int64\n"
          ]
        }
      ]
    },
    {
      "cell_type": "markdown",
      "source": [
        "Feature Enginering\n",
        "\n",
        "*   Label_1 has no missing values\n",
        "*   Label_1 has 60 unique classes\n",
        "*   Using one-hot encoding for multilabel classification\n",
        "\n"
      ],
      "metadata": {
        "id": "Tlf1E24u9jWt"
      }
    },
    {
      "cell_type": "code",
      "source": [
        "label_1 = train_data['label_1'].values.reshape(-1, 1)\n",
        "ohe = OneHotEncoder(handle_unknown='ignore', sparse_output=False).fit(label_1)\n",
        "print(ohe.categories_)\n",
        "\n",
        "label_1 = ohe.transform(label_1)\n",
        "print(label_1)"
      ],
      "metadata": {
        "colab": {
          "base_uri": "https://localhost:8080/"
        },
        "id": "jlk6fzI_9d3z",
        "outputId": "68fbaff9-319e-4d51-93f5-372304994b79"
      },
      "execution_count": 15,
      "outputs": [
        {
          "output_type": "stream",
          "name": "stdout",
          "text": [
            "[array([ 1,  2,  3,  4,  5,  6,  7,  8,  9, 10, 11, 12, 13, 14, 15, 16, 17,\n",
            "       18, 19, 20, 21, 22, 23, 24, 25, 26, 27, 28, 29, 30, 31, 32, 33, 34,\n",
            "       35, 36, 37, 38, 39, 40, 41, 42, 43, 44, 45, 46, 47, 48, 49, 50, 51,\n",
            "       52, 53, 54, 55, 56, 57, 58, 59, 60])]\n",
            "[[0. 0. 0. ... 0. 0. 0.]\n",
            " [0. 0. 0. ... 0. 0. 0.]\n",
            " [0. 0. 0. ... 0. 0. 0.]\n",
            " ...\n",
            " [0. 0. 0. ... 0. 0. 0.]\n",
            " [0. 0. 0. ... 0. 0. 0.]\n",
            " [0. 0. 0. ... 0. 0. 0.]]\n"
          ]
        }
      ]
    },
    {
      "cell_type": "code",
      "source": [
        "X_train, X_test, y_train, y_test = train_test_split(train_data.iloc[:, :768], label_1, test_size=0.2, stratify=label_1, random_state=2023)"
      ],
      "metadata": {
        "id": "Yxbtoze7-E8y"
      },
      "execution_count": 17,
      "outputs": []
    },
    {
      "cell_type": "code",
      "source": [
        "X_train_tensors = torch.tensor(X_train.iloc[:, :].values, dtype=torch.float32)\n",
        "print(X_train_tensors.shape)\n",
        "\n",
        "X_test_tensors = torch.tensor(X_test.iloc[:, :].values, dtype=torch.float32)\n",
        "print(X_test_tensors.shape)"
      ],
      "metadata": {
        "colab": {
          "base_uri": "https://localhost:8080/"
        },
        "id": "fkaklTQy-gM2",
        "outputId": "0eeecd41-ba0e-4f32-9d7b-f7ceaa0b3d2e"
      },
      "execution_count": 19,
      "outputs": [
        {
          "output_type": "stream",
          "name": "stdout",
          "text": [
            "torch.Size([22816, 768])\n",
            "torch.Size([5704, 768])\n"
          ]
        }
      ]
    },
    {
      "cell_type": "markdown",
      "source": [
        "## Define the Model"
      ],
      "metadata": {
        "id": "EV9fMDSL-Sps"
      }
    },
    {
      "cell_type": "code",
      "source": [
        "class SpeakerClassifier(nn.Module):\n",
        "    def __init__(self, dropout_prob=0.5, weight_decay=1e-5):\n",
        "        super(SpeakerClassifier, self).__init__()\n",
        "        self.linear1 = nn.Linear(768, 512)\n",
        "        self.linear2 = nn.Linear(512, 256)\n",
        "        self.linear3 = nn.Linear(256, 128)\n",
        "        self.linear4 = nn.Linear(128, 60)\n",
        "\n",
        "        # Set weight_decay for regularization\n",
        "        self.weight_decay = weight_decay\n",
        "\n",
        "    def forward(self, tensors):\n",
        "        output_l1 = torch.relu(self.linear1(tensors))\n",
        "        output_l2 = torch.relu(self.linear2(output_l1))\n",
        "        output_l3 = torch.relu(self.linear3(output_l2))\n",
        "        output_l4 = self.linear4(output_l3)\n",
        "        return output_l4\n",
        "\n",
        "    def l2_regularization_loss(self):\n",
        "        # Calculate L2 regularization loss for linear layers\n",
        "        l2_loss = 0.0\n",
        "        for param in self.parameters():\n",
        "            if param.requires_grad:\n",
        "                l2_loss += torch.norm(param, 2)\n",
        "        return self.weight_decay * l2_loss"
      ],
      "metadata": {
        "id": "GG3HdfaI-Kxs"
      },
      "execution_count": 18,
      "outputs": []
    },
    {
      "cell_type": "markdown",
      "source": [
        "## Train the model"
      ],
      "metadata": {
        "id": "zn6B3nMN-7t8"
      }
    },
    {
      "cell_type": "code",
      "source": [
        "# Create an instance of the SpeakerClassifier model\n",
        "speakerClassifier = SpeakerClassifier()\n",
        "\n",
        "# Define a cross-entropy loss function\n",
        "criterion = nn.CrossEntropyLoss()\n",
        "\n",
        "# Create a DataLoader for batching\n",
        "batch_size = 128\n",
        "dataset = TensorDataset(X_train_tensors, torch.tensor(y_train))\n",
        "dataloader = DataLoader(dataset, batch_size=batch_size, shuffle=True)\n",
        "\n",
        "# Define an optimizer\n",
        "optimizer = torch.optim.Adam(speakerClassifier.parameters(), lr=0.001)\n",
        "\n",
        "# Define early stopping parameters\n",
        "patience = 25\n",
        "best_validation_accuracy = 0\n",
        "no_improvement_counter = 0\n",
        "\n",
        "# Training loop\n",
        "epochs = 1000\n",
        "for epoch in range(epochs):\n",
        "\n",
        "    for inputs, targets in dataloader:\n",
        "        optimizer.zero_grad()\n",
        "        outputs = speakerClassifier(inputs)\n",
        "\n",
        "        ce_loss = criterion(outputs, targets)\n",
        "        l2_loss = speakerClassifier.l2_regularization_loss()\n",
        "\n",
        "        total_loss = ce_loss + l2_loss\n",
        "\n",
        "        total_loss.backward()\n",
        "        optimizer.step()\n",
        "\n",
        "    # Validation step (evaluate on validation dataset)\n",
        "    with torch.no_grad():\n",
        "        speakerClassifier.eval()\n",
        "        y_test_pred = speakerClassifier(X_test_tensors)\n",
        "        ce = criterion(y_test_pred, torch.tensor(y_test))\n",
        "        acc = (torch.argmax(y_test_pred, 1) == torch.argmax(torch.tensor(y_test), 1)).float().mean()\n",
        "        speakerClassifier.train()\n",
        "\n",
        "    print(f\"Epoch {epoch} validation: Cross-entropy={float(ce)}, Accuracy={float(acc)}\")\n",
        "\n",
        "    # Check for early stopping\n",
        "    if acc > best_validation_accuracy:\n",
        "        best_validation_accuracy = acc\n",
        "        no_improvement_counter = 0\n",
        "        # Save the trained best model if needed\n",
        "        torch.save(speakerClassifier.state_dict(), 'speakerClassifier_model.pth')\n",
        "    else:\n",
        "        no_improvement_counter += 1\n",
        "\n",
        "    # If no improvement for 'patience' consecutive epochs, stop training\n",
        "    if no_improvement_counter >= patience:\n",
        "        print(\"Early stopping triggered. Training stopped.\")\n",
        "        break"
      ],
      "metadata": {
        "id": "neviN85d-5ws"
      },
      "execution_count": null,
      "outputs": []
    },
    {
      "cell_type": "code",
      "source": [
        "# Create an instance of the model\n",
        "speakerClassifier = SpeakerClassifier()\n",
        "\n",
        "# Load the saved model state dictionary\n",
        "speakerClassifier.load_state_dict(torch.load('/content/drive/Shareddrives/test/ML _Project/speakerClassifier_model.pth'))\n",
        "\n",
        "# Validation step (evaluate on validation dataset)\n",
        "with torch.no_grad():\n",
        "    speakerClassifier.eval()\n",
        "    y_test_pred = speakerClassifier(X_test_tensors)\n",
        "    ce = criterion(y_test_pred, torch.tensor(y_test))\n",
        "    acc = (torch.argmax(y_test_pred, 1) == torch.argmax(torch.tensor(y_test), 1)).float().mean()\n",
        "\n",
        "print(f\"Best model validation: Cross-entropy={float(ce)}, Accuracy={float(acc)}\")"
      ],
      "metadata": {
        "colab": {
          "base_uri": "https://localhost:8080/"
        },
        "id": "W7LQKgC5-bGT",
        "outputId": "606a3e07-7822-4cc6-e784-4b8486683334"
      },
      "execution_count": 21,
      "outputs": [
        {
          "output_type": "stream",
          "name": "stdout",
          "text": [
            "Best model validation: Cross-entropy=0.33610116394825557, Accuracy=0.9556451439857483\n"
          ]
        }
      ]
    },
    {
      "cell_type": "markdown",
      "source": [
        "## Evaluation of the Model"
      ],
      "metadata": {
        "id": "FFi5fx7EAXel"
      }
    },
    {
      "cell_type": "code",
      "source": [
        "label_1_eval = valid_data['label_1'].values.reshape(-1, 1)\n",
        "ohe = OneHotEncoder(handle_unknown='ignore', sparse_output=False).fit(label_1_eval)\n",
        "print(ohe.categories_)\n",
        "\n",
        "label_1_eval = ohe.transform(label_1_eval)\n",
        "print(label_1_eval)"
      ],
      "metadata": {
        "colab": {
          "base_uri": "https://localhost:8080/"
        },
        "id": "lAyr9sjfAbNm",
        "outputId": "8746bd58-aea9-4578-b3aa-1a9566141cec"
      },
      "execution_count": 22,
      "outputs": [
        {
          "output_type": "stream",
          "name": "stdout",
          "text": [
            "[array([ 1,  2,  3,  4,  5,  6,  7,  8,  9, 10, 11, 12, 13, 14, 15, 16, 17,\n",
            "       18, 19, 20, 21, 22, 23, 24, 25, 26, 27, 28, 29, 30, 31, 32, 33, 34,\n",
            "       35, 36, 37, 38, 39, 40, 41, 42, 43, 44, 45, 46, 47, 48, 49, 50, 51,\n",
            "       52, 53, 54, 55, 56, 57, 58, 59, 60])]\n",
            "[[0. 0. 0. ... 0. 0. 0.]\n",
            " [0. 0. 0. ... 0. 0. 0.]\n",
            " [0. 0. 0. ... 0. 0. 0.]\n",
            " ...\n",
            " [0. 0. 0. ... 0. 0. 0.]\n",
            " [0. 0. 0. ... 0. 0. 0.]\n",
            " [0. 0. 0. ... 0. 0. 0.]]\n"
          ]
        }
      ]
    },
    {
      "cell_type": "code",
      "source": [
        "# Set your model to evaluation mode\n",
        "speakerClassifier.eval()\n",
        "\n",
        "X_valid_tensors = torch.tensor(valid_data.iloc[:, :768].values, dtype=torch.float32)\n",
        "print(X_valid_tensors.shape)\n",
        "\n",
        "y_pred = speakerClassifier(X_valid_tensors)\n",
        "ce = criterion(y_pred, torch.tensor(label_1_eval))\n",
        "acc = (torch.argmax(y_pred, 1) == torch.argmax(torch.tensor(label_1_eval), 1)).float().mean()\n",
        "print(f\"Cross-entropy={float(ce)}, Test Accuracy={float(acc)}\")"
      ],
      "metadata": {
        "colab": {
          "base_uri": "https://localhost:8080/"
        },
        "id": "fm7ClYAgAsTJ",
        "outputId": "6853259c-fdda-4529-d77d-0d590c71fac4"
      },
      "execution_count": 24,
      "outputs": [
        {
          "output_type": "stream",
          "name": "stdout",
          "text": [
            "torch.Size([750, 768])\n",
            "Cross-entropy=0.288925059106326, Test Accuracy=0.9573333263397217\n"
          ]
        }
      ]
    },
    {
      "cell_type": "markdown",
      "source": [
        "# Train with Feature Engineering"
      ],
      "metadata": {
        "id": "Urt-dVm6BKI_"
      }
    },
    {
      "cell_type": "code",
      "source": [
        "data_features = train_data.iloc[:, :768]"
      ],
      "metadata": {
        "id": "zcpyDDIcBNi4"
      },
      "execution_count": 25,
      "outputs": []
    },
    {
      "cell_type": "markdown",
      "source": [
        "## Drop Constant Features Using Variance Threshold"
      ],
      "metadata": {
        "id": "-lRMnRLiBc4W"
      }
    },
    {
      "cell_type": "code",
      "source": [
        "var_thres=VarianceThreshold(threshold=0)\n",
        "var_thres.fit(data_features)"
      ],
      "metadata": {
        "colab": {
          "base_uri": "https://localhost:8080/",
          "height": 74
        },
        "id": "IpkwwdxeBb67",
        "outputId": "04631cfc-4579-4b1f-c155-5cc2bf41b882"
      },
      "execution_count": 30,
      "outputs": [
        {
          "output_type": "execute_result",
          "data": {
            "text/plain": [
              "VarianceThreshold(threshold=0)"
            ],
            "text/html": [
              "<style>#sk-container-id-2 {color: black;background-color: white;}#sk-container-id-2 pre{padding: 0;}#sk-container-id-2 div.sk-toggleable {background-color: white;}#sk-container-id-2 label.sk-toggleable__label {cursor: pointer;display: block;width: 100%;margin-bottom: 0;padding: 0.3em;box-sizing: border-box;text-align: center;}#sk-container-id-2 label.sk-toggleable__label-arrow:before {content: \"▸\";float: left;margin-right: 0.25em;color: #696969;}#sk-container-id-2 label.sk-toggleable__label-arrow:hover:before {color: black;}#sk-container-id-2 div.sk-estimator:hover label.sk-toggleable__label-arrow:before {color: black;}#sk-container-id-2 div.sk-toggleable__content {max-height: 0;max-width: 0;overflow: hidden;text-align: left;background-color: #f0f8ff;}#sk-container-id-2 div.sk-toggleable__content pre {margin: 0.2em;color: black;border-radius: 0.25em;background-color: #f0f8ff;}#sk-container-id-2 input.sk-toggleable__control:checked~div.sk-toggleable__content {max-height: 200px;max-width: 100%;overflow: auto;}#sk-container-id-2 input.sk-toggleable__control:checked~label.sk-toggleable__label-arrow:before {content: \"▾\";}#sk-container-id-2 div.sk-estimator input.sk-toggleable__control:checked~label.sk-toggleable__label {background-color: #d4ebff;}#sk-container-id-2 div.sk-label input.sk-toggleable__control:checked~label.sk-toggleable__label {background-color: #d4ebff;}#sk-container-id-2 input.sk-hidden--visually {border: 0;clip: rect(1px 1px 1px 1px);clip: rect(1px, 1px, 1px, 1px);height: 1px;margin: -1px;overflow: hidden;padding: 0;position: absolute;width: 1px;}#sk-container-id-2 div.sk-estimator {font-family: monospace;background-color: #f0f8ff;border: 1px dotted black;border-radius: 0.25em;box-sizing: border-box;margin-bottom: 0.5em;}#sk-container-id-2 div.sk-estimator:hover {background-color: #d4ebff;}#sk-container-id-2 div.sk-parallel-item::after {content: \"\";width: 100%;border-bottom: 1px solid gray;flex-grow: 1;}#sk-container-id-2 div.sk-label:hover label.sk-toggleable__label {background-color: #d4ebff;}#sk-container-id-2 div.sk-serial::before {content: \"\";position: absolute;border-left: 1px solid gray;box-sizing: border-box;top: 0;bottom: 0;left: 50%;z-index: 0;}#sk-container-id-2 div.sk-serial {display: flex;flex-direction: column;align-items: center;background-color: white;padding-right: 0.2em;padding-left: 0.2em;position: relative;}#sk-container-id-2 div.sk-item {position: relative;z-index: 1;}#sk-container-id-2 div.sk-parallel {display: flex;align-items: stretch;justify-content: center;background-color: white;position: relative;}#sk-container-id-2 div.sk-item::before, #sk-container-id-2 div.sk-parallel-item::before {content: \"\";position: absolute;border-left: 1px solid gray;box-sizing: border-box;top: 0;bottom: 0;left: 50%;z-index: -1;}#sk-container-id-2 div.sk-parallel-item {display: flex;flex-direction: column;z-index: 1;position: relative;background-color: white;}#sk-container-id-2 div.sk-parallel-item:first-child::after {align-self: flex-end;width: 50%;}#sk-container-id-2 div.sk-parallel-item:last-child::after {align-self: flex-start;width: 50%;}#sk-container-id-2 div.sk-parallel-item:only-child::after {width: 0;}#sk-container-id-2 div.sk-dashed-wrapped {border: 1px dashed gray;margin: 0 0.4em 0.5em 0.4em;box-sizing: border-box;padding-bottom: 0.4em;background-color: white;}#sk-container-id-2 div.sk-label label {font-family: monospace;font-weight: bold;display: inline-block;line-height: 1.2em;}#sk-container-id-2 div.sk-label-container {text-align: center;}#sk-container-id-2 div.sk-container {/* jupyter's `normalize.less` sets `[hidden] { display: none; }` but bootstrap.min.css set `[hidden] { display: none !important; }` so we also need the `!important` here to be able to override the default hidden behavior on the sphinx rendered scikit-learn.org. See: https://github.com/scikit-learn/scikit-learn/issues/21755 */display: inline-block !important;position: relative;}#sk-container-id-2 div.sk-text-repr-fallback {display: none;}</style><div id=\"sk-container-id-2\" class=\"sk-top-container\"><div class=\"sk-text-repr-fallback\"><pre>VarianceThreshold(threshold=0)</pre><b>In a Jupyter environment, please rerun this cell to show the HTML representation or trust the notebook. <br />On GitHub, the HTML representation is unable to render, please try loading this page with nbviewer.org.</b></div><div class=\"sk-container\" hidden><div class=\"sk-item\"><div class=\"sk-estimator sk-toggleable\"><input class=\"sk-toggleable__control sk-hidden--visually\" id=\"sk-estimator-id-2\" type=\"checkbox\" checked><label for=\"sk-estimator-id-2\" class=\"sk-toggleable__label sk-toggleable__label-arrow\">VarianceThreshold</label><div class=\"sk-toggleable__content\"><pre>VarianceThreshold(threshold=0)</pre></div></div></div></div></div>"
            ]
          },
          "metadata": {},
          "execution_count": 30
        }
      ]
    },
    {
      "cell_type": "code",
      "source": [
        "constant_columns = [column for column in data_features.columns\n",
        "                    if column not in data_features.columns[var_thres.get_support()]]\n",
        "\n",
        "print(constant_columns)"
      ],
      "metadata": {
        "colab": {
          "base_uri": "https://localhost:8080/"
        },
        "id": "AzqkmpwHBmDr",
        "outputId": "011b0389-75b8-40f0-9d81-613048d91c94"
      },
      "execution_count": 31,
      "outputs": [
        {
          "output_type": "stream",
          "name": "stdout",
          "text": [
            "[]\n"
          ]
        }
      ]
    },
    {
      "cell_type": "markdown",
      "source": [
        "There is no constant columns"
      ],
      "metadata": {
        "id": "OfnuM9r4B22t"
      }
    },
    {
      "cell_type": "markdown",
      "source": [
        "## Drop Features Using Pearson Correlation"
      ],
      "metadata": {
        "id": "-inPkOjHB78z"
      }
    },
    {
      "cell_type": "code",
      "source": [
        "data_features.corr()"
      ],
      "metadata": {
        "colab": {
          "base_uri": "https://localhost:8080/",
          "height": 439
        },
        "id": "MtvAw4yNBqgy",
        "outputId": "6b733488-0a6e-4876-a663-3ad72d30478d"
      },
      "execution_count": 32,
      "outputs": [
        {
          "output_type": "execute_result",
          "data": {
            "text/plain": [
              "             feature_1  feature_2  feature_3  feature_4  feature_5  feature_6  \\\n",
              "feature_1     1.000000   0.065348  -0.039416   0.116528   0.108225  -0.163679   \n",
              "feature_2     0.065348   1.000000   0.043611   0.068624  -0.278709   0.052155   \n",
              "feature_3    -0.039416   0.043611   1.000000  -0.185437  -0.313107  -0.103496   \n",
              "feature_4     0.116528   0.068624  -0.185437   1.000000   0.096349  -0.220416   \n",
              "feature_5     0.108225  -0.278709  -0.313107   0.096349   1.000000   0.021056   \n",
              "...                ...        ...        ...        ...        ...        ...   \n",
              "feature_764  -0.040330   0.005612   0.204807   0.103712  -0.087327  -0.174192   \n",
              "feature_765   0.132620  -0.068710   0.133835   0.100221  -0.063512  -0.345465   \n",
              "feature_766   0.032706  -0.204834  -0.063354   0.006758   0.016875  -0.233690   \n",
              "feature_767   0.035296  -0.350866   0.159975   0.034292  -0.031415  -0.350340   \n",
              "feature_768  -0.039317   0.162593   0.217143  -0.128138  -0.203071   0.242545   \n",
              "\n",
              "             feature_7  feature_8  feature_9  feature_10  ...  feature_759  \\\n",
              "feature_1     0.131004  -0.073198  -0.045476   -0.120560  ...    -0.225724   \n",
              "feature_2    -0.267946  -0.214403  -0.235840   -0.056829  ...    -0.150852   \n",
              "feature_3    -0.214606  -0.185952   0.155197    0.011407  ...    -0.248988   \n",
              "feature_4     0.194002   0.027816  -0.144393   -0.148927  ...     0.135598   \n",
              "feature_5     0.325761  -0.000900   0.038333   -0.116997  ...    -0.020572   \n",
              "...                ...        ...        ...         ...  ...          ...   \n",
              "feature_764   0.122454   0.012446   0.199985    0.171440  ...     0.075743   \n",
              "feature_765  -0.002038   0.005804   0.053829   -0.116723  ...    -0.103060   \n",
              "feature_766   0.282928  -0.105139   0.097498    0.391228  ...     0.096985   \n",
              "feature_767   0.185927   0.045446   0.113304    0.265687  ...     0.115303   \n",
              "feature_768  -0.390389  -0.033126   0.020400   -0.093904  ...    -0.012714   \n",
              "\n",
              "             feature_760  feature_761  feature_762  feature_763  feature_764  \\\n",
              "feature_1       0.290177     0.015310     0.144664    -0.110313    -0.040330   \n",
              "feature_2      -0.096604     0.287950    -0.099087     0.269144     0.005612   \n",
              "feature_3      -0.162378    -0.024814     0.162806     0.231606     0.204807   \n",
              "feature_4       0.071113    -0.084978    -0.166751    -0.220446     0.103712   \n",
              "feature_5       0.024932    -0.202849     0.031865    -0.371326    -0.087327   \n",
              "...                  ...          ...          ...          ...          ...   \n",
              "feature_764     0.065512    -0.313912    -0.196618    -0.114188     1.000000   \n",
              "feature_765     0.180543    -0.010908    -0.076788     0.228983     0.208730   \n",
              "feature_766     0.293527    -0.266795     0.168379    -0.486373     0.181622   \n",
              "feature_767     0.274362    -0.343106     0.081103    -0.327079     0.405485   \n",
              "feature_768    -0.117084     0.191413     0.091538     0.299900    -0.009266   \n",
              "\n",
              "             feature_765  feature_766  feature_767  feature_768  \n",
              "feature_1       0.132620     0.032706     0.035296    -0.039317  \n",
              "feature_2      -0.068710    -0.204834    -0.350866     0.162593  \n",
              "feature_3       0.133835    -0.063354     0.159975     0.217143  \n",
              "feature_4       0.100221     0.006758     0.034292    -0.128138  \n",
              "feature_5      -0.063512     0.016875    -0.031415    -0.203071  \n",
              "...                  ...          ...          ...          ...  \n",
              "feature_764     0.208730     0.181622     0.405485    -0.009266  \n",
              "feature_765     1.000000    -0.204636     0.278358    -0.172730  \n",
              "feature_766    -0.204636     1.000000     0.388446    -0.065182  \n",
              "feature_767     0.278358     0.388446     1.000000    -0.132940  \n",
              "feature_768    -0.172730    -0.065182    -0.132940     1.000000  \n",
              "\n",
              "[768 rows x 768 columns]"
            ],
            "text/html": [
              "\n",
              "  <div id=\"df-edfbfa57-f7f4-4528-bca3-24aa30a6bf73\" class=\"colab-df-container\">\n",
              "    <div>\n",
              "<style scoped>\n",
              "    .dataframe tbody tr th:only-of-type {\n",
              "        vertical-align: middle;\n",
              "    }\n",
              "\n",
              "    .dataframe tbody tr th {\n",
              "        vertical-align: top;\n",
              "    }\n",
              "\n",
              "    .dataframe thead th {\n",
              "        text-align: right;\n",
              "    }\n",
              "</style>\n",
              "<table border=\"1\" class=\"dataframe\">\n",
              "  <thead>\n",
              "    <tr style=\"text-align: right;\">\n",
              "      <th></th>\n",
              "      <th>feature_1</th>\n",
              "      <th>feature_2</th>\n",
              "      <th>feature_3</th>\n",
              "      <th>feature_4</th>\n",
              "      <th>feature_5</th>\n",
              "      <th>feature_6</th>\n",
              "      <th>feature_7</th>\n",
              "      <th>feature_8</th>\n",
              "      <th>feature_9</th>\n",
              "      <th>feature_10</th>\n",
              "      <th>...</th>\n",
              "      <th>feature_759</th>\n",
              "      <th>feature_760</th>\n",
              "      <th>feature_761</th>\n",
              "      <th>feature_762</th>\n",
              "      <th>feature_763</th>\n",
              "      <th>feature_764</th>\n",
              "      <th>feature_765</th>\n",
              "      <th>feature_766</th>\n",
              "      <th>feature_767</th>\n",
              "      <th>feature_768</th>\n",
              "    </tr>\n",
              "  </thead>\n",
              "  <tbody>\n",
              "    <tr>\n",
              "      <th>feature_1</th>\n",
              "      <td>1.000000</td>\n",
              "      <td>0.065348</td>\n",
              "      <td>-0.039416</td>\n",
              "      <td>0.116528</td>\n",
              "      <td>0.108225</td>\n",
              "      <td>-0.163679</td>\n",
              "      <td>0.131004</td>\n",
              "      <td>-0.073198</td>\n",
              "      <td>-0.045476</td>\n",
              "      <td>-0.120560</td>\n",
              "      <td>...</td>\n",
              "      <td>-0.225724</td>\n",
              "      <td>0.290177</td>\n",
              "      <td>0.015310</td>\n",
              "      <td>0.144664</td>\n",
              "      <td>-0.110313</td>\n",
              "      <td>-0.040330</td>\n",
              "      <td>0.132620</td>\n",
              "      <td>0.032706</td>\n",
              "      <td>0.035296</td>\n",
              "      <td>-0.039317</td>\n",
              "    </tr>\n",
              "    <tr>\n",
              "      <th>feature_2</th>\n",
              "      <td>0.065348</td>\n",
              "      <td>1.000000</td>\n",
              "      <td>0.043611</td>\n",
              "      <td>0.068624</td>\n",
              "      <td>-0.278709</td>\n",
              "      <td>0.052155</td>\n",
              "      <td>-0.267946</td>\n",
              "      <td>-0.214403</td>\n",
              "      <td>-0.235840</td>\n",
              "      <td>-0.056829</td>\n",
              "      <td>...</td>\n",
              "      <td>-0.150852</td>\n",
              "      <td>-0.096604</td>\n",
              "      <td>0.287950</td>\n",
              "      <td>-0.099087</td>\n",
              "      <td>0.269144</td>\n",
              "      <td>0.005612</td>\n",
              "      <td>-0.068710</td>\n",
              "      <td>-0.204834</td>\n",
              "      <td>-0.350866</td>\n",
              "      <td>0.162593</td>\n",
              "    </tr>\n",
              "    <tr>\n",
              "      <th>feature_3</th>\n",
              "      <td>-0.039416</td>\n",
              "      <td>0.043611</td>\n",
              "      <td>1.000000</td>\n",
              "      <td>-0.185437</td>\n",
              "      <td>-0.313107</td>\n",
              "      <td>-0.103496</td>\n",
              "      <td>-0.214606</td>\n",
              "      <td>-0.185952</td>\n",
              "      <td>0.155197</td>\n",
              "      <td>0.011407</td>\n",
              "      <td>...</td>\n",
              "      <td>-0.248988</td>\n",
              "      <td>-0.162378</td>\n",
              "      <td>-0.024814</td>\n",
              "      <td>0.162806</td>\n",
              "      <td>0.231606</td>\n",
              "      <td>0.204807</td>\n",
              "      <td>0.133835</td>\n",
              "      <td>-0.063354</td>\n",
              "      <td>0.159975</td>\n",
              "      <td>0.217143</td>\n",
              "    </tr>\n",
              "    <tr>\n",
              "      <th>feature_4</th>\n",
              "      <td>0.116528</td>\n",
              "      <td>0.068624</td>\n",
              "      <td>-0.185437</td>\n",
              "      <td>1.000000</td>\n",
              "      <td>0.096349</td>\n",
              "      <td>-0.220416</td>\n",
              "      <td>0.194002</td>\n",
              "      <td>0.027816</td>\n",
              "      <td>-0.144393</td>\n",
              "      <td>-0.148927</td>\n",
              "      <td>...</td>\n",
              "      <td>0.135598</td>\n",
              "      <td>0.071113</td>\n",
              "      <td>-0.084978</td>\n",
              "      <td>-0.166751</td>\n",
              "      <td>-0.220446</td>\n",
              "      <td>0.103712</td>\n",
              "      <td>0.100221</td>\n",
              "      <td>0.006758</td>\n",
              "      <td>0.034292</td>\n",
              "      <td>-0.128138</td>\n",
              "    </tr>\n",
              "    <tr>\n",
              "      <th>feature_5</th>\n",
              "      <td>0.108225</td>\n",
              "      <td>-0.278709</td>\n",
              "      <td>-0.313107</td>\n",
              "      <td>0.096349</td>\n",
              "      <td>1.000000</td>\n",
              "      <td>0.021056</td>\n",
              "      <td>0.325761</td>\n",
              "      <td>-0.000900</td>\n",
              "      <td>0.038333</td>\n",
              "      <td>-0.116997</td>\n",
              "      <td>...</td>\n",
              "      <td>-0.020572</td>\n",
              "      <td>0.024932</td>\n",
              "      <td>-0.202849</td>\n",
              "      <td>0.031865</td>\n",
              "      <td>-0.371326</td>\n",
              "      <td>-0.087327</td>\n",
              "      <td>-0.063512</td>\n",
              "      <td>0.016875</td>\n",
              "      <td>-0.031415</td>\n",
              "      <td>-0.203071</td>\n",
              "    </tr>\n",
              "    <tr>\n",
              "      <th>...</th>\n",
              "      <td>...</td>\n",
              "      <td>...</td>\n",
              "      <td>...</td>\n",
              "      <td>...</td>\n",
              "      <td>...</td>\n",
              "      <td>...</td>\n",
              "      <td>...</td>\n",
              "      <td>...</td>\n",
              "      <td>...</td>\n",
              "      <td>...</td>\n",
              "      <td>...</td>\n",
              "      <td>...</td>\n",
              "      <td>...</td>\n",
              "      <td>...</td>\n",
              "      <td>...</td>\n",
              "      <td>...</td>\n",
              "      <td>...</td>\n",
              "      <td>...</td>\n",
              "      <td>...</td>\n",
              "      <td>...</td>\n",
              "      <td>...</td>\n",
              "    </tr>\n",
              "    <tr>\n",
              "      <th>feature_764</th>\n",
              "      <td>-0.040330</td>\n",
              "      <td>0.005612</td>\n",
              "      <td>0.204807</td>\n",
              "      <td>0.103712</td>\n",
              "      <td>-0.087327</td>\n",
              "      <td>-0.174192</td>\n",
              "      <td>0.122454</td>\n",
              "      <td>0.012446</td>\n",
              "      <td>0.199985</td>\n",
              "      <td>0.171440</td>\n",
              "      <td>...</td>\n",
              "      <td>0.075743</td>\n",
              "      <td>0.065512</td>\n",
              "      <td>-0.313912</td>\n",
              "      <td>-0.196618</td>\n",
              "      <td>-0.114188</td>\n",
              "      <td>1.000000</td>\n",
              "      <td>0.208730</td>\n",
              "      <td>0.181622</td>\n",
              "      <td>0.405485</td>\n",
              "      <td>-0.009266</td>\n",
              "    </tr>\n",
              "    <tr>\n",
              "      <th>feature_765</th>\n",
              "      <td>0.132620</td>\n",
              "      <td>-0.068710</td>\n",
              "      <td>0.133835</td>\n",
              "      <td>0.100221</td>\n",
              "      <td>-0.063512</td>\n",
              "      <td>-0.345465</td>\n",
              "      <td>-0.002038</td>\n",
              "      <td>0.005804</td>\n",
              "      <td>0.053829</td>\n",
              "      <td>-0.116723</td>\n",
              "      <td>...</td>\n",
              "      <td>-0.103060</td>\n",
              "      <td>0.180543</td>\n",
              "      <td>-0.010908</td>\n",
              "      <td>-0.076788</td>\n",
              "      <td>0.228983</td>\n",
              "      <td>0.208730</td>\n",
              "      <td>1.000000</td>\n",
              "      <td>-0.204636</td>\n",
              "      <td>0.278358</td>\n",
              "      <td>-0.172730</td>\n",
              "    </tr>\n",
              "    <tr>\n",
              "      <th>feature_766</th>\n",
              "      <td>0.032706</td>\n",
              "      <td>-0.204834</td>\n",
              "      <td>-0.063354</td>\n",
              "      <td>0.006758</td>\n",
              "      <td>0.016875</td>\n",
              "      <td>-0.233690</td>\n",
              "      <td>0.282928</td>\n",
              "      <td>-0.105139</td>\n",
              "      <td>0.097498</td>\n",
              "      <td>0.391228</td>\n",
              "      <td>...</td>\n",
              "      <td>0.096985</td>\n",
              "      <td>0.293527</td>\n",
              "      <td>-0.266795</td>\n",
              "      <td>0.168379</td>\n",
              "      <td>-0.486373</td>\n",
              "      <td>0.181622</td>\n",
              "      <td>-0.204636</td>\n",
              "      <td>1.000000</td>\n",
              "      <td>0.388446</td>\n",
              "      <td>-0.065182</td>\n",
              "    </tr>\n",
              "    <tr>\n",
              "      <th>feature_767</th>\n",
              "      <td>0.035296</td>\n",
              "      <td>-0.350866</td>\n",
              "      <td>0.159975</td>\n",
              "      <td>0.034292</td>\n",
              "      <td>-0.031415</td>\n",
              "      <td>-0.350340</td>\n",
              "      <td>0.185927</td>\n",
              "      <td>0.045446</td>\n",
              "      <td>0.113304</td>\n",
              "      <td>0.265687</td>\n",
              "      <td>...</td>\n",
              "      <td>0.115303</td>\n",
              "      <td>0.274362</td>\n",
              "      <td>-0.343106</td>\n",
              "      <td>0.081103</td>\n",
              "      <td>-0.327079</td>\n",
              "      <td>0.405485</td>\n",
              "      <td>0.278358</td>\n",
              "      <td>0.388446</td>\n",
              "      <td>1.000000</td>\n",
              "      <td>-0.132940</td>\n",
              "    </tr>\n",
              "    <tr>\n",
              "      <th>feature_768</th>\n",
              "      <td>-0.039317</td>\n",
              "      <td>0.162593</td>\n",
              "      <td>0.217143</td>\n",
              "      <td>-0.128138</td>\n",
              "      <td>-0.203071</td>\n",
              "      <td>0.242545</td>\n",
              "      <td>-0.390389</td>\n",
              "      <td>-0.033126</td>\n",
              "      <td>0.020400</td>\n",
              "      <td>-0.093904</td>\n",
              "      <td>...</td>\n",
              "      <td>-0.012714</td>\n",
              "      <td>-0.117084</td>\n",
              "      <td>0.191413</td>\n",
              "      <td>0.091538</td>\n",
              "      <td>0.299900</td>\n",
              "      <td>-0.009266</td>\n",
              "      <td>-0.172730</td>\n",
              "      <td>-0.065182</td>\n",
              "      <td>-0.132940</td>\n",
              "      <td>1.000000</td>\n",
              "    </tr>\n",
              "  </tbody>\n",
              "</table>\n",
              "<p>768 rows × 768 columns</p>\n",
              "</div>\n",
              "    <div class=\"colab-df-buttons\">\n",
              "\n",
              "  <div class=\"colab-df-container\">\n",
              "    <button class=\"colab-df-convert\" onclick=\"convertToInteractive('df-edfbfa57-f7f4-4528-bca3-24aa30a6bf73')\"\n",
              "            title=\"Convert this dataframe to an interactive table.\"\n",
              "            style=\"display:none;\">\n",
              "\n",
              "  <svg xmlns=\"http://www.w3.org/2000/svg\" height=\"24px\" viewBox=\"0 -960 960 960\">\n",
              "    <path d=\"M120-120v-720h720v720H120Zm60-500h600v-160H180v160Zm220 220h160v-160H400v160Zm0 220h160v-160H400v160ZM180-400h160v-160H180v160Zm440 0h160v-160H620v160ZM180-180h160v-160H180v160Zm440 0h160v-160H620v160Z\"/>\n",
              "  </svg>\n",
              "    </button>\n",
              "\n",
              "  <style>\n",
              "    .colab-df-container {\n",
              "      display:flex;\n",
              "      gap: 12px;\n",
              "    }\n",
              "\n",
              "    .colab-df-convert {\n",
              "      background-color: #E8F0FE;\n",
              "      border: none;\n",
              "      border-radius: 50%;\n",
              "      cursor: pointer;\n",
              "      display: none;\n",
              "      fill: #1967D2;\n",
              "      height: 32px;\n",
              "      padding: 0 0 0 0;\n",
              "      width: 32px;\n",
              "    }\n",
              "\n",
              "    .colab-df-convert:hover {\n",
              "      background-color: #E2EBFA;\n",
              "      box-shadow: 0px 1px 2px rgba(60, 64, 67, 0.3), 0px 1px 3px 1px rgba(60, 64, 67, 0.15);\n",
              "      fill: #174EA6;\n",
              "    }\n",
              "\n",
              "    .colab-df-buttons div {\n",
              "      margin-bottom: 4px;\n",
              "    }\n",
              "\n",
              "    [theme=dark] .colab-df-convert {\n",
              "      background-color: #3B4455;\n",
              "      fill: #D2E3FC;\n",
              "    }\n",
              "\n",
              "    [theme=dark] .colab-df-convert:hover {\n",
              "      background-color: #434B5C;\n",
              "      box-shadow: 0px 1px 3px 1px rgba(0, 0, 0, 0.15);\n",
              "      filter: drop-shadow(0px 1px 2px rgba(0, 0, 0, 0.3));\n",
              "      fill: #FFFFFF;\n",
              "    }\n",
              "  </style>\n",
              "\n",
              "    <script>\n",
              "      const buttonEl =\n",
              "        document.querySelector('#df-edfbfa57-f7f4-4528-bca3-24aa30a6bf73 button.colab-df-convert');\n",
              "      buttonEl.style.display =\n",
              "        google.colab.kernel.accessAllowed ? 'block' : 'none';\n",
              "\n",
              "      async function convertToInteractive(key) {\n",
              "        const element = document.querySelector('#df-edfbfa57-f7f4-4528-bca3-24aa30a6bf73');\n",
              "        const dataTable =\n",
              "          await google.colab.kernel.invokeFunction('convertToInteractive',\n",
              "                                                    [key], {});\n",
              "        if (!dataTable) return;\n",
              "\n",
              "        const docLinkHtml = 'Like what you see? Visit the ' +\n",
              "          '<a target=\"_blank\" href=https://colab.research.google.com/notebooks/data_table.ipynb>data table notebook</a>'\n",
              "          + ' to learn more about interactive tables.';\n",
              "        element.innerHTML = '';\n",
              "        dataTable['output_type'] = 'display_data';\n",
              "        await google.colab.output.renderOutput(dataTable, element);\n",
              "        const docLink = document.createElement('div');\n",
              "        docLink.innerHTML = docLinkHtml;\n",
              "        element.appendChild(docLink);\n",
              "      }\n",
              "    </script>\n",
              "  </div>\n",
              "\n",
              "\n",
              "<div id=\"df-8df10f54-8afd-47b1-9e2e-fb3368c210b3\">\n",
              "  <button class=\"colab-df-quickchart\" onclick=\"quickchart('df-8df10f54-8afd-47b1-9e2e-fb3368c210b3')\"\n",
              "            title=\"Suggest charts.\"\n",
              "            style=\"display:none;\">\n",
              "\n",
              "<svg xmlns=\"http://www.w3.org/2000/svg\" height=\"24px\"viewBox=\"0 0 24 24\"\n",
              "     width=\"24px\">\n",
              "    <g>\n",
              "        <path d=\"M19 3H5c-1.1 0-2 .9-2 2v14c0 1.1.9 2 2 2h14c1.1 0 2-.9 2-2V5c0-1.1-.9-2-2-2zM9 17H7v-7h2v7zm4 0h-2V7h2v10zm4 0h-2v-4h2v4z\"/>\n",
              "    </g>\n",
              "</svg>\n",
              "  </button>\n",
              "\n",
              "<style>\n",
              "  .colab-df-quickchart {\n",
              "      --bg-color: #E8F0FE;\n",
              "      --fill-color: #1967D2;\n",
              "      --hover-bg-color: #E2EBFA;\n",
              "      --hover-fill-color: #174EA6;\n",
              "      --disabled-fill-color: #AAA;\n",
              "      --disabled-bg-color: #DDD;\n",
              "  }\n",
              "\n",
              "  [theme=dark] .colab-df-quickchart {\n",
              "      --bg-color: #3B4455;\n",
              "      --fill-color: #D2E3FC;\n",
              "      --hover-bg-color: #434B5C;\n",
              "      --hover-fill-color: #FFFFFF;\n",
              "      --disabled-bg-color: #3B4455;\n",
              "      --disabled-fill-color: #666;\n",
              "  }\n",
              "\n",
              "  .colab-df-quickchart {\n",
              "    background-color: var(--bg-color);\n",
              "    border: none;\n",
              "    border-radius: 50%;\n",
              "    cursor: pointer;\n",
              "    display: none;\n",
              "    fill: var(--fill-color);\n",
              "    height: 32px;\n",
              "    padding: 0;\n",
              "    width: 32px;\n",
              "  }\n",
              "\n",
              "  .colab-df-quickchart:hover {\n",
              "    background-color: var(--hover-bg-color);\n",
              "    box-shadow: 0 1px 2px rgba(60, 64, 67, 0.3), 0 1px 3px 1px rgba(60, 64, 67, 0.15);\n",
              "    fill: var(--button-hover-fill-color);\n",
              "  }\n",
              "\n",
              "  .colab-df-quickchart-complete:disabled,\n",
              "  .colab-df-quickchart-complete:disabled:hover {\n",
              "    background-color: var(--disabled-bg-color);\n",
              "    fill: var(--disabled-fill-color);\n",
              "    box-shadow: none;\n",
              "  }\n",
              "\n",
              "  .colab-df-spinner {\n",
              "    border: 2px solid var(--fill-color);\n",
              "    border-color: transparent;\n",
              "    border-bottom-color: var(--fill-color);\n",
              "    animation:\n",
              "      spin 1s steps(1) infinite;\n",
              "  }\n",
              "\n",
              "  @keyframes spin {\n",
              "    0% {\n",
              "      border-color: transparent;\n",
              "      border-bottom-color: var(--fill-color);\n",
              "      border-left-color: var(--fill-color);\n",
              "    }\n",
              "    20% {\n",
              "      border-color: transparent;\n",
              "      border-left-color: var(--fill-color);\n",
              "      border-top-color: var(--fill-color);\n",
              "    }\n",
              "    30% {\n",
              "      border-color: transparent;\n",
              "      border-left-color: var(--fill-color);\n",
              "      border-top-color: var(--fill-color);\n",
              "      border-right-color: var(--fill-color);\n",
              "    }\n",
              "    40% {\n",
              "      border-color: transparent;\n",
              "      border-right-color: var(--fill-color);\n",
              "      border-top-color: var(--fill-color);\n",
              "    }\n",
              "    60% {\n",
              "      border-color: transparent;\n",
              "      border-right-color: var(--fill-color);\n",
              "    }\n",
              "    80% {\n",
              "      border-color: transparent;\n",
              "      border-right-color: var(--fill-color);\n",
              "      border-bottom-color: var(--fill-color);\n",
              "    }\n",
              "    90% {\n",
              "      border-color: transparent;\n",
              "      border-bottom-color: var(--fill-color);\n",
              "    }\n",
              "  }\n",
              "</style>\n",
              "\n",
              "  <script>\n",
              "    async function quickchart(key) {\n",
              "      const quickchartButtonEl =\n",
              "        document.querySelector('#' + key + ' button');\n",
              "      quickchartButtonEl.disabled = true;  // To prevent multiple clicks.\n",
              "      quickchartButtonEl.classList.add('colab-df-spinner');\n",
              "      try {\n",
              "        const charts = await google.colab.kernel.invokeFunction(\n",
              "            'suggestCharts', [key], {});\n",
              "      } catch (error) {\n",
              "        console.error('Error during call to suggestCharts:', error);\n",
              "      }\n",
              "      quickchartButtonEl.classList.remove('colab-df-spinner');\n",
              "      quickchartButtonEl.classList.add('colab-df-quickchart-complete');\n",
              "    }\n",
              "    (() => {\n",
              "      let quickchartButtonEl =\n",
              "        document.querySelector('#df-8df10f54-8afd-47b1-9e2e-fb3368c210b3 button');\n",
              "      quickchartButtonEl.style.display =\n",
              "        google.colab.kernel.accessAllowed ? 'block' : 'none';\n",
              "    })();\n",
              "  </script>\n",
              "</div>\n",
              "    </div>\n",
              "  </div>\n"
            ]
          },
          "metadata": {},
          "execution_count": 32
        }
      ]
    },
    {
      "cell_type": "code",
      "source": [
        "# Using Pearson Correlation\n",
        "plt.figure(figsize=(12,10))\n",
        "cor = data_features.corr()\n",
        "sns.heatmap(cor, annot=True, cmap=plt.cm.CMRmap_r)\n",
        "plt.show()"
      ],
      "metadata": {
        "id": "qAWH7p7uCCPV"
      },
      "execution_count": null,
      "outputs": []
    },
    {
      "cell_type": "code",
      "source": [
        "def correlation(dataset, threshold):\n",
        "    correlated_pairs = set()\n",
        "    corr_matrix = dataset.corr()\n",
        "    for i in range(len(corr_matrix.columns)):\n",
        "        for j in range(i):\n",
        "            if abs(corr_matrix.iloc[i, j]) > threshold: # we are interested in absolute coeff value\n",
        "                colname = corr_matrix.columns[i]  # getting the name of column\n",
        "                rowname = corr_matrix.index[j]  # getting the name of row\n",
        "                correlated_pairs.add((rowname, colname))\n",
        "    return correlated_pairs\n",
        "\n",
        "def get_less_correlated_features(correlated_pairs, dataset, target_column):\n",
        "    less_correlated_features = {}\n",
        "\n",
        "    for (feature1, feature2) in correlated_pairs:\n",
        "        corr1 = dataset[feature1].corr(dataset[target_column])\n",
        "        corr2 = dataset[feature2].corr(dataset[target_column])\n",
        "\n",
        "        if abs(corr1) < abs(corr2):\n",
        "            correlated_pair = frozenset((feature1, feature2))  # Use a frozenset as the key\n",
        "            less_correlated_features[correlated_pair] = feature1\n",
        "        else:\n",
        "            correlated_pair = frozenset((feature1, feature2))  # Use a frozenset as the key\n",
        "            less_correlated_features[correlated_pair] = feature2\n",
        "\n",
        "    return less_correlated_features"
      ],
      "metadata": {
        "id": "YVXmDTTaCPjf"
      },
      "execution_count": 37,
      "outputs": []
    },
    {
      "cell_type": "code",
      "source": [
        "corr_feature_pairs = correlation(data_features, 0.9)\n",
        "corr_feature_pairs"
      ],
      "metadata": {
        "colab": {
          "base_uri": "https://localhost:8080/"
        },
        "id": "KgP4ZQwiCQn_",
        "outputId": "6359ead3-d56a-43ca-b989-e7236b738842"
      },
      "execution_count": 34,
      "outputs": [
        {
          "output_type": "execute_result",
          "data": {
            "text/plain": [
              "1"
            ]
          },
          "metadata": {},
          "execution_count": 34
        }
      ]
    },
    {
      "cell_type": "code",
      "source": [
        "less_correlated_features = get_less_correlated_features(corr_feature_pairs, train_data, \"label_1\")\n",
        "less_correlated_features"
      ],
      "metadata": {
        "colab": {
          "base_uri": "https://localhost:8080/"
        },
        "id": "-YZQnfekCjSm",
        "outputId": "7b6199ac-a2ab-493d-ccc8-57b00648862e"
      },
      "execution_count": 41,
      "outputs": [
        {
          "output_type": "execute_result",
          "data": {
            "text/plain": [
              "{frozenset({'feature_210', 'feature_609'}): 'feature_210'}"
            ]
          },
          "metadata": {},
          "execution_count": 41
        }
      ]
    },
    {
      "cell_type": "code",
      "source": [
        "corr_features = set(less_correlated_features.values())\n",
        "corr_features"
      ],
      "metadata": {
        "colab": {
          "base_uri": "https://localhost:8080/"
        },
        "id": "3uNd4sJKCrXE",
        "outputId": "5af62c6d-a940-42de-86d1-a30141650aee"
      },
      "execution_count": 42,
      "outputs": [
        {
          "output_type": "execute_result",
          "data": {
            "text/plain": [
              "{'feature_210'}"
            ]
          },
          "metadata": {},
          "execution_count": 42
        }
      ]
    },
    {
      "cell_type": "code",
      "source": [
        "new_features = data_features.drop(corr_features,axis=1)"
      ],
      "metadata": {
        "id": "TNBHAU0WCwyo"
      },
      "execution_count": 43,
      "outputs": []
    },
    {
      "cell_type": "code",
      "source": [
        "print(data_features.shape)\n",
        "print(new_features.shape)"
      ],
      "metadata": {
        "colab": {
          "base_uri": "https://localhost:8080/"
        },
        "id": "LdCzpp7CC0R0",
        "outputId": "740ee02a-72b0-498b-818c-617241190508"
      },
      "execution_count": 44,
      "outputs": [
        {
          "output_type": "stream",
          "name": "stdout",
          "text": [
            "(28520, 768)\n",
            "(28520, 767)\n"
          ]
        }
      ]
    },
    {
      "cell_type": "markdown",
      "source": [
        "## Train the model"
      ],
      "metadata": {
        "id": "m7M3OvIRNljE"
      }
    },
    {
      "cell_type": "code",
      "source": [
        "class SpeakerClassifierAfter(nn.Module):\n",
        "    def __init__(self, dropout_prob=0.5, weight_decay=1e-5):\n",
        "        super(SpeakerClassifierAfter, self).__init__()\n",
        "        self.linear1 = nn.Linear(767, 512)\n",
        "        self.linear2 = nn.Linear(512, 256)\n",
        "        self.linear3 = nn.Linear(256, 128)\n",
        "        self.linear4 = nn.Linear(128, 60)\n",
        "\n",
        "        # Set weight_decay for regularization\n",
        "        self.weight_decay = weight_decay\n",
        "\n",
        "    def forward(self, tensors):\n",
        "        output_l1 = torch.relu(self.linear1(tensors))\n",
        "        output_l2 = torch.relu(self.linear2(output_l1))\n",
        "        output_l3 = torch.relu(self.linear3(output_l2))\n",
        "        output_l4 = self.linear4(output_l3)\n",
        "        return output_l4\n",
        "\n",
        "    def l2_regularization_loss(self):\n",
        "        # Calculate L2 regularization loss for linear layers\n",
        "        l2_loss = 0.0\n",
        "        for param in self.parameters():\n",
        "            if param.requires_grad:\n",
        "                l2_loss += torch.norm(param, 2)\n",
        "        return self.weight_decay * l2_loss"
      ],
      "metadata": {
        "id": "ut4eI8yrFp01"
      },
      "execution_count": 55,
      "outputs": []
    },
    {
      "cell_type": "code",
      "source": [
        "X_train_after, X_test_after, y_train_after, y_test_after = train_test_split(new_features, label_1, test_size=0.2, stratify=label_1, random_state=2023)\n",
        "\n",
        "X_train_tensors_after = torch.tensor(X_train_after.values, dtype=torch.float32)\n",
        "print(X_train_tensors_after.shape)\n",
        "\n",
        "\n",
        "X_test_tensors_after = torch.tensor(X_test_after.values, dtype=torch.float32)\n",
        "print(X_test_tensors_after.shape)"
      ],
      "metadata": {
        "colab": {
          "base_uri": "https://localhost:8080/"
        },
        "id": "_ULXXHutGBeZ",
        "outputId": "e0396762-4492-4dd1-afd9-1f30f414fe24"
      },
      "execution_count": 58,
      "outputs": [
        {
          "output_type": "stream",
          "name": "stdout",
          "text": [
            "torch.Size([22816, 767])\n",
            "torch.Size([5704, 767])\n"
          ]
        }
      ]
    },
    {
      "cell_type": "code",
      "source": [
        "y_train_after.shape"
      ],
      "metadata": {
        "colab": {
          "base_uri": "https://localhost:8080/"
        },
        "id": "46RCTxTQHymV",
        "outputId": "8da308be-8417-4745-bc81-b40fbf460819"
      },
      "execution_count": 59,
      "outputs": [
        {
          "output_type": "execute_result",
          "data": {
            "text/plain": [
              "(22816, 60)"
            ]
          },
          "metadata": {},
          "execution_count": 59
        }
      ]
    },
    {
      "cell_type": "code",
      "source": [
        "# Create an instance of the FakeBERT model\n",
        "speakerClassifierAfter = SpeakerClassifierAfter()\n",
        "\n",
        "# Define a cross-entropy loss function\n",
        "criterion = nn.CrossEntropyLoss()\n",
        "\n",
        "# Create a DataLoader for batching\n",
        "batch_size = 128\n",
        "dataset = TensorDataset(X_train_tensors_after, torch.tensor(y_train_after))\n",
        "dataloader = DataLoader(dataset, batch_size=batch_size, shuffle=True)\n",
        "\n",
        "# Define an optimizer\n",
        "optimizer = torch.optim.Adam(speakerClassifierAfter.parameters(), lr=0.001)\n",
        "\n",
        "# Define early stopping parameters\n",
        "patience = 25\n",
        "best_validation_accuracy = 0\n",
        "no_improvement_counter = 0\n",
        "\n",
        "# Training loop\n",
        "epochs = 1000\n",
        "for epoch in range(epochs):\n",
        "\n",
        "    for inputs, targets in dataloader:\n",
        "        optimizer.zero_grad()\n",
        "        outputs = speakerClassifierAfter(inputs)\n",
        "\n",
        "        ce_loss = criterion(outputs, targets)\n",
        "        l2_loss = speakerClassifierAfter.l2_regularization_loss()\n",
        "\n",
        "        total_loss = ce_loss + l2_loss\n",
        "\n",
        "        total_loss.backward()\n",
        "        optimizer.step()\n",
        "\n",
        "    # Validation step (evaluate on validation dataset)\n",
        "    with torch.no_grad():\n",
        "        speakerClassifierAfter.eval()\n",
        "        y_test_pred_after = speakerClassifierAfter(X_test_tensors_after)\n",
        "        ce = criterion(y_test_pred_after, torch.tensor(y_test_after))\n",
        "        acc = (torch.argmax(y_test_pred_after, 1) == torch.argmax(torch.tensor(y_test_after), 1)).float().mean()\n",
        "        speakerClassifierAfter.train()\n",
        "\n",
        "    print(f\"Epoch {epoch} validation: Cross-entropy={float(ce)}, Accuracy={float(acc)}\")\n",
        "\n",
        "    # Check for early stopping\n",
        "    if acc > best_validation_accuracy:\n",
        "        best_validation_accuracy = acc\n",
        "        no_improvement_counter = 0\n",
        "        # Save the trained best model if needed\n",
        "        torch.save(speakerClassifierAfter.state_dict(), 'speakerClassifierAfter_model.pth')\n",
        "    else:\n",
        "        no_improvement_counter += 1\n",
        "\n",
        "    # If no improvement for 'patience' consecutive epochs, stop training\n",
        "    if no_improvement_counter >= patience:\n",
        "        print(\"Early stopping triggered. Training stopped.\")\n",
        "        break"
      ],
      "metadata": {
        "colab": {
          "base_uri": "https://localhost:8080/"
        },
        "id": "jeJTeyQBGk3n",
        "outputId": "ab0bed0f-2df5-46ac-e4d8-64607f492a8a"
      },
      "execution_count": 61,
      "outputs": [
        {
          "output_type": "stream",
          "name": "stdout",
          "text": [
            "Epoch 0 validation: Cross-entropy=1.6147941280695837, Accuracy=0.5042075514793396\n",
            "Epoch 1 validation: Cross-entropy=1.0230065938041413, Accuracy=0.6818022727966309\n",
            "Epoch 2 validation: Cross-entropy=0.8253696278778291, Accuracy=0.739656388759613\n",
            "Epoch 3 validation: Cross-entropy=0.6631468157329805, Accuracy=0.799964964389801\n",
            "Epoch 4 validation: Cross-entropy=0.6138733464962771, Accuracy=0.8125876784324646\n",
            "Epoch 5 validation: Cross-entropy=0.5024200666432707, Accuracy=0.85326087474823\n",
            "Epoch 6 validation: Cross-entropy=0.5088972061485371, Accuracy=0.8499298691749573\n",
            "Epoch 7 validation: Cross-entropy=0.4223104331997433, Accuracy=0.8797335028648376\n",
            "Epoch 8 validation: Cross-entropy=0.38888791717624127, Accuracy=0.8816620111465454\n",
            "Epoch 9 validation: Cross-entropy=0.4198197602824701, Accuracy=0.8737727999687195\n",
            "Epoch 10 validation: Cross-entropy=0.37935624420687303, Accuracy=0.885343611240387\n",
            "Epoch 11 validation: Cross-entropy=0.36185815648436725, Accuracy=0.8899018168449402\n",
            "Epoch 12 validation: Cross-entropy=0.3865928643774188, Accuracy=0.8911290168762207\n",
            "Epoch 13 validation: Cross-entropy=0.32646566353535694, Accuracy=0.905154287815094\n",
            "Epoch 14 validation: Cross-entropy=0.3337480197807529, Accuracy=0.905680239200592\n",
            "Epoch 15 validation: Cross-entropy=0.31064316364948724, Accuracy=0.9118162989616394\n",
            "Epoch 16 validation: Cross-entropy=0.30719151517489757, Accuracy=0.9114656448364258\n",
            "Epoch 17 validation: Cross-entropy=0.37645866050702825, Accuracy=0.9067321419715881\n",
            "Epoch 18 validation: Cross-entropy=0.30190310625275985, Accuracy=0.9142706990242004\n",
            "Epoch 19 validation: Cross-entropy=0.30673248862833724, Accuracy=0.917952299118042\n",
            "Epoch 20 validation: Cross-entropy=0.30004381661669377, Accuracy=0.9204067587852478\n",
            "Epoch 21 validation: Cross-entropy=0.32770057993939355, Accuracy=0.9156731963157654\n",
            "Epoch 22 validation: Cross-entropy=0.35265725265635667, Accuracy=0.9053295850753784\n",
            "Epoch 23 validation: Cross-entropy=0.41506678462154173, Accuracy=0.8974403738975525\n",
            "Epoch 24 validation: Cross-entropy=0.3162671405067483, Accuracy=0.9218092560768127\n",
            "Epoch 25 validation: Cross-entropy=0.3771234131055637, Accuracy=0.9095371961593628\n",
            "Epoch 26 validation: Cross-entropy=0.33674801322887177, Accuracy=0.915497899055481\n",
            "Epoch 27 validation: Cross-entropy=0.3525853442724288, Accuracy=0.9163744449615479\n",
            "Epoch 28 validation: Cross-entropy=0.3814501450378712, Accuracy=0.913569450378418\n",
            "Epoch 29 validation: Cross-entropy=0.3125005701094141, Accuracy=0.9279453158378601\n",
            "Epoch 30 validation: Cross-entropy=0.39146389032492346, Accuracy=0.9130434989929199\n",
            "Epoch 31 validation: Cross-entropy=0.305473567302985, Accuracy=0.9309256672859192\n",
            "Epoch 32 validation: Cross-entropy=0.34468571884769145, Accuracy=0.9200561046600342\n",
            "Epoch 33 validation: Cross-entropy=0.3670377519684523, Accuracy=0.9223352074623108\n",
            "Epoch 34 validation: Cross-entropy=0.3547621235615358, Accuracy=0.9169003963470459\n",
            "Epoch 35 validation: Cross-entropy=0.3387927842338934, Accuracy=0.926893413066864\n",
            "Epoch 36 validation: Cross-entropy=0.34262705612965294, Accuracy=0.9275946617126465\n",
            "Epoch 37 validation: Cross-entropy=0.341561645657907, Accuracy=0.9275946617126465\n",
            "Epoch 38 validation: Cross-entropy=0.32810513157262067, Accuracy=0.9281206130981445\n",
            "Epoch 39 validation: Cross-entropy=0.36626292121388776, Accuracy=0.9207573533058167\n",
            "Epoch 40 validation: Cross-entropy=0.30940189742410434, Accuracy=0.9302244186401367\n",
            "Epoch 41 validation: Cross-entropy=0.30101185898431637, Accuracy=0.935834527015686\n",
            "Epoch 42 validation: Cross-entropy=0.3900445786071981, Accuracy=0.9219845533370972\n",
            "Epoch 43 validation: Cross-entropy=0.3284354050208788, Accuracy=0.9300490617752075\n",
            "Epoch 44 validation: Cross-entropy=0.39897731372769435, Accuracy=0.9205820560455322\n",
            "Epoch 45 validation: Cross-entropy=0.3584177792594369, Accuracy=0.926367461681366\n",
            "Epoch 46 validation: Cross-entropy=0.3359623063603531, Accuracy=0.9370617270469666\n",
            "Epoch 47 validation: Cross-entropy=0.39326118963595896, Accuracy=0.9216339588165283\n",
            "Epoch 48 validation: Cross-entropy=0.41959363001233896, Accuracy=0.9191794991493225\n",
            "Epoch 49 validation: Cross-entropy=0.33956808157250007, Accuracy=0.9302244186401367\n",
            "Epoch 50 validation: Cross-entropy=0.3728699224768953, Accuracy=0.928821861743927\n",
            "Epoch 51 validation: Cross-entropy=0.3644649050994533, Accuracy=0.9319775700569153\n",
            "Epoch 52 validation: Cross-entropy=0.3640790199900681, Accuracy=0.9311009645462036\n",
            "Epoch 53 validation: Cross-entropy=0.43100999525228634, Accuracy=0.9183029532432556\n",
            "Epoch 54 validation: Cross-entropy=0.3786151217351277, Accuracy=0.9261921644210815\n",
            "Epoch 55 validation: Cross-entropy=0.3228127593454626, Accuracy=0.9417952299118042\n",
            "Epoch 56 validation: Cross-entropy=0.37929211812577124, Accuracy=0.9221599102020264\n",
            "Epoch 57 validation: Cross-entropy=0.3552922168493519, Accuracy=0.9360098242759705\n",
            "Epoch 58 validation: Cross-entropy=0.31720187359612345, Accuracy=0.9423211812973022\n",
            "Epoch 59 validation: Cross-entropy=0.34952847358525235, Accuracy=0.9305750131607056\n",
            "Epoch 60 validation: Cross-entropy=0.3689539177564374, Accuracy=0.9347826242446899\n",
            "Epoch 61 validation: Cross-entropy=0.3341167739402331, Accuracy=0.9386395215988159\n",
            "Epoch 62 validation: Cross-entropy=0.3814141309721984, Accuracy=0.9247896075248718\n",
            "Epoch 63 validation: Cross-entropy=0.3246289879779631, Accuracy=0.9407433271408081\n",
            "Epoch 64 validation: Cross-entropy=0.4144454263679848, Accuracy=0.9246143102645874\n",
            "Epoch 65 validation: Cross-entropy=0.42307876379792175, Accuracy=0.924439013004303\n",
            "Epoch 66 validation: Cross-entropy=0.36203339345763597, Accuracy=0.9300490617752075\n",
            "Epoch 67 validation: Cross-entropy=0.3393555030503392, Accuracy=0.9347826242446899\n",
            "Epoch 68 validation: Cross-entropy=0.3084395525612473, Accuracy=0.9460027813911438\n",
            "Epoch 69 validation: Cross-entropy=0.3930499925659575, Accuracy=0.9349579215049744\n",
            "Epoch 70 validation: Cross-entropy=0.42836370880313707, Accuracy=0.9233871102333069\n",
            "Epoch 71 validation: Cross-entropy=0.4128738340440437, Accuracy=0.9274193644523621\n",
            "Epoch 72 validation: Cross-entropy=0.3783639666793505, Accuracy=0.9347826242446899\n",
            "Epoch 73 validation: Cross-entropy=0.4024070737444663, Accuracy=0.9295231699943542\n",
            "Epoch 74 validation: Cross-entropy=0.340624781685521, Accuracy=0.9447755813598633\n",
            "Epoch 75 validation: Cross-entropy=0.39398699628736883, Accuracy=0.9340813755989075\n",
            "Epoch 76 validation: Cross-entropy=0.3980484605290386, Accuracy=0.9319775700569153\n",
            "Epoch 77 validation: Cross-entropy=0.38067966003639503, Accuracy=0.9328541159629822\n",
            "Epoch 78 validation: Cross-entropy=0.4400364938829876, Accuracy=0.9251402616500854\n",
            "Epoch 79 validation: Cross-entropy=0.4179999059363839, Accuracy=0.9295231699943542\n",
            "Epoch 80 validation: Cross-entropy=0.3538203476197537, Accuracy=0.9363604784011841\n",
            "Epoch 81 validation: Cross-entropy=0.3442684382199672, Accuracy=0.9447755813598633\n",
            "Epoch 82 validation: Cross-entropy=0.37665570689739575, Accuracy=0.935308575630188\n",
            "Epoch 83 validation: Cross-entropy=0.3502426826124514, Accuracy=0.9412692785263062\n",
            "Epoch 84 validation: Cross-entropy=0.3643732525632074, Accuracy=0.9402173757553101\n",
            "Epoch 85 validation: Cross-entropy=0.3927267945890287, Accuracy=0.9379382729530334\n",
            "Epoch 86 validation: Cross-entropy=0.3791594831660851, Accuracy=0.9379382729530334\n",
            "Epoch 87 validation: Cross-entropy=0.44993957832745546, Accuracy=0.9258415102958679\n",
            "Epoch 88 validation: Cross-entropy=0.39519594492118953, Accuracy=0.9325035214424133\n",
            "Epoch 89 validation: Cross-entropy=0.3526635708714494, Accuracy=0.9414445757865906\n",
            "Epoch 90 validation: Cross-entropy=0.4603393758929767, Accuracy=0.9247896075248718\n",
            "Epoch 91 validation: Cross-entropy=0.4054203286051292, Accuracy=0.9360098242759705\n",
            "Epoch 92 validation: Cross-entropy=0.38598509830271016, Accuracy=0.9367110729217529\n",
            "Epoch 93 validation: Cross-entropy=0.4429521951786545, Accuracy=0.9323281645774841\n",
            "Early stopping triggered. Training stopped.\n"
          ]
        }
      ]
    },
    {
      "cell_type": "code",
      "source": [
        "# Create an instance of the model\n",
        "speakerClassifierAfter = SpeakerClassifierAfter()\n",
        "\n",
        "# Load the saved model state dictionary\n",
        "speakerClassifierAfter.load_state_dict(torch.load('/content/drive/Shareddrives/test/ML _Project/speakerClassifierAfter_model.pth'))\n",
        "\n",
        "# Validation step (evaluate on validation dataset)\n",
        "with torch.no_grad():\n",
        "    speakerClassifierAfter.eval()\n",
        "    y_test_pred = speakerClassifierAfter(X_test_tensors_after)\n",
        "    ce = criterion(y_test_pred, torch.tensor(y_test))\n",
        "    acc = (torch.argmax(y_test_pred, 1) == torch.argmax(torch.tensor(y_test), 1)).float().mean()\n",
        "\n",
        "print(f\"Best model validation: Cross-entropy={float(ce)}, Accuracy={float(acc)}\")\n"
      ],
      "metadata": {
        "colab": {
          "base_uri": "https://localhost:8080/"
        },
        "id": "GOFZjKAmMSJy",
        "outputId": "30fff905-d470-4bf4-9def-0def3989c8c9"
      },
      "execution_count": 64,
      "outputs": [
        {
          "output_type": "stream",
          "name": "stdout",
          "text": [
            "Best model validation: Cross-entropy=0.3084395525612473, Accuracy=0.9460027813911438\n"
          ]
        }
      ]
    },
    {
      "cell_type": "markdown",
      "source": [
        "## Evaluation of the Model"
      ],
      "metadata": {
        "id": "J4XWg1l_NqCj"
      }
    },
    {
      "cell_type": "code",
      "source": [
        "# Set your model to evaluation mode\n",
        "speakerClassifier.eval()\n",
        "\n",
        "new_features_valid = valid_data.iloc[:, :768].drop(corr_features,axis=1)\n",
        "X_valid_tensors_after = torch.tensor(new_features_valid.values, dtype=torch.float32)\n",
        "print(X_valid_tensors_after.shape)\n",
        "\n",
        "y_pred = speakerClassifierAfter(X_valid_tensors_after)\n",
        "ce = criterion(y_pred, torch.tensor(label_1_eval))\n",
        "acc = (torch.argmax(y_pred, 1) == torch.argmax(torch.tensor(label_1_eval), 1)).float().mean()\n",
        "print(f\"Cross-entropy={float(ce)}, Test Accuracy={float(acc)}\")"
      ],
      "metadata": {
        "colab": {
          "base_uri": "https://localhost:8080/"
        },
        "id": "jBP_mvpXMqJW",
        "outputId": "73e41b12-62a2-4279-f62b-7a6d651848dc"
      },
      "execution_count": 66,
      "outputs": [
        {
          "output_type": "stream",
          "name": "stdout",
          "text": [
            "torch.Size([750, 767])\n",
            "Cross-entropy=0.25500828965253247, Test Accuracy=0.9599999785423279\n"
          ]
        }
      ]
    }
  ]
}