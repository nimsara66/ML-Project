{
  "nbformat": 4,
  "nbformat_minor": 0,
  "metadata": {
    "colab": {
      "provenance": [],
      "mount_file_id": "1sr-fTGqlQ049IdTjrYEhT693ChzoPgdz",
      "authorship_tag": "ABX9TyMTInWBaxQz8uXT+k7mDCxQ",
      "include_colab_link": true
    },
    "kernelspec": {
      "name": "python3",
      "display_name": "Python 3"
    },
    "language_info": {
      "name": "python"
    }
  },
  "cells": [
    {
      "cell_type": "markdown",
      "metadata": {
        "id": "view-in-github",
        "colab_type": "text"
      },
      "source": [
        "<a href=\"https://colab.research.google.com/github/nimsara66/ML-Project/blob/main/Speech_based_Classification_Layer_9_Label_2.ipynb\" target=\"_parent\"><img src=\"https://colab.research.google.com/assets/colab-badge.svg\" alt=\"Open In Colab\"/></a>"
      ]
    },
    {
      "cell_type": "markdown",
      "source": [
        "# Library Imports"
      ],
      "metadata": {
        "id": "-fJeqxkY7Y1p"
      }
    },
    {
      "cell_type": "code",
      "source": [
        "import pandas as pd\n",
        "import numpy as np\n",
        "import matplotlib.pyplot as plt\n",
        "import torch\n",
        "import torch.nn as nn\n",
        "import torch.nn.functional as F\n",
        "from torch.utils.data import DataLoader, TensorDataset\n",
        "from sklearn.preprocessing import OneHotEncoder\n",
        "from sklearn.model_selection import train_test_split\n",
        "from sklearn.feature_selection import VarianceThreshold\n",
        "import seaborn as sns\n",
        "from sklearn.metrics import confusion_matrix, classification_report, accuracy_score"
      ],
      "metadata": {
        "id": "W2isdk-z7c_a"
      },
      "execution_count": 1,
      "outputs": []
    },
    {
      "cell_type": "markdown",
      "source": [
        "# Import Datasets"
      ],
      "metadata": {
        "id": "ibLreehg7RM0"
      }
    },
    {
      "cell_type": "code",
      "source": [
        "train_csv_url = \"/content/drive/MyDrive/#Semester07/CS4622/ML Project/speech-based-classification-layer-9/train.csv\"\n",
        "valid_csv_url = \"/content/drive/MyDrive/#Semester07/CS4622/ML Project/speech-based-classification-layer-9/valid.csv\"\n",
        "test_csv_url = \"/content/drive/MyDrive/#Semester07/CS4622/ML Project/speech-based-classification-layer-9/test.csv\"\n",
        "\n",
        "train_data = pd.read_csv(train_csv_url)\n",
        "valid_data = pd.read_csv(valid_csv_url)\n",
        "test_data = pd.read_csv(test_csv_url)\n",
        "\n",
        "print(\"Train data:\")\n",
        "print(train_data.head())\n",
        "print(\"Valid data:\")\n",
        "print(valid_data.head())\n",
        "print(\"Test data:\")\n",
        "print(test_data.head())"
      ],
      "metadata": {
        "colab": {
          "base_uri": "https://localhost:8080/"
        },
        "id": "7X2KG96u7XP2",
        "outputId": "67781c7e-45fa-4f97-8e4f-f1deba60f958"
      },
      "execution_count": 2,
      "outputs": [
        {
          "output_type": "stream",
          "name": "stdout",
          "text": [
            "Train data:\n",
            "   feature_1  feature_2  feature_3  feature_4  feature_5  feature_6  \\\n",
            "0   0.019301   0.059756   0.081375   0.057481  -0.068440  -0.165913   \n",
            "1   0.049741   0.090030   0.035118  -0.013676  -0.194317  -0.101763   \n",
            "2   0.019212   0.087779   0.093907  -0.033738  -0.141409  -0.062881   \n",
            "3   0.070283   0.049040   0.042126   0.122637  -0.056964  -0.113700   \n",
            "4   0.028864   0.165634   0.016302   0.036117  -0.028871  -0.147748   \n",
            "\n",
            "   feature_7  feature_8  feature_9  feature_10  ...  feature_763  feature_764  \\\n",
            "0   0.035643  -0.091138   0.021688    0.057158  ...    -0.035576     0.127319   \n",
            "1   0.085875  -0.081317   0.112418    0.120523  ...     0.020538     0.058968   \n",
            "2  -0.071402  -0.006599   0.020372   -0.027777  ...     0.119645    -0.040861   \n",
            "3   0.108454   0.051336   0.086610    0.141578  ...    -0.124494    -0.169225   \n",
            "4   0.053180   0.025071  -0.004200   -0.022183  ...    -0.124862     0.044907   \n",
            "\n",
            "   feature_765  feature_766  feature_767  feature_768  label_1  label_2  \\\n",
            "0     0.098128    -0.058787     0.100971    -0.047754       45      NaN   \n",
            "1     0.029803     0.111324     0.036727     0.031927       45      NaN   \n",
            "2     0.000548    -0.061003    -0.042450     0.063340       45      NaN   \n",
            "3    -0.046391     0.148787     0.014616    -0.140644       45      NaN   \n",
            "4     0.084005    -0.038450     0.084371    -0.072146       45      NaN   \n",
            "\n",
            "   label_3  label_4  \n",
            "0        1        6  \n",
            "1        1        6  \n",
            "2        1        6  \n",
            "3        1        6  \n",
            "4        1        6  \n",
            "\n",
            "[5 rows x 772 columns]\n",
            "Valid data:\n",
            "   feature_1  feature_2  feature_3  feature_4  feature_5  feature_6  \\\n",
            "0  -0.130454   0.103857   0.130866  -0.036366  -0.152212  -0.072316   \n",
            "1   0.019179   0.104888   0.079487   0.005187  -0.134111  -0.109271   \n",
            "2  -0.028485   0.051889   0.033343  -0.029115  -0.091265  -0.038653   \n",
            "3  -0.078959   0.082325   0.068852  -0.028885  -0.146059  -0.071453   \n",
            "4   0.001748   0.050968  -0.034524   0.074153   0.063857  -0.133338   \n",
            "\n",
            "   feature_7  feature_8  feature_9  feature_10  ...  feature_763  feature_764  \\\n",
            "0  -0.041838  -0.019596   0.038727    0.022496  ...     0.129246     0.018913   \n",
            "1   0.054558  -0.083966  -0.000091    0.083015  ...    -0.031823     0.061069   \n",
            "2   0.113460  -0.057983   0.128808    0.062455  ...    -0.033106    -0.007366   \n",
            "3  -0.028955   0.031253   0.034923    0.019338  ...     0.164456    -0.025891   \n",
            "4   0.102604  -0.031676   0.010629   -0.018684  ...    -0.102749     0.022433   \n",
            "\n",
            "   feature_765  feature_766  feature_767  feature_768  label_1  label_2  \\\n",
            "0     0.013387    -0.054259     0.006282     0.049646       45      NaN   \n",
            "1     0.036411     0.101357     0.088504     0.008192       45      NaN   \n",
            "2    -0.027673     0.052090     0.044097     0.054422       45      NaN   \n",
            "3     0.037993     0.012060    -0.044266     0.045405       45      NaN   \n",
            "4     0.018421     0.086064     0.075351    -0.067089       45      NaN   \n",
            "\n",
            "   label_3  label_4  \n",
            "0        1        6  \n",
            "1        1        6  \n",
            "2        1        6  \n",
            "3        1        6  \n",
            "4        1        6  \n",
            "\n",
            "[5 rows x 772 columns]\n",
            "Test data:\n",
            "   ID  feature_1  feature_2  feature_3  feature_4  feature_5  feature_6  \\\n",
            "0   1   0.013112   0.130904   0.020284   0.063018  -0.034321  -0.073516   \n",
            "1   2   0.005934   0.138592  -0.007000   0.055925  -0.021927  -0.084788   \n",
            "2   3  -0.067210   0.078710  -0.044344   0.101248  -0.074331  -0.088951   \n",
            "3   4  -0.005678   0.060703   0.033954   0.068771  -0.039923  -0.186583   \n",
            "4   5  -0.076360   0.061095  -0.004938   0.066692  -0.040454  -0.005141   \n",
            "\n",
            "   feature_7  feature_8  feature_9  ...  feature_759  feature_760  \\\n",
            "0  -0.030659  -0.064994   0.024153  ...     0.037803     0.241121   \n",
            "1   0.013339   0.060811  -0.011344  ...    -0.098701     0.042921   \n",
            "2   0.074616   0.007231   0.021091  ...     0.029569     0.053370   \n",
            "3   0.014921   0.020791   0.017441  ...    -0.095406     0.018405   \n",
            "4  -0.003213   0.025721   0.083558  ...    -0.003129     0.045479   \n",
            "\n",
            "   feature_761  feature_762  feature_763  feature_764  feature_765  \\\n",
            "0     0.079949    -0.186099    -0.096718     0.126006    -0.023069   \n",
            "1     0.018571    -0.114785    -0.105186     0.059050     0.021443   \n",
            "2     0.096232    -0.369018    -0.066708    -0.003730    -0.063339   \n",
            "3    -0.018047    -0.080393    -0.114030     0.048255     0.033839   \n",
            "4     0.057146    -0.194466     0.000739     0.018702     0.013192   \n",
            "\n",
            "   feature_766  feature_767  feature_768  \n",
            "0     0.190374     0.146516     0.038047  \n",
            "1     0.013027     0.046826    -0.026682  \n",
            "2    -0.044497    -0.024363    -0.042594  \n",
            "3     0.035026    -0.047988    -0.038252  \n",
            "4    -0.038486     0.033358    -0.038452  \n",
            "\n",
            "[5 rows x 769 columns]\n"
          ]
        }
      ]
    },
    {
      "cell_type": "markdown",
      "source": [
        "# Data Visualization"
      ],
      "metadata": {
        "id": "ONkuJldC7Kjq"
      }
    },
    {
      "cell_type": "code",
      "execution_count": 5,
      "metadata": {
        "id": "dCzSAdL064FB"
      },
      "outputs": [],
      "source": [
        "def visualize_label(y, title, x_title, y_title='Number of entries'):\n",
        "  unique_classes, class_counts = np.unique(y, return_counts=True)\n",
        "  plt.bar(unique_classes, class_counts)\n",
        "  plt.xlabel(x_title)\n",
        "  plt.ylabel(y_title)\n",
        "  plt.title(title)\n",
        "  plt.show()"
      ]
    },
    {
      "cell_type": "code",
      "source": [
        "visualize_label(train_data['label_2'], \"Number of rows versus Age\",\"Age\")"
      ],
      "metadata": {
        "colab": {
          "base_uri": "https://localhost:8080/",
          "height": 472
        },
        "id": "lVKQPrgl8VEM",
        "outputId": "040594d3-d728-47e6-98c7-8232ec9b7e6b"
      },
      "execution_count": 7,
      "outputs": [
        {
          "output_type": "display_data",
          "data": {
            "text/plain": [
              "<Figure size 640x480 with 1 Axes>"
            ],
            "image/png": "[encoded data removed]"
          },
          "metadata": {}
        }
      ]
    },
    {
      "cell_type": "code",
      "source": [
        "visualize_label(valid_data['label_2'], \"Number of rows versus Age\",\"Age\")"
      ],
      "metadata": {
        "colab": {
          "base_uri": "https://localhost:8080/",
          "height": 472
        },
        "id": "P6R0boOC87OG",
        "outputId": "39734cd6-bdf1-4e04-c95d-5c6ecdfe168d"
      },
      "execution_count": 8,
      "outputs": [
        {
          "output_type": "display_data",
          "data": {
            "text/plain": [
              "<Figure size 640x480 with 1 Axes>"
            ],
            "image/png": "[encoded data removed]"
          },
          "metadata": {}
        }
      ]
    },
    {
      "cell_type": "markdown",
      "source": [
        "# Outlier Detection and Removal"
      ],
      "metadata": {
        "id": "tpusrJOMDSx0"
      }
    },
    {
      "cell_type": "code",
      "source": [
        "from scipy.stats import norm\n",
        "\n",
        "def visualize_label_norm(y, title, x_title, y_title='Number of entries'):\n",
        "  unique_classes, class_counts = np.unique(y, return_counts=True)\n",
        "  plt.bar(unique_classes, class_counts)\n",
        "  plt.xlabel(x_title)\n",
        "  plt.ylabel(y_title)\n",
        "  plt.title(title)\n",
        "\n",
        "  rng = np.arange(train_data[\"label_2\"].min(), train_data[\"label_2\"].max(), 0.1)\n",
        "  plt.plot(rng, norm.pdf(rng,train_data[\"label_2\"].mean(),train_data[\"label_2\"].std()))\n",
        "  plt.show()"
      ],
      "metadata": {
        "id": "aSCCdnGiDU7J"
      },
      "execution_count": 17,
      "outputs": []
    },
    {
      "cell_type": "code",
      "source": [
        "visualize_label_norm(train_data['label_2'], \"Number of rows versus Age\",\"Age\")"
      ],
      "metadata": {
        "colab": {
          "base_uri": "https://localhost:8080/",
          "height": 472
        },
        "id": "5zXbFThOEXxW",
        "outputId": "96eeebed-8999-4a98-ebe4-afbb2444d39e"
      },
      "execution_count": 18,
      "outputs": [
        {
          "output_type": "display_data",
          "data": {
            "text/plain": [
              "<Figure size 640x480 with 1 Axes>"
            ],
            "image/png": "[encoded data removed]"
          },
          "metadata": {}
        }
      ]
    },
    {
      "cell_type": "code",
      "source": [
        "train_data['zscore'] = ( train_data[\"label_2\"] - train_data[\"label_2\"].mean() ) / train_data[\"label_2\"].std()\n",
        "outliers = train_data[(train_data.zscore<-3) | (train_data.zscore>3)]\n",
        "outliers.shape"
      ],
      "metadata": {
        "colab": {
          "base_uri": "https://localhost:8080/"
        },
        "id": "qaYx8OAeFOVi",
        "outputId": "a7d92741-011e-40c6-ddc5-65292537a6a8"
      },
      "execution_count": 19,
      "outputs": [
        {
          "output_type": "execute_result",
          "data": {
            "text/plain": [
              "(467, 773)"
            ]
          },
          "metadata": {},
          "execution_count": 19
        }
      ]
    },
    {
      "cell_type": "markdown",
      "source": [
        "467 outliers to remove"
      ],
      "metadata": {
        "id": "JbFT-37lFgnA"
      }
    },
    {
      "cell_type": "markdown",
      "source": [
        "# Train without Feaure Reduction"
      ],
      "metadata": {
        "id": "1xBztUNn9IiC"
      }
    },
    {
      "cell_type": "code",
      "source": [
        "print(f\"train_data dataset shape {train_data.shape}\")\n",
        "print(f\"# of missing values {train_data['label_2'].isna().sum()}\")\n",
        "print(f\"# of labels {train_data['label_2'].value_counts().shape[0]}\")\n",
        "print(f\"label summary\\n{train_data['label_2'].value_counts()}\")"
      ],
      "metadata": {
        "colab": {
          "base_uri": "https://localhost:8080/"
        },
        "id": "YPnQDUZw9BaM",
        "outputId": "1022c9d6-b881-4f2a-bfc1-0372877f75db"
      },
      "execution_count": 21,
      "outputs": [
        {
          "output_type": "stream",
          "name": "stdout",
          "text": [
            "train_data dataset shape (28520, 773)\n",
            "# of missing values 480\n",
            "# of labels 17\n",
            "label summary\n",
            "26.0    4762\n",
            "25.0    2849\n",
            "27.0    2846\n",
            "23.0    2842\n",
            "31.0    2385\n",
            "24.0    1906\n",
            "28.0    1899\n",
            "30.0    1894\n",
            "22.0    1432\n",
            "29.0    1424\n",
            "33.0     945\n",
            "36.0     481\n",
            "35.0     480\n",
            "34.0     478\n",
            "32.0     476\n",
            "41.0     474\n",
            "61.0     467\n",
            "Name: label_2, dtype: int64\n"
          ]
        }
      ]
    },
    {
      "cell_type": "code",
      "source": [
        "train_data.dropna(subset=['label_2'], inplace=True)\n",
        "print(f\"train_data dataset shape {train_data.shape}\")"
      ],
      "metadata": {
        "colab": {
          "base_uri": "https://localhost:8080/"
        },
        "id": "VST-61D7UtLZ",
        "outputId": "6fdae489-c3fd-4acc-fcab-210d4840aa4c"
      },
      "execution_count": 22,
      "outputs": [
        {
          "output_type": "stream",
          "name": "stdout",
          "text": [
            "train_data dataset shape (28040, 773)\n"
          ]
        }
      ]
    },
    {
      "cell_type": "markdown",
      "source": [
        "Feature Enginering\n",
        "\n",
        "*   Label_2 has missing values and they were dropped\n",
        "*   Label_2 has 17 unique classes\n",
        "*   Using one-hot encoding for multilabel classification\n",
        "\n"
      ],
      "metadata": {
        "id": "Tlf1E24u9jWt"
      }
    },
    {
      "cell_type": "code",
      "source": [
        "label_2 = train_data['label_2'].values.reshape(-1, 1)\n",
        "ohe = OneHotEncoder(handle_unknown='ignore', sparse_output=False).fit(label_2)\n",
        "print(ohe.categories_)\n",
        "\n",
        "label_2 = ohe.transform(label_2)\n",
        "print(label_2)"
      ],
      "metadata": {
        "colab": {
          "base_uri": "https://localhost:8080/"
        },
        "id": "jlk6fzI_9d3z",
        "outputId": "41034888-dd16-452f-e1e4-3afa5b7b5dad"
      },
      "execution_count": 23,
      "outputs": [
        {
          "output_type": "stream",
          "name": "stdout",
          "text": [
            "[array([22., 23., 24., 25., 26., 27., 28., 29., 30., 31., 32., 33., 34.,\n",
            "       35., 36., 41., 61.])]\n",
            "[[0. 0. 0. ... 0. 0. 0.]\n",
            " [0. 0. 0. ... 0. 0. 0.]\n",
            " [0. 0. 0. ... 0. 0. 0.]\n",
            " ...\n",
            " [0. 0. 0. ... 0. 0. 0.]\n",
            " [0. 0. 0. ... 0. 0. 0.]\n",
            " [0. 0. 0. ... 0. 0. 0.]]\n"
          ]
        }
      ]
    },
    {
      "cell_type": "code",
      "source": [
        "X_train, X_test, y_train, y_test = train_test_split(train_data.iloc[:, :768], label_2, test_size=0.2, stratify=label_2, random_state=2023)"
      ],
      "metadata": {
        "id": "Yxbtoze7-E8y"
      },
      "execution_count": 24,
      "outputs": []
    },
    {
      "cell_type": "code",
      "source": [
        "X_train_tensors = torch.tensor(X_train.iloc[:, :].values, dtype=torch.float32)\n",
        "print(X_train_tensors.shape)\n",
        "\n",
        "X_test_tensors = torch.tensor(X_test.iloc[:, :].values, dtype=torch.float32)\n",
        "print(X_test_tensors.shape)"
      ],
      "metadata": {
        "colab": {
          "base_uri": "https://localhost:8080/"
        },
        "id": "fkaklTQy-gM2",
        "outputId": "b4d58632-f29e-4151-c044-14020252d1f4"
      },
      "execution_count": 25,
      "outputs": [
        {
          "output_type": "stream",
          "name": "stdout",
          "text": [
            "torch.Size([22432, 768])\n",
            "torch.Size([5608, 768])\n"
          ]
        }
      ]
    },
    {
      "cell_type": "markdown",
      "source": [
        "## Define the Model"
      ],
      "metadata": {
        "id": "EV9fMDSL-Sps"
      }
    },
    {
      "cell_type": "code",
      "source": [
        "class AgeClassifier(nn.Module):\n",
        "    def __init__(self, dropout_prob=0.5, weight_decay=1e-5):\n",
        "        super(AgeClassifier, self).__init__()\n",
        "        self.linear1 = nn.Linear(768, 512)\n",
        "        self.linear2 = nn.Linear(512, 256)\n",
        "        self.linear3 = nn.Linear(256, 128)\n",
        "        self.linear4 = nn.Linear(128, 17)\n",
        "\n",
        "        # Set weight_decay for regularization\n",
        "        self.weight_decay = weight_decay\n",
        "\n",
        "    def forward(self, tensors):\n",
        "        output_l1 = torch.relu(self.linear1(tensors))\n",
        "        output_l2 = torch.relu(self.linear2(output_l1))\n",
        "        output_l3 = torch.relu(self.linear3(output_l2))\n",
        "        output_l4 = self.linear4(output_l3)\n",
        "        return output_l4\n",
        "\n",
        "    def l2_regularization_loss(self):\n",
        "        # Calculate L2 regularization loss for linear layers\n",
        "        l2_loss = 0.0\n",
        "        for param in self.parameters():\n",
        "            if param.requires_grad:\n",
        "                l2_loss += torch.norm(param, 2)\n",
        "        return self.weight_decay * l2_loss"
      ],
      "metadata": {
        "id": "GG3HdfaI-Kxs"
      },
      "execution_count": 26,
      "outputs": []
    },
    {
      "cell_type": "markdown",
      "source": [
        "## Train the model"
      ],
      "metadata": {
        "id": "zn6B3nMN-7t8"
      }
    },
    {
      "cell_type": "code",
      "source": [
        "# Create an instance of the AgeClassifier model\n",
        "ageClassifier = AgeClassifier()\n",
        "\n",
        "# Define a cross-entropy loss function\n",
        "criterion = nn.CrossEntropyLoss()\n",
        "\n",
        "# Create a DataLoader for batching\n",
        "batch_size = 128\n",
        "dataset = TensorDataset(X_train_tensors, torch.tensor(y_train))\n",
        "dataloader = DataLoader(dataset, batch_size=batch_size, shuffle=True)\n",
        "\n",
        "# Define an optimizer\n",
        "optimizer = torch.optim.Adam(ageClassifier.parameters(), lr=0.001)\n",
        "\n",
        "# Define early stopping parameters\n",
        "patience = 25\n",
        "best_validation_accuracy = 0\n",
        "no_improvement_counter = 0\n",
        "\n",
        "# Training loop\n",
        "epochs = 1000\n",
        "for epoch in range(epochs):\n",
        "\n",
        "    for inputs, targets in dataloader:\n",
        "        optimizer.zero_grad()\n",
        "        outputs = ageClassifier(inputs)\n",
        "\n",
        "        ce_loss = criterion(outputs, targets)\n",
        "        l2_loss = ageClassifier.l2_regularization_loss()\n",
        "\n",
        "        total_loss = ce_loss + l2_loss\n",
        "\n",
        "        total_loss.backward()\n",
        "        optimizer.step()\n",
        "\n",
        "    # Validation step (evaluate on validation dataset)\n",
        "    with torch.no_grad():\n",
        "        ageClassifier.eval()\n",
        "        y_test_pred = ageClassifier(X_test_tensors)\n",
        "        ce = criterion(y_test_pred, torch.tensor(y_test))\n",
        "        acc = (torch.argmax(y_test_pred, 1) == torch.argmax(torch.tensor(y_test), 1)).float().mean()\n",
        "        ageClassifier.train()\n",
        "\n",
        "    print(f\"Epoch {epoch} validation: Cross-entropy={float(ce)}, Accuracy={float(acc)}\")\n",
        "\n",
        "    # Check for early stopping\n",
        "    if acc > best_validation_accuracy:\n",
        "        best_validation_accuracy = acc\n",
        "        no_improvement_counter = 0\n",
        "        # Save the trained best model if needed\n",
        "        torch.save(ageClassifier.state_dict(), 'ageClassifier_model.pth')\n",
        "    else:\n",
        "        no_improvement_counter += 1\n",
        "\n",
        "    # If no improvement for 'patience' consecutive epochs, stop training\n",
        "    if no_improvement_counter >= patience:\n",
        "        print(\"Early stopping triggered. Training stopped.\")\n",
        "        break"
      ],
      "metadata": {
        "id": "neviN85d-5ws",
        "colab": {
          "base_uri": "https://localhost:8080/"
        },
        "outputId": "5ed2554b-ebe3-4bf6-a09a-69c4956d55cf"
      },
      "execution_count": 27,
      "outputs": [
        {
          "output_type": "stream",
          "name": "stdout",
          "text": [
            "Epoch 0 validation: Cross-entropy=1.7730616042775749, Accuracy=0.4069186747074127\n",
            "Epoch 1 validation: Cross-entropy=1.1643320825881498, Accuracy=0.609308123588562\n",
            "Epoch 2 validation: Cross-entropy=0.858403626241993, Accuracy=0.7164764404296875\n",
            "Epoch 3 validation: Cross-entropy=0.6236764127232739, Accuracy=0.7935092449188232\n",
            "Epoch 4 validation: Cross-entropy=0.5266084973387939, Accuracy=0.8286376595497131\n",
            "Epoch 5 validation: Cross-entropy=0.48551147714345294, Accuracy=0.8380884528160095\n",
            "Epoch 6 validation: Cross-entropy=0.40394442566345135, Accuracy=0.871433675289154\n",
            "Epoch 7 validation: Cross-entropy=0.36573149471230665, Accuracy=0.882667601108551\n",
            "Epoch 8 validation: Cross-entropy=0.36588679286886194, Accuracy=0.8860556483268738\n",
            "Epoch 9 validation: Cross-entropy=0.31716000469595923, Accuracy=0.9003209471702576\n",
            "Epoch 10 validation: Cross-entropy=0.32367166148397014, Accuracy=0.9013908505439758\n",
            "Epoch 11 validation: Cross-entropy=0.33086390524240056, Accuracy=0.898537814617157\n",
            "Epoch 12 validation: Cross-entropy=0.31721386695311166, Accuracy=0.9031740427017212\n",
            "Epoch 13 validation: Cross-entropy=0.3145557157585069, Accuracy=0.9031740427017212\n",
            "Epoch 14 validation: Cross-entropy=0.3056735482123596, Accuracy=0.9085235595703125\n",
            "Epoch 15 validation: Cross-entropy=0.33929349416924953, Accuracy=0.906383752822876\n",
            "Epoch 16 validation: Cross-entropy=0.31305390353275486, Accuracy=0.909771740436554\n",
            "Epoch 17 validation: Cross-entropy=0.3250237765152247, Accuracy=0.9065620303153992\n",
            "Epoch 18 validation: Cross-entropy=0.3433588357426053, Accuracy=0.9101284146308899\n",
            "Epoch 19 validation: Cross-entropy=0.33241287556459737, Accuracy=0.9081668853759766\n",
            "Epoch 20 validation: Cross-entropy=0.3801820576929846, Accuracy=0.9056704640388489\n",
            "Epoch 21 validation: Cross-entropy=0.3561886058623537, Accuracy=0.9115549325942993\n",
            "Epoch 22 validation: Cross-entropy=0.32735907907337886, Accuracy=0.9190441966056824\n",
            "Epoch 23 validation: Cross-entropy=0.3823398041585845, Accuracy=0.910485029220581\n",
            "Epoch 24 validation: Cross-entropy=0.33784289491672853, Accuracy=0.9131597876548767\n",
            "Epoch 25 validation: Cross-entropy=0.33895540046070693, Accuracy=0.9111982583999634\n",
            "Epoch 26 validation: Cross-entropy=0.4036320710926948, Accuracy=0.9067403674125671\n",
            "Epoch 27 validation: Cross-entropy=0.36065115246960044, Accuracy=0.9160128235816956\n",
            "Epoch 28 validation: Cross-entropy=0.37277857408863396, Accuracy=0.9129814505577087\n",
            "Epoch 29 validation: Cross-entropy=0.3451415752104327, Accuracy=0.9213623404502869\n",
            "Epoch 30 validation: Cross-entropy=0.3591056015625475, Accuracy=0.9181526303291321\n",
            "Epoch 31 validation: Cross-entropy=0.38726262802834194, Accuracy=0.9145863056182861\n",
            "Epoch 32 validation: Cross-entropy=0.3442871209477325, Accuracy=0.9243937134742737\n",
            "Epoch 33 validation: Cross-entropy=0.4026144940862774, Accuracy=0.9151212573051453\n",
            "Epoch 34 validation: Cross-entropy=0.42598494850691615, Accuracy=0.9101284146308899\n",
            "Epoch 35 validation: Cross-entropy=0.44051236395781646, Accuracy=0.906383752822876\n",
            "Epoch 36 validation: Cross-entropy=0.3575292389186281, Accuracy=0.926176905632019\n",
            "Epoch 37 validation: Cross-entropy=0.45235141747953134, Accuracy=0.90602707862854\n",
            "Epoch 38 validation: Cross-entropy=0.3860151059604986, Accuracy=0.9151212573051453\n",
            "Epoch 39 validation: Cross-entropy=0.35774759051865185, Accuracy=0.9211840033531189\n",
            "Epoch 40 validation: Cross-entropy=0.36435666498995006, Accuracy=0.9208273887634277\n",
            "Epoch 41 validation: Cross-entropy=0.37770199164020474, Accuracy=0.9210057258605957\n",
            "Epoch 42 validation: Cross-entropy=0.3969139128909753, Accuracy=0.9190441966056824\n",
            "Epoch 43 validation: Cross-entropy=0.379573403714474, Accuracy=0.9215406775474548\n",
            "Epoch 44 validation: Cross-entropy=0.44646167461421904, Accuracy=0.9122681617736816\n",
            "Epoch 45 validation: Cross-entropy=0.34311321288107816, Accuracy=0.9265335202217102\n",
            "Epoch 46 validation: Cross-entropy=0.3596540279932475, Accuracy=0.9279600381851196\n",
            "Epoch 47 validation: Cross-entropy=0.364899946336763, Accuracy=0.9254636168479919\n",
            "Epoch 48 validation: Cross-entropy=0.44617932961260953, Accuracy=0.9117332100868225\n",
            "Epoch 49 validation: Cross-entropy=0.35720225052994986, Accuracy=0.9268901348114014\n",
            "Epoch 50 validation: Cross-entropy=0.3379287948349744, Accuracy=0.9302781820297241\n",
            "Epoch 51 validation: Cross-entropy=0.44382236837464467, Accuracy=0.9186875820159912\n",
            "Epoch 52 validation: Cross-entropy=0.3726907036423257, Accuracy=0.9304565191268921\n",
            "Epoch 53 validation: Cross-entropy=0.35833545500481057, Accuracy=0.9293866157531738\n",
            "Epoch 54 validation: Cross-entropy=0.3395459595422698, Accuracy=0.9350927472114563\n",
            "Epoch 55 validation: Cross-entropy=0.3788838938241059, Accuracy=0.9325962662696838\n",
            "Epoch 56 validation: Cross-entropy=0.39078261996460567, Accuracy=0.9292082786560059\n",
            "Epoch 57 validation: Cross-entropy=0.3961849792495954, Accuracy=0.925285279750824\n",
            "Epoch 58 validation: Cross-entropy=0.4204465201102546, Accuracy=0.9192225337028503\n",
            "Epoch 59 validation: Cross-entropy=0.42215417075001926, Accuracy=0.9197574853897095\n",
            "Epoch 60 validation: Cross-entropy=0.3348590446013085, Accuracy=0.933131217956543\n",
            "Epoch 61 validation: Cross-entropy=0.32049582845181745, Accuracy=0.9395506381988525\n",
            "Epoch 62 validation: Cross-entropy=0.3194843899486138, Accuracy=0.9436519145965576\n",
            "Epoch 63 validation: Cross-entropy=0.33261258232673724, Accuracy=0.9438302516937256\n",
            "Epoch 64 validation: Cross-entropy=0.43692587703154245, Accuracy=0.9186875820159912\n",
            "Epoch 65 validation: Cross-entropy=0.4483951979365395, Accuracy=0.9201140999794006\n",
            "Epoch 66 validation: Cross-entropy=0.3516490295516512, Accuracy=0.934022843837738\n",
            "Epoch 67 validation: Cross-entropy=0.4003097332928346, Accuracy=0.9263551831245422\n",
            "Epoch 68 validation: Cross-entropy=0.4392640675282988, Accuracy=0.922075629234314\n",
            "Epoch 69 validation: Cross-entropy=0.40008312929715706, Accuracy=0.9276034235954285\n",
            "Epoch 70 validation: Cross-entropy=0.36926353498706693, Accuracy=0.9345577955245972\n",
            "Epoch 71 validation: Cross-entropy=0.3900618446868854, Accuracy=0.9317046999931335\n",
            "Epoch 72 validation: Cross-entropy=0.38205762837411716, Accuracy=0.934022843837738\n",
            "Epoch 73 validation: Cross-entropy=0.5666464464773315, Accuracy=0.9029957056045532\n",
            "Epoch 74 validation: Cross-entropy=0.3600191647817959, Accuracy=0.9333095550537109\n",
            "Epoch 75 validation: Cross-entropy=0.37618913381870733, Accuracy=0.9327746033668518\n",
            "Epoch 76 validation: Cross-entropy=0.34651298263257063, Accuracy=0.9399072527885437\n",
            "Epoch 77 validation: Cross-entropy=0.40296199134621424, Accuracy=0.9304565191268921\n",
            "Epoch 78 validation: Cross-entropy=0.4650141915681494, Accuracy=0.9163694977760315\n",
            "Epoch 79 validation: Cross-entropy=0.4360948740062635, Accuracy=0.9199358224868774\n",
            "Epoch 80 validation: Cross-entropy=0.43652566482953187, Accuracy=0.9279600381851196\n",
            "Epoch 81 validation: Cross-entropy=0.3729142960678869, Accuracy=0.9366976022720337\n",
            "Epoch 82 validation: Cross-entropy=0.4281323150828431, Accuracy=0.929564893245697\n",
            "Epoch 83 validation: Cross-entropy=0.4847086602946639, Accuracy=0.9129814505577087\n",
            "Epoch 84 validation: Cross-entropy=0.43026749946149134, Accuracy=0.9242154359817505\n",
            "Epoch 85 validation: Cross-entropy=0.39347377419434504, Accuracy=0.9277817606925964\n",
            "Epoch 86 validation: Cross-entropy=0.3889977453378143, Accuracy=0.9324179887771606\n",
            "Epoch 87 validation: Cross-entropy=0.36128025778523687, Accuracy=0.9377674460411072\n",
            "Epoch 88 validation: Cross-entropy=0.35637864982482936, Accuracy=0.9424037337303162\n",
            "Early stopping triggered. Training stopped.\n"
          ]
        }
      ]
    },
    {
      "cell_type": "code",
      "source": [
        "# Create an instance of the model\n",
        "ageClassifier = AgeClassifier()\n",
        "\n",
        "# Load the saved model state dictionary\n",
        "ageClassifier.load_state_dict(torch.load('/content/drive/Shareddrives/test/ML _Project/ageClassifier_model.pth'))\n",
        "\n",
        "# Validation step (evaluate on validation dataset)\n",
        "with torch.no_grad():\n",
        "    ageClassifier.eval()\n",
        "    y_test_pred = ageClassifier(X_test_tensors)\n",
        "    ce = criterion(y_test_pred, torch.tensor(y_test))\n",
        "    acc = (torch.argmax(y_test_pred, 1) == torch.argmax(torch.tensor(y_test), 1)).float().mean()\n",
        "\n",
        "print(f\"Best model validation: Cross-entropy={float(ce)}, Accuracy={float(acc)}\")"
      ],
      "metadata": {
        "colab": {
          "base_uri": "https://localhost:8080/"
        },
        "id": "W7LQKgC5-bGT",
        "outputId": "6c796187-3423-41fd-bd69-09a0c3ac3ec3"
      },
      "execution_count": 54,
      "outputs": [
        {
          "output_type": "stream",
          "name": "stdout",
          "text": [
            "Best model validation: Cross-entropy=0.33261258232673724, Accuracy=0.9438302516937256\n"
          ]
        }
      ]
    },
    {
      "cell_type": "markdown",
      "source": [
        "## Evaluation of the Model"
      ],
      "metadata": {
        "id": "FFi5fx7EAXel"
      }
    },
    {
      "cell_type": "code",
      "source": [
        "valid_data.dropna(subset=['label_2'], inplace=True)\n",
        "print(f\"valid_data dataset shape {valid_data.shape}\")"
      ],
      "metadata": {
        "colab": {
          "base_uri": "https://localhost:8080/"
        },
        "id": "j8GLhof5bj0w",
        "outputId": "bca0730a-0059-49b6-cb11-45005c0a4bc0"
      },
      "execution_count": 23,
      "outputs": [
        {
          "output_type": "stream",
          "name": "stdout",
          "text": [
            "valid_data dataset shape (736, 772)\n"
          ]
        }
      ]
    },
    {
      "cell_type": "code",
      "source": [
        "label_2_eval = valid_data['label_2'].values.reshape(-1, 1)\n",
        "ohe = OneHotEncoder(handle_unknown='ignore', sparse_output=False).fit(label_2_eval)\n",
        "print(ohe.categories_)\n",
        "\n",
        "label_2_eval = ohe.transform(label_2_eval)\n",
        "print(label_2_eval)"
      ],
      "metadata": {
        "colab": {
          "base_uri": "https://localhost:8080/"
        },
        "id": "lAyr9sjfAbNm",
        "outputId": "41613a8c-3709-422a-f785-b04db2037eaf"
      },
      "execution_count": 24,
      "outputs": [
        {
          "output_type": "stream",
          "name": "stdout",
          "text": [
            "[array([22., 23., 24., 25., 26., 27., 28., 29., 30., 31., 32., 33., 34.,\n",
            "       35., 36., 41., 61.])]\n",
            "[[0. 0. 0. ... 0. 0. 0.]\n",
            " [0. 0. 0. ... 0. 0. 0.]\n",
            " [0. 0. 0. ... 0. 0. 0.]\n",
            " ...\n",
            " [0. 0. 0. ... 0. 0. 0.]\n",
            " [0. 0. 0. ... 0. 0. 0.]\n",
            " [0. 0. 0. ... 0. 0. 0.]]\n"
          ]
        }
      ]
    },
    {
      "cell_type": "code",
      "source": [
        "# Set your model to evaluation mode\n",
        "ageClassifier.eval()\n",
        "\n",
        "X_valid_tensors = torch.tensor(valid_data.iloc[:, :768].values, dtype=torch.float32)\n",
        "print(X_valid_tensors.shape)\n",
        "\n",
        "y_pred = ageClassifier(X_valid_tensors)\n",
        "ce = criterion(y_pred, torch.tensor(label_2_eval))\n",
        "acc = (torch.argmax(y_pred, 1) == torch.argmax(torch.tensor(label_2_eval), 1)).float().mean()\n",
        "print(f\"Cross-entropy={float(ce)}, Test Accuracy={float(acc)}\")"
      ],
      "metadata": {
        "colab": {
          "base_uri": "https://localhost:8080/"
        },
        "id": "fm7ClYAgAsTJ",
        "outputId": "8d5bf22b-c1be-41c0-db75-3d3f3ae59139"
      },
      "execution_count": 34,
      "outputs": [
        {
          "output_type": "stream",
          "name": "stdout",
          "text": [
            "torch.Size([736, 768])\n",
            "Cross-entropy=0.356702677680085, Test Accuracy=0.9429348111152649\n"
          ]
        }
      ]
    },
    {
      "cell_type": "code",
      "source": [
        "y_pred_labels = torch.argmax(y_pred, axis=1).numpy()\n",
        "label_2_np = torch.argmax(torch.tensor(label_2_eval), axis=1).numpy()\n",
        "\n",
        "confusion = confusion_matrix(label_2_np, y_pred_labels)\n",
        "print(classification_report(label_2_np, y_pred_labels))"
      ],
      "metadata": {
        "colab": {
          "base_uri": "https://localhost:8080/"
        },
        "id": "-2JCMYBOOF0K",
        "outputId": "ce2f6dee-8076-47b5-e3f0-a3cfd64fffb9"
      },
      "execution_count": 35,
      "outputs": [
        {
          "output_type": "stream",
          "name": "stdout",
          "text": [
            "              precision    recall  f1-score   support\n",
            "\n",
            "           0       0.95      1.00      0.97        36\n",
            "           1       0.92      0.94      0.93        71\n",
            "           2       0.90      1.00      0.95        46\n",
            "           3       0.94      0.92      0.93        79\n",
            "           4       0.95      0.93      0.94       115\n",
            "           5       0.97      0.94      0.96        81\n",
            "           6       0.95      0.89      0.92        46\n",
            "           7       0.96      1.00      0.98        45\n",
            "           8       0.90      0.96      0.93        48\n",
            "           9       0.98      0.94      0.96        65\n",
            "          10       0.92      1.00      0.96        11\n",
            "          11       0.94      0.97      0.95        30\n",
            "          12       0.92      1.00      0.96        11\n",
            "          13       1.00      0.91      0.95        11\n",
            "          14       0.89      1.00      0.94         8\n",
            "          15       1.00      0.71      0.83        14\n",
            "          16       0.94      0.89      0.92        19\n",
            "\n",
            "    accuracy                           0.94       736\n",
            "   macro avg       0.94      0.94      0.94       736\n",
            "weighted avg       0.94      0.94      0.94       736\n",
            "\n"
          ]
        }
      ]
    },
    {
      "cell_type": "code",
      "source": [
        "accuracy_score(label_2_np, y_pred_labels)"
      ],
      "metadata": {
        "colab": {
          "base_uri": "https://localhost:8080/"
        },
        "id": "wPYz6ezVPJVt",
        "outputId": "8c68d869-acab-4f62-edad-08a962b5cde5"
      },
      "execution_count": 36,
      "outputs": [
        {
          "output_type": "execute_result",
          "data": {
            "text/plain": [
              "0.9429347826086957"
            ]
          },
          "metadata": {},
          "execution_count": 36
        }
      ]
    },
    {
      "cell_type": "markdown",
      "source": [
        "## Get Test Results"
      ],
      "metadata": {
        "id": "s7gLZ2r6lhut"
      }
    },
    {
      "cell_type": "code",
      "source": [
        "test_data.dropna(subset=['label_2'], inplace=True)\n",
        "print(f\"test_data dataset shape {test_data.shape}\")"
      ],
      "metadata": {
        "id": "UUAhlqD0lyzq"
      },
      "execution_count": 4,
      "outputs": []
    },
    {
      "cell_type": "code",
      "source": [
        "label_2_t = test_data['label_2'].values.reshape(-1, 1)\n",
        "ohe = OneHotEncoder(handle_unknown='ignore', sparse_output=False).fit(label_2_t)\n",
        "print(ohe.categories_)\n",
        "\n",
        "label_2_t = ohe.transform(label_2_t)\n",
        "print(label_2_t)"
      ],
      "metadata": {
        "colab": {
          "base_uri": "https://localhost:8080/"
        },
        "id": "QFVSl0pqljzr",
        "outputId": "3dddef1f-5628-4221-8a04-d059bf2175ba"
      },
      "execution_count": 62,
      "outputs": [
        {
          "output_type": "stream",
          "name": "stdout",
          "text": [
            "[array([22., 23., 24., 25., 26., 27., 28., 29., 30., 31., 32., 33., 34.,\n",
            "       35., 36., 41., 61.])]\n",
            "[[0. 0. 0. ... 0. 0. 0.]\n",
            " [0. 0. 0. ... 0. 0. 0.]\n",
            " [0. 0. 0. ... 0. 0. 0.]\n",
            " ...\n",
            " [0. 0. 0. ... 0. 0. 0.]\n",
            " [0. 0. 0. ... 0. 0. 0.]\n",
            " [0. 0. 0. ... 0. 0. 0.]]\n"
          ]
        }
      ]
    },
    {
      "cell_type": "code",
      "source": [
        "# Set your model to evaluation mode\n",
        "ageClassifier.eval()\n",
        "\n",
        "X_t_tensors = torch.tensor(test_data.iloc[:, :768].values, dtype=torch.float32)\n",
        "print(X_t_tensors.shape)\n",
        "\n",
        "y_pred_t = ageClassifier(X_t_tensors)\n",
        "ce = criterion(y_pred_t, torch.tensor(label_2_t))\n",
        "acc = (torch.argmax(y_pred_t, 1) == torch.argmax(torch.tensor(label_2_t), 1)).float().mean()\n",
        "print(f\"Cross-entropy={float(ce)}, Test Accuracy={float(acc)}\")"
      ],
      "metadata": {
        "colab": {
          "base_uri": "https://localhost:8080/"
        },
        "id": "DwHTNcZilpiq",
        "outputId": "3cef6d2b-5fce-4078-804e-5e396b74ca45"
      },
      "execution_count": 63,
      "outputs": [
        {
          "output_type": "stream",
          "name": "stdout",
          "text": [
            "torch.Size([28040, 768])\n",
            "Cross-entropy=0.06883548555468619, Test Accuracy=0.9880527853965759\n"
          ]
        }
      ]
    },
    {
      "cell_type": "code",
      "source": [
        "y_pred_t_labels = torch.argmax(y_pred_t, axis=1).numpy()\n",
        "label_2_np_t = torch.argmax(torch.tensor(label_2_t), axis=1).numpy()\n",
        "\n",
        "confusion = confusion_matrix(label_2_np_t, y_pred_t_labels)\n",
        "print(classification_report(label_2_np_t, y_pred_t_labels))\n",
        "\n",
        "accuracy_score(label_2_np_t, y_pred_t_labels)"
      ],
      "metadata": {
        "colab": {
          "base_uri": "https://localhost:8080/"
        },
        "id": "Np7E9qgImB56",
        "outputId": "d30ff979-7c25-4563-c000-a978a53b21db"
      },
      "execution_count": 64,
      "outputs": [
        {
          "output_type": "stream",
          "name": "stdout",
          "text": [
            "              precision    recall  f1-score   support\n",
            "\n",
            "           0       0.99      0.99      0.99      1432\n",
            "           1       0.99      0.98      0.98      2842\n",
            "           2       0.98      0.99      0.98      1906\n",
            "           3       0.98      0.99      0.99      2849\n",
            "           4       0.99      0.99      0.99      4762\n",
            "           5       0.99      0.99      0.99      2846\n",
            "           6       0.99      0.98      0.99      1899\n",
            "           7       0.99      0.99      0.99      1424\n",
            "           8       0.99      0.98      0.99      1894\n",
            "           9       0.99      0.99      0.99      2385\n",
            "          10       0.98      1.00      0.99       476\n",
            "          11       0.99      1.00      0.99       945\n",
            "          12       0.99      0.99      0.99       478\n",
            "          13       1.00      1.00      1.00       480\n",
            "          14       1.00      0.99      0.99       481\n",
            "          15       0.99      0.99      0.99       474\n",
            "          16       1.00      0.99      0.99       467\n",
            "\n",
            "    accuracy                           0.99     28040\n",
            "   macro avg       0.99      0.99      0.99     28040\n",
            "weighted avg       0.99      0.99      0.99     28040\n",
            "\n"
          ]
        },
        {
          "output_type": "execute_result",
          "data": {
            "text/plain": [
              "0.9880527817403709"
            ]
          },
          "metadata": {},
          "execution_count": 64
        }
      ]
    },
    {
      "cell_type": "markdown",
      "source": [
        "# Train with Feature Engineering"
      ],
      "metadata": {
        "id": "Urt-dVm6BKI_"
      }
    },
    {
      "cell_type": "code",
      "source": [
        "data_features = train_data.iloc[:, :768]"
      ],
      "metadata": {
        "id": "zcpyDDIcBNi4"
      },
      "execution_count": 28,
      "outputs": []
    },
    {
      "cell_type": "markdown",
      "source": [
        "## Drop Constant Features Using Variance Threshold"
      ],
      "metadata": {
        "id": "-lRMnRLiBc4W"
      }
    },
    {
      "cell_type": "code",
      "source": [
        "var_thres=VarianceThreshold(threshold=0)\n",
        "var_thres.fit(data_features)"
      ],
      "metadata": {
        "colab": {
          "base_uri": "https://localhost:8080/",
          "height": 74
        },
        "id": "IpkwwdxeBb67",
        "outputId": "a8cd5e1e-e95b-40b2-9c36-23720e9d185e"
      },
      "execution_count": 6,
      "outputs": [
        {
          "output_type": "execute_result",
          "data": {
            "text/plain": [
              "VarianceThreshold(threshold=0)"
            ],
            "text/html": [
              "<style>#sk-container-id-1 {color: black;background-color: white;}#sk-container-id-1 pre{padding: 0;}#sk-container-id-1 div.sk-toggleable {background-color: white;}#sk-container-id-1 label.sk-toggleable__label {cursor: pointer;display: block;width: 100%;margin-bottom: 0;padding: 0.3em;box-sizing: border-box;text-align: center;}#sk-container-id-1 label.sk-toggleable__label-arrow:before {content: \"▸\";float: left;margin-right: 0.25em;color: #696969;}#sk-container-id-1 label.sk-toggleable__label-arrow:hover:before {color: black;}#sk-container-id-1 div.sk-estimator:hover label.sk-toggleable__label-arrow:before {color: black;}#sk-container-id-1 div.sk-toggleable__content {max-height: 0;max-width: 0;overflow: hidden;text-align: left;background-color: #f0f8ff;}#sk-container-id-1 div.sk-toggleable__content pre {margin: 0.2em;color: black;border-radius: 0.25em;background-color: #f0f8ff;}#sk-container-id-1 input.sk-toggleable__control:checked~div.sk-toggleable__content {max-height: 200px;max-width: 100%;overflow: auto;}#sk-container-id-1 input.sk-toggleable__control:checked~label.sk-toggleable__label-arrow:before {content: \"▾\";}#sk-container-id-1 div.sk-estimator input.sk-toggleable__control:checked~label.sk-toggleable__label {background-color: #d4ebff;}#sk-container-id-1 div.sk-label input.sk-toggleable__control:checked~label.sk-toggleable__label {background-color: #d4ebff;}#sk-container-id-1 input.sk-hidden--visually {border: 0;clip: rect(1px 1px 1px 1px);clip: rect(1px, 1px, 1px, 1px);height: 1px;margin: -1px;overflow: hidden;padding: 0;position: absolute;width: 1px;}#sk-container-id-1 div.sk-estimator {font-family: monospace;background-color: #f0f8ff;border: 1px dotted black;border-radius: 0.25em;box-sizing: border-box;margin-bottom: 0.5em;}#sk-container-id-1 div.sk-estimator:hover {background-color: #d4ebff;}#sk-container-id-1 div.sk-parallel-item::after {content: \"\";width: 100%;border-bottom: 1px solid gray;flex-grow: 1;}#sk-container-id-1 div.sk-label:hover label.sk-toggleable__label {background-color: #d4ebff;}#sk-container-id-1 div.sk-serial::before {content: \"\";position: absolute;border-left: 1px solid gray;box-sizing: border-box;top: 0;bottom: 0;left: 50%;z-index: 0;}#sk-container-id-1 div.sk-serial {display: flex;flex-direction: column;align-items: center;background-color: white;padding-right: 0.2em;padding-left: 0.2em;position: relative;}#sk-container-id-1 div.sk-item {position: relative;z-index: 1;}#sk-container-id-1 div.sk-parallel {display: flex;align-items: stretch;justify-content: center;background-color: white;position: relative;}#sk-container-id-1 div.sk-item::before, #sk-container-id-1 div.sk-parallel-item::before {content: \"\";position: absolute;border-left: 1px solid gray;box-sizing: border-box;top: 0;bottom: 0;left: 50%;z-index: -1;}#sk-container-id-1 div.sk-parallel-item {display: flex;flex-direction: column;z-index: 1;position: relative;background-color: white;}#sk-container-id-1 div.sk-parallel-item:first-child::after {align-self: flex-end;width: 50%;}#sk-container-id-1 div.sk-parallel-item:last-child::after {align-self: flex-start;width: 50%;}#sk-container-id-1 div.sk-parallel-item:only-child::after {width: 0;}#sk-container-id-1 div.sk-dashed-wrapped {border: 1px dashed gray;margin: 0 0.4em 0.5em 0.4em;box-sizing: border-box;padding-bottom: 0.4em;background-color: white;}#sk-container-id-1 div.sk-label label {font-family: monospace;font-weight: bold;display: inline-block;line-height: 1.2em;}#sk-container-id-1 div.sk-label-container {text-align: center;}#sk-container-id-1 div.sk-container {/* jupyter's `normalize.less` sets `[hidden] { display: none; }` but bootstrap.min.css set `[hidden] { display: none !important; }` so we also need the `!important` here to be able to override the default hidden behavior on the sphinx rendered scikit-learn.org. See: https://github.com/scikit-learn/scikit-learn/issues/21755 */display: inline-block !important;position: relative;}#sk-container-id-1 div.sk-text-repr-fallback {display: none;}</style><div id=\"sk-container-id-1\" class=\"sk-top-container\"><div class=\"sk-text-repr-fallback\"><pre>VarianceThreshold(threshold=0)</pre><b>In a Jupyter environment, please rerun this cell to show the HTML representation or trust the notebook. <br />On GitHub, the HTML representation is unable to render, please try loading this page with nbviewer.org.</b></div><div class=\"sk-container\" hidden><div class=\"sk-item\"><div class=\"sk-estimator sk-toggleable\"><input class=\"sk-toggleable__control sk-hidden--visually\" id=\"sk-estimator-id-1\" type=\"checkbox\" checked><label for=\"sk-estimator-id-1\" class=\"sk-toggleable__label sk-toggleable__label-arrow\">VarianceThreshold</label><div class=\"sk-toggleable__content\"><pre>VarianceThreshold(threshold=0)</pre></div></div></div></div></div>"
            ]
          },
          "metadata": {},
          "execution_count": 6
        }
      ]
    },
    {
      "cell_type": "code",
      "source": [
        "constant_columns = [column for column in data_features.columns\n",
        "                    if column not in data_features.columns[var_thres.get_support()]]\n",
        "\n",
        "print(constant_columns)"
      ],
      "metadata": {
        "colab": {
          "base_uri": "https://localhost:8080/"
        },
        "id": "AzqkmpwHBmDr",
        "outputId": "818fda52-306d-4435-8a5a-790af5dac47b"
      },
      "execution_count": 39,
      "outputs": [
        {
          "output_type": "stream",
          "name": "stdout",
          "text": [
            "[]\n"
          ]
        }
      ]
    },
    {
      "cell_type": "markdown",
      "source": [
        "There is no constant columns"
      ],
      "metadata": {
        "id": "OfnuM9r4B22t"
      }
    },
    {
      "cell_type": "markdown",
      "source": [
        "## Drop Features Using Pearson Correlation"
      ],
      "metadata": {
        "id": "-inPkOjHB78z"
      }
    },
    {
      "cell_type": "code",
      "source": [
        "data_features.corr()"
      ],
      "metadata": {
        "colab": {
          "base_uri": "https://localhost:8080/",
          "height": 439
        },
        "id": "MtvAw4yNBqgy",
        "outputId": "ef947ebd-8b5e-4d3d-cac2-0a29478d3036"
      },
      "execution_count": 7,
      "outputs": [
        {
          "output_type": "execute_result",
          "data": {
            "text/plain": [
              "             feature_1  feature_2  feature_3  feature_4  feature_5  feature_6  \\\n",
              "feature_1     1.000000   0.065348  -0.039416   0.116528   0.108225  -0.163679   \n",
              "feature_2     0.065348   1.000000   0.043611   0.068624  -0.278709   0.052155   \n",
              "feature_3    -0.039416   0.043611   1.000000  -0.185437  -0.313107  -0.103496   \n",
              "feature_4     0.116528   0.068624  -0.185437   1.000000   0.096349  -0.220416   \n",
              "feature_5     0.108225  -0.278709  -0.313107   0.096349   1.000000   0.021056   \n",
              "...                ...        ...        ...        ...        ...        ...   \n",
              "feature_764  -0.040330   0.005612   0.204807   0.103712  -0.087327  -0.174192   \n",
              "feature_765   0.132620  -0.068710   0.133835   0.100221  -0.063512  -0.345465   \n",
              "feature_766   0.032706  -0.204834  -0.063354   0.006758   0.016875  -0.233690   \n",
              "feature_767   0.035296  -0.350866   0.159975   0.034292  -0.031415  -0.350340   \n",
              "feature_768  -0.039317   0.162593   0.217143  -0.128138  -0.203071   0.242545   \n",
              "\n",
              "             feature_7  feature_8  feature_9  feature_10  ...  feature_759  \\\n",
              "feature_1     0.131004  -0.073198  -0.045476   -0.120560  ...    -0.225724   \n",
              "feature_2    -0.267946  -0.214403  -0.235840   -0.056829  ...    -0.150852   \n",
              "feature_3    -0.214606  -0.185952   0.155197    0.011407  ...    -0.248988   \n",
              "feature_4     0.194002   0.027816  -0.144393   -0.148927  ...     0.135598   \n",
              "feature_5     0.325761  -0.000900   0.038333   -0.116997  ...    -0.020572   \n",
              "...                ...        ...        ...         ...  ...          ...   \n",
              "feature_764   0.122454   0.012446   0.199985    0.171440  ...     0.075743   \n",
              "feature_765  -0.002038   0.005804   0.053829   -0.116723  ...    -0.103060   \n",
              "feature_766   0.282928  -0.105139   0.097498    0.391228  ...     0.096985   \n",
              "feature_767   0.185927   0.045446   0.113304    0.265687  ...     0.115303   \n",
              "feature_768  -0.390389  -0.033126   0.020400   -0.093904  ...    -0.012714   \n",
              "\n",
              "             feature_760  feature_761  feature_762  feature_763  feature_764  \\\n",
              "feature_1       0.290177     0.015310     0.144664    -0.110313    -0.040330   \n",
              "feature_2      -0.096604     0.287950    -0.099087     0.269144     0.005612   \n",
              "feature_3      -0.162378    -0.024814     0.162806     0.231606     0.204807   \n",
              "feature_4       0.071113    -0.084978    -0.166751    -0.220446     0.103712   \n",
              "feature_5       0.024932    -0.202849     0.031865    -0.371326    -0.087327   \n",
              "...                  ...          ...          ...          ...          ...   \n",
              "feature_764     0.065512    -0.313912    -0.196618    -0.114188     1.000000   \n",
              "feature_765     0.180543    -0.010908    -0.076788     0.228983     0.208730   \n",
              "feature_766     0.293527    -0.266795     0.168379    -0.486373     0.181622   \n",
              "feature_767     0.274362    -0.343106     0.081103    -0.327079     0.405485   \n",
              "feature_768    -0.117084     0.191413     0.091538     0.299900    -0.009266   \n",
              "\n",
              "             feature_765  feature_766  feature_767  feature_768  \n",
              "feature_1       0.132620     0.032706     0.035296    -0.039317  \n",
              "feature_2      -0.068710    -0.204834    -0.350866     0.162593  \n",
              "feature_3       0.133835    -0.063354     0.159975     0.217143  \n",
              "feature_4       0.100221     0.006758     0.034292    -0.128138  \n",
              "feature_5      -0.063512     0.016875    -0.031415    -0.203071  \n",
              "...                  ...          ...          ...          ...  \n",
              "feature_764     0.208730     0.181622     0.405485    -0.009266  \n",
              "feature_765     1.000000    -0.204636     0.278358    -0.172730  \n",
              "feature_766    -0.204636     1.000000     0.388446    -0.065182  \n",
              "feature_767     0.278358     0.388446     1.000000    -0.132940  \n",
              "feature_768    -0.172730    -0.065182    -0.132940     1.000000  \n",
              "\n",
              "[768 rows x 768 columns]"
            ],
            "text/html": [
              "\n",
              "  <div id=\"df-be84f0bf-ef03-4185-8425-7950c7518670\" class=\"colab-df-container\">\n",
              "    <div>\n",
              "<style scoped>\n",
              "    .dataframe tbody tr th:only-of-type {\n",
              "        vertical-align: middle;\n",
              "    }\n",
              "\n",
              "    .dataframe tbody tr th {\n",
              "        vertical-align: top;\n",
              "    }\n",
              "\n",
              "    .dataframe thead th {\n",
              "        text-align: right;\n",
              "    }\n",
              "</style>\n",
              "<table border=\"1\" class=\"dataframe\">\n",
              "  <thead>\n",
              "    <tr style=\"text-align: right;\">\n",
              "      <th></th>\n",
              "      <th>feature_1</th>\n",
              "      <th>feature_2</th>\n",
              "      <th>feature_3</th>\n",
              "      <th>feature_4</th>\n",
              "      <th>feature_5</th>\n",
              "      <th>feature_6</th>\n",
              "      <th>feature_7</th>\n",
              "      <th>feature_8</th>\n",
              "      <th>feature_9</th>\n",
              "      <th>feature_10</th>\n",
              "      <th>...</th>\n",
              "      <th>feature_759</th>\n",
              "      <th>feature_760</th>\n",
              "      <th>feature_761</th>\n",
              "      <th>feature_762</th>\n",
              "      <th>feature_763</th>\n",
              "      <th>feature_764</th>\n",
              "      <th>feature_765</th>\n",
              "      <th>feature_766</th>\n",
              "      <th>feature_767</th>\n",
              "      <th>feature_768</th>\n",
              "    </tr>\n",
              "  </thead>\n",
              "  <tbody>\n",
              "    <tr>\n",
              "      <th>feature_1</th>\n",
              "      <td>1.000000</td>\n",
              "      <td>0.065348</td>\n",
              "      <td>-0.039416</td>\n",
              "      <td>0.116528</td>\n",
              "      <td>0.108225</td>\n",
              "      <td>-0.163679</td>\n",
              "      <td>0.131004</td>\n",
              "      <td>-0.073198</td>\n",
              "      <td>-0.045476</td>\n",
              "      <td>-0.120560</td>\n",
              "      <td>...</td>\n",
              "      <td>-0.225724</td>\n",
              "      <td>0.290177</td>\n",
              "      <td>0.015310</td>\n",
              "      <td>0.144664</td>\n",
              "      <td>-0.110313</td>\n",
              "      <td>-0.040330</td>\n",
              "      <td>0.132620</td>\n",
              "      <td>0.032706</td>\n",
              "      <td>0.035296</td>\n",
              "      <td>-0.039317</td>\n",
              "    </tr>\n",
              "    <tr>\n",
              "      <th>feature_2</th>\n",
              "      <td>0.065348</td>\n",
              "      <td>1.000000</td>\n",
              "      <td>0.043611</td>\n",
              "      <td>0.068624</td>\n",
              "      <td>-0.278709</td>\n",
              "      <td>0.052155</td>\n",
              "      <td>-0.267946</td>\n",
              "      <td>-0.214403</td>\n",
              "      <td>-0.235840</td>\n",
              "      <td>-0.056829</td>\n",
              "      <td>...</td>\n",
              "      <td>-0.150852</td>\n",
              "      <td>-0.096604</td>\n",
              "      <td>0.287950</td>\n",
              "      <td>-0.099087</td>\n",
              "      <td>0.269144</td>\n",
              "      <td>0.005612</td>\n",
              "      <td>-0.068710</td>\n",
              "      <td>-0.204834</td>\n",
              "      <td>-0.350866</td>\n",
              "      <td>0.162593</td>\n",
              "    </tr>\n",
              "    <tr>\n",
              "      <th>feature_3</th>\n",
              "      <td>-0.039416</td>\n",
              "      <td>0.043611</td>\n",
              "      <td>1.000000</td>\n",
              "      <td>-0.185437</td>\n",
              "      <td>-0.313107</td>\n",
              "      <td>-0.103496</td>\n",
              "      <td>-0.214606</td>\n",
              "      <td>-0.185952</td>\n",
              "      <td>0.155197</td>\n",
              "      <td>0.011407</td>\n",
              "      <td>...</td>\n",
              "      <td>-0.248988</td>\n",
              "      <td>-0.162378</td>\n",
              "      <td>-0.024814</td>\n",
              "      <td>0.162806</td>\n",
              "      <td>0.231606</td>\n",
              "      <td>0.204807</td>\n",
              "      <td>0.133835</td>\n",
              "      <td>-0.063354</td>\n",
              "      <td>0.159975</td>\n",
              "      <td>0.217143</td>\n",
              "    </tr>\n",
              "    <tr>\n",
              "      <th>feature_4</th>\n",
              "      <td>0.116528</td>\n",
              "      <td>0.068624</td>\n",
              "      <td>-0.185437</td>\n",
              "      <td>1.000000</td>\n",
              "      <td>0.096349</td>\n",
              "      <td>-0.220416</td>\n",
              "      <td>0.194002</td>\n",
              "      <td>0.027816</td>\n",
              "      <td>-0.144393</td>\n",
              "      <td>-0.148927</td>\n",
              "      <td>...</td>\n",
              "      <td>0.135598</td>\n",
              "      <td>0.071113</td>\n",
              "      <td>-0.084978</td>\n",
              "      <td>-0.166751</td>\n",
              "      <td>-0.220446</td>\n",
              "      <td>0.103712</td>\n",
              "      <td>0.100221</td>\n",
              "      <td>0.006758</td>\n",
              "      <td>0.034292</td>\n",
              "      <td>-0.128138</td>\n",
              "    </tr>\n",
              "    <tr>\n",
              "      <th>feature_5</th>\n",
              "      <td>0.108225</td>\n",
              "      <td>-0.278709</td>\n",
              "      <td>-0.313107</td>\n",
              "      <td>0.096349</td>\n",
              "      <td>1.000000</td>\n",
              "      <td>0.021056</td>\n",
              "      <td>0.325761</td>\n",
              "      <td>-0.000900</td>\n",
              "      <td>0.038333</td>\n",
              "      <td>-0.116997</td>\n",
              "      <td>...</td>\n",
              "      <td>-0.020572</td>\n",
              "      <td>0.024932</td>\n",
              "      <td>-0.202849</td>\n",
              "      <td>0.031865</td>\n",
              "      <td>-0.371326</td>\n",
              "      <td>-0.087327</td>\n",
              "      <td>-0.063512</td>\n",
              "      <td>0.016875</td>\n",
              "      <td>-0.031415</td>\n",
              "      <td>-0.203071</td>\n",
              "    </tr>\n",
              "    <tr>\n",
              "      <th>...</th>\n",
              "      <td>...</td>\n",
              "      <td>...</td>\n",
              "      <td>...</td>\n",
              "      <td>...</td>\n",
              "      <td>...</td>\n",
              "      <td>...</td>\n",
              "      <td>...</td>\n",
              "      <td>...</td>\n",
              "      <td>...</td>\n",
              "      <td>...</td>\n",
              "      <td>...</td>\n",
              "      <td>...</td>\n",
              "      <td>...</td>\n",
              "      <td>...</td>\n",
              "      <td>...</td>\n",
              "      <td>...</td>\n",
              "      <td>...</td>\n",
              "      <td>...</td>\n",
              "      <td>...</td>\n",
              "      <td>...</td>\n",
              "      <td>...</td>\n",
              "    </tr>\n",
              "    <tr>\n",
              "      <th>feature_764</th>\n",
              "      <td>-0.040330</td>\n",
              "      <td>0.005612</td>\n",
              "      <td>0.204807</td>\n",
              "      <td>0.103712</td>\n",
              "      <td>-0.087327</td>\n",
              "      <td>-0.174192</td>\n",
              "      <td>0.122454</td>\n",
              "      <td>0.012446</td>\n",
              "      <td>0.199985</td>\n",
              "      <td>0.171440</td>\n",
              "      <td>...</td>\n",
              "      <td>0.075743</td>\n",
              "      <td>0.065512</td>\n",
              "      <td>-0.313912</td>\n",
              "      <td>-0.196618</td>\n",
              "      <td>-0.114188</td>\n",
              "      <td>1.000000</td>\n",
              "      <td>0.208730</td>\n",
              "      <td>0.181622</td>\n",
              "      <td>0.405485</td>\n",
              "      <td>-0.009266</td>\n",
              "    </tr>\n",
              "    <tr>\n",
              "      <th>feature_765</th>\n",
              "      <td>0.132620</td>\n",
              "      <td>-0.068710</td>\n",
              "      <td>0.133835</td>\n",
              "      <td>0.100221</td>\n",
              "      <td>-0.063512</td>\n",
              "      <td>-0.345465</td>\n",
              "      <td>-0.002038</td>\n",
              "      <td>0.005804</td>\n",
              "      <td>0.053829</td>\n",
              "      <td>-0.116723</td>\n",
              "      <td>...</td>\n",
              "      <td>-0.103060</td>\n",
              "      <td>0.180543</td>\n",
              "      <td>-0.010908</td>\n",
              "      <td>-0.076788</td>\n",
              "      <td>0.228983</td>\n",
              "      <td>0.208730</td>\n",
              "      <td>1.000000</td>\n",
              "      <td>-0.204636</td>\n",
              "      <td>0.278358</td>\n",
              "      <td>-0.172730</td>\n",
              "    </tr>\n",
              "    <tr>\n",
              "      <th>feature_766</th>\n",
              "      <td>0.032706</td>\n",
              "      <td>-0.204834</td>\n",
              "      <td>-0.063354</td>\n",
              "      <td>0.006758</td>\n",
              "      <td>0.016875</td>\n",
              "      <td>-0.233690</td>\n",
              "      <td>0.282928</td>\n",
              "      <td>-0.105139</td>\n",
              "      <td>0.097498</td>\n",
              "      <td>0.391228</td>\n",
              "      <td>...</td>\n",
              "      <td>0.096985</td>\n",
              "      <td>0.293527</td>\n",
              "      <td>-0.266795</td>\n",
              "      <td>0.168379</td>\n",
              "      <td>-0.486373</td>\n",
              "      <td>0.181622</td>\n",
              "      <td>-0.204636</td>\n",
              "      <td>1.000000</td>\n",
              "      <td>0.388446</td>\n",
              "      <td>-0.065182</td>\n",
              "    </tr>\n",
              "    <tr>\n",
              "      <th>feature_767</th>\n",
              "      <td>0.035296</td>\n",
              "      <td>-0.350866</td>\n",
              "      <td>0.159975</td>\n",
              "      <td>0.034292</td>\n",
              "      <td>-0.031415</td>\n",
              "      <td>-0.350340</td>\n",
              "      <td>0.185927</td>\n",
              "      <td>0.045446</td>\n",
              "      <td>0.113304</td>\n",
              "      <td>0.265687</td>\n",
              "      <td>...</td>\n",
              "      <td>0.115303</td>\n",
              "      <td>0.274362</td>\n",
              "      <td>-0.343106</td>\n",
              "      <td>0.081103</td>\n",
              "      <td>-0.327079</td>\n",
              "      <td>0.405485</td>\n",
              "      <td>0.278358</td>\n",
              "      <td>0.388446</td>\n",
              "      <td>1.000000</td>\n",
              "      <td>-0.132940</td>\n",
              "    </tr>\n",
              "    <tr>\n",
              "      <th>feature_768</th>\n",
              "      <td>-0.039317</td>\n",
              "      <td>0.162593</td>\n",
              "      <td>0.217143</td>\n",
              "      <td>-0.128138</td>\n",
              "      <td>-0.203071</td>\n",
              "      <td>0.242545</td>\n",
              "      <td>-0.390389</td>\n",
              "      <td>-0.033126</td>\n",
              "      <td>0.020400</td>\n",
              "      <td>-0.093904</td>\n",
              "      <td>...</td>\n",
              "      <td>-0.012714</td>\n",
              "      <td>-0.117084</td>\n",
              "      <td>0.191413</td>\n",
              "      <td>0.091538</td>\n",
              "      <td>0.299900</td>\n",
              "      <td>-0.009266</td>\n",
              "      <td>-0.172730</td>\n",
              "      <td>-0.065182</td>\n",
              "      <td>-0.132940</td>\n",
              "      <td>1.000000</td>\n",
              "    </tr>\n",
              "  </tbody>\n",
              "</table>\n",
              "<p>768 rows × 768 columns</p>\n",
              "</div>\n",
              "    <div class=\"colab-df-buttons\">\n",
              "\n",
              "  <div class=\"colab-df-container\">\n",
              "    <button class=\"colab-df-convert\" onclick=\"convertToInteractive('df-be84f0bf-ef03-4185-8425-7950c7518670')\"\n",
              "            title=\"Convert this dataframe to an interactive table.\"\n",
              "            style=\"display:none;\">\n",
              "\n",
              "  <svg xmlns=\"http://www.w3.org/2000/svg\" height=\"24px\" viewBox=\"0 -960 960 960\">\n",
              "    <path d=\"M120-120v-720h720v720H120Zm60-500h600v-160H180v160Zm220 220h160v-160H400v160Zm0 220h160v-160H400v160ZM180-400h160v-160H180v160Zm440 0h160v-160H620v160ZM180-180h160v-160H180v160Zm440 0h160v-160H620v160Z\"/>\n",
              "  </svg>\n",
              "    </button>\n",
              "\n",
              "  <style>\n",
              "    .colab-df-container {\n",
              "      display:flex;\n",
              "      gap: 12px;\n",
              "    }\n",
              "\n",
              "    .colab-df-convert {\n",
              "      background-color: #E8F0FE;\n",
              "      border: none;\n",
              "      border-radius: 50%;\n",
              "      cursor: pointer;\n",
              "      display: none;\n",
              "      fill: #1967D2;\n",
              "      height: 32px;\n",
              "      padding: 0 0 0 0;\n",
              "      width: 32px;\n",
              "    }\n",
              "\n",
              "    .colab-df-convert:hover {\n",
              "      background-color: #E2EBFA;\n",
              "      box-shadow: 0px 1px 2px rgba(60, 64, 67, 0.3), 0px 1px 3px 1px rgba(60, 64, 67, 0.15);\n",
              "      fill: #174EA6;\n",
              "    }\n",
              "\n",
              "    .colab-df-buttons div {\n",
              "      margin-bottom: 4px;\n",
              "    }\n",
              "\n",
              "    [theme=dark] .colab-df-convert {\n",
              "      background-color: #3B4455;\n",
              "      fill: #D2E3FC;\n",
              "    }\n",
              "\n",
              "    [theme=dark] .colab-df-convert:hover {\n",
              "      background-color: #434B5C;\n",
              "      box-shadow: 0px 1px 3px 1px rgba(0, 0, 0, 0.15);\n",
              "      filter: drop-shadow(0px 1px 2px rgba(0, 0, 0, 0.3));\n",
              "      fill: #FFFFFF;\n",
              "    }\n",
              "  </style>\n",
              "\n",
              "    <script>\n",
              "      const buttonEl =\n",
              "        document.querySelector('#df-be84f0bf-ef03-4185-8425-7950c7518670 button.colab-df-convert');\n",
              "      buttonEl.style.display =\n",
              "        google.colab.kernel.accessAllowed ? 'block' : 'none';\n",
              "\n",
              "      async function convertToInteractive(key) {\n",
              "        const element = document.querySelector('#df-be84f0bf-ef03-4185-8425-7950c7518670');\n",
              "        const dataTable =\n",
              "          await google.colab.kernel.invokeFunction('convertToInteractive',\n",
              "                                                    [key], {});\n",
              "        if (!dataTable) return;\n",
              "\n",
              "        const docLinkHtml = 'Like what you see? Visit the ' +\n",
              "          '<a target=\"_blank\" href=https://colab.research.google.com/notebooks/data_table.ipynb>data table notebook</a>'\n",
              "          + ' to learn more about interactive tables.';\n",
              "        element.innerHTML = '';\n",
              "        dataTable['output_type'] = 'display_data';\n",
              "        await google.colab.output.renderOutput(dataTable, element);\n",
              "        const docLink = document.createElement('div');\n",
              "        docLink.innerHTML = docLinkHtml;\n",
              "        element.appendChild(docLink);\n",
              "      }\n",
              "    </script>\n",
              "  </div>\n",
              "\n",
              "\n",
              "<div id=\"df-aae0724b-7dcf-4894-8da7-a2aa1ee4e98d\">\n",
              "  <button class=\"colab-df-quickchart\" onclick=\"quickchart('df-aae0724b-7dcf-4894-8da7-a2aa1ee4e98d')\"\n",
              "            title=\"Suggest charts.\"\n",
              "            style=\"display:none;\">\n",
              "\n",
              "<svg xmlns=\"http://www.w3.org/2000/svg\" height=\"24px\"viewBox=\"0 0 24 24\"\n",
              "     width=\"24px\">\n",
              "    <g>\n",
              "        <path d=\"M19 3H5c-1.1 0-2 .9-2 2v14c0 1.1.9 2 2 2h14c1.1 0 2-.9 2-2V5c0-1.1-.9-2-2-2zM9 17H7v-7h2v7zm4 0h-2V7h2v10zm4 0h-2v-4h2v4z\"/>\n",
              "    </g>\n",
              "</svg>\n",
              "  </button>\n",
              "\n",
              "<style>\n",
              "  .colab-df-quickchart {\n",
              "      --bg-color: #E8F0FE;\n",
              "      --fill-color: #1967D2;\n",
              "      --hover-bg-color: #E2EBFA;\n",
              "      --hover-fill-color: #174EA6;\n",
              "      --disabled-fill-color: #AAA;\n",
              "      --disabled-bg-color: #DDD;\n",
              "  }\n",
              "\n",
              "  [theme=dark] .colab-df-quickchart {\n",
              "      --bg-color: #3B4455;\n",
              "      --fill-color: #D2E3FC;\n",
              "      --hover-bg-color: #434B5C;\n",
              "      --hover-fill-color: #FFFFFF;\n",
              "      --disabled-bg-color: #3B4455;\n",
              "      --disabled-fill-color: #666;\n",
              "  }\n",
              "\n",
              "  .colab-df-quickchart {\n",
              "    background-color: var(--bg-color);\n",
              "    border: none;\n",
              "    border-radius: 50%;\n",
              "    cursor: pointer;\n",
              "    display: none;\n",
              "    fill: var(--fill-color);\n",
              "    height: 32px;\n",
              "    padding: 0;\n",
              "    width: 32px;\n",
              "  }\n",
              "\n",
              "  .colab-df-quickchart:hover {\n",
              "    background-color: var(--hover-bg-color);\n",
              "    box-shadow: 0 1px 2px rgba(60, 64, 67, 0.3), 0 1px 3px 1px rgba(60, 64, 67, 0.15);\n",
              "    fill: var(--button-hover-fill-color);\n",
              "  }\n",
              "\n",
              "  .colab-df-quickchart-complete:disabled,\n",
              "  .colab-df-quickchart-complete:disabled:hover {\n",
              "    background-color: var(--disabled-bg-color);\n",
              "    fill: var(--disabled-fill-color);\n",
              "    box-shadow: none;\n",
              "  }\n",
              "\n",
              "  .colab-df-spinner {\n",
              "    border: 2px solid var(--fill-color);\n",
              "    border-color: transparent;\n",
              "    border-bottom-color: var(--fill-color);\n",
              "    animation:\n",
              "      spin 1s steps(1) infinite;\n",
              "  }\n",
              "\n",
              "  @keyframes spin {\n",
              "    0% {\n",
              "      border-color: transparent;\n",
              "      border-bottom-color: var(--fill-color);\n",
              "      border-left-color: var(--fill-color);\n",
              "    }\n",
              "    20% {\n",
              "      border-color: transparent;\n",
              "      border-left-color: var(--fill-color);\n",
              "      border-top-color: var(--fill-color);\n",
              "    }\n",
              "    30% {\n",
              "      border-color: transparent;\n",
              "      border-left-color: var(--fill-color);\n",
              "      border-top-color: var(--fill-color);\n",
              "      border-right-color: var(--fill-color);\n",
              "    }\n",
              "    40% {\n",
              "      border-color: transparent;\n",
              "      border-right-color: var(--fill-color);\n",
              "      border-top-color: var(--fill-color);\n",
              "    }\n",
              "    60% {\n",
              "      border-color: transparent;\n",
              "      border-right-color: var(--fill-color);\n",
              "    }\n",
              "    80% {\n",
              "      border-color: transparent;\n",
              "      border-right-color: var(--fill-color);\n",
              "      border-bottom-color: var(--fill-color);\n",
              "    }\n",
              "    90% {\n",
              "      border-color: transparent;\n",
              "      border-bottom-color: var(--fill-color);\n",
              "    }\n",
              "  }\n",
              "</style>\n",
              "\n",
              "  <script>\n",
              "    async function quickchart(key) {\n",
              "      const quickchartButtonEl =\n",
              "        document.querySelector('#' + key + ' button');\n",
              "      quickchartButtonEl.disabled = true;  // To prevent multiple clicks.\n",
              "      quickchartButtonEl.classList.add('colab-df-spinner');\n",
              "      try {\n",
              "        const charts = await google.colab.kernel.invokeFunction(\n",
              "            'suggestCharts', [key], {});\n",
              "      } catch (error) {\n",
              "        console.error('Error during call to suggestCharts:', error);\n",
              "      }\n",
              "      quickchartButtonEl.classList.remove('colab-df-spinner');\n",
              "      quickchartButtonEl.classList.add('colab-df-quickchart-complete');\n",
              "    }\n",
              "    (() => {\n",
              "      let quickchartButtonEl =\n",
              "        document.querySelector('#df-aae0724b-7dcf-4894-8da7-a2aa1ee4e98d button');\n",
              "      quickchartButtonEl.style.display =\n",
              "        google.colab.kernel.accessAllowed ? 'block' : 'none';\n",
              "    })();\n",
              "  </script>\n",
              "</div>\n",
              "    </div>\n",
              "  </div>\n"
            ]
          },
          "metadata": {},
          "execution_count": 7
        }
      ]
    },
    {
      "cell_type": "code",
      "source": [
        "# Using Pearson Correlation\n",
        "plt.figure(figsize=(12,10))\n",
        "cor = data_features.corr()\n",
        "sns.heatmap(cor, annot=True, cmap=plt.cm.CMRmap_r)\n",
        "plt.show()"
      ],
      "metadata": {
        "id": "qAWH7p7uCCPV"
      },
      "execution_count": null,
      "outputs": []
    },
    {
      "cell_type": "code",
      "source": [
        "def correlation(dataset, threshold):\n",
        "    correlated_pairs = set()\n",
        "    corr_matrix = dataset.corr()\n",
        "    for i in range(len(corr_matrix.columns)):\n",
        "        for j in range(i):\n",
        "            if abs(corr_matrix.iloc[i, j]) > threshold: # we are interested in absolute coeff value\n",
        "                colname = corr_matrix.columns[i]  # getting the name of column\n",
        "                rowname = corr_matrix.index[j]  # getting the name of row\n",
        "                correlated_pairs.add((rowname, colname))\n",
        "    return correlated_pairs\n",
        "\n",
        "def get_less_correlated_features(correlated_pairs, dataset, target_column):\n",
        "    less_correlated_features = {}\n",
        "\n",
        "    for (feature1, feature2) in correlated_pairs:\n",
        "        corr1 = dataset[feature1].corr(dataset[target_column])\n",
        "        corr2 = dataset[feature2].corr(dataset[target_column])\n",
        "\n",
        "        if abs(corr1) < abs(corr2):\n",
        "            correlated_pair = frozenset((feature1, feature2))  # Use a frozenset as the key\n",
        "            less_correlated_features[correlated_pair] = feature1\n",
        "        else:\n",
        "            correlated_pair = frozenset((feature1, feature2))  # Use a frozenset as the key\n",
        "            less_correlated_features[correlated_pair] = feature2\n",
        "\n",
        "    return less_correlated_features"
      ],
      "metadata": {
        "id": "YVXmDTTaCPjf"
      },
      "execution_count": 8,
      "outputs": []
    },
    {
      "cell_type": "code",
      "source": [
        "corr_feature_pairs = correlation(data_features, 0.9)\n",
        "corr_feature_pairs"
      ],
      "metadata": {
        "colab": {
          "base_uri": "https://localhost:8080/"
        },
        "id": "KgP4ZQwiCQn_",
        "outputId": "fa1c78cb-fc45-4329-f07b-4780271f176f"
      },
      "execution_count": 9,
      "outputs": [
        {
          "output_type": "execute_result",
          "data": {
            "text/plain": [
              "{('feature_210', 'feature_609')}"
            ]
          },
          "metadata": {},
          "execution_count": 9
        }
      ]
    },
    {
      "cell_type": "code",
      "source": [
        "less_correlated_features = get_less_correlated_features(corr_feature_pairs, train_data, \"label_2\")\n",
        "less_correlated_features"
      ],
      "metadata": {
        "colab": {
          "base_uri": "https://localhost:8080/"
        },
        "id": "-YZQnfekCjSm",
        "outputId": "90d84d64-5861-44ac-bd0c-3ad5aca8364a"
      },
      "execution_count": 10,
      "outputs": [
        {
          "output_type": "execute_result",
          "data": {
            "text/plain": [
              "{frozenset({'feature_210', 'feature_609'}): 'feature_210'}"
            ]
          },
          "metadata": {},
          "execution_count": 10
        }
      ]
    },
    {
      "cell_type": "code",
      "source": [
        "corr_features = set(less_correlated_features.values())\n",
        "corr_features"
      ],
      "metadata": {
        "colab": {
          "base_uri": "https://localhost:8080/"
        },
        "id": "3uNd4sJKCrXE",
        "outputId": "ed0f5de1-75cf-4be4-d47e-fa6ee0c59a14"
      },
      "execution_count": 11,
      "outputs": [
        {
          "output_type": "execute_result",
          "data": {
            "text/plain": [
              "{'feature_210'}"
            ]
          },
          "metadata": {},
          "execution_count": 11
        }
      ]
    },
    {
      "cell_type": "code",
      "source": [
        "new_features = data_features.drop(corr_features,axis=1)"
      ],
      "metadata": {
        "id": "TNBHAU0WCwyo"
      },
      "execution_count": 29,
      "outputs": []
    },
    {
      "cell_type": "code",
      "source": [
        "print(data_features.shape)\n",
        "print(new_features.shape)"
      ],
      "metadata": {
        "colab": {
          "base_uri": "https://localhost:8080/"
        },
        "id": "LdCzpp7CC0R0",
        "outputId": "77f01d1c-358b-44f9-f87e-6c54a03f8cb5"
      },
      "execution_count": 30,
      "outputs": [
        {
          "output_type": "stream",
          "name": "stdout",
          "text": [
            "(28040, 768)\n",
            "(28040, 767)\n"
          ]
        }
      ]
    },
    {
      "cell_type": "markdown",
      "source": [
        "## Train the model"
      ],
      "metadata": {
        "id": "m7M3OvIRNljE"
      }
    },
    {
      "cell_type": "code",
      "source": [
        "class AgeClassifierAfter(nn.Module):\n",
        "    def __init__(self, dropout_prob=0.5, weight_decay=1e-5):\n",
        "        super(AgeClassifierAfter, self).__init__()\n",
        "        self.linear1 = nn.Linear(767, 512)\n",
        "        self.linear2 = nn.Linear(512, 256)\n",
        "        self.linear3 = nn.Linear(256, 128)\n",
        "        self.linear4 = nn.Linear(128, 17)\n",
        "\n",
        "        # Set weight_decay for regularization\n",
        "        self.weight_decay = weight_decay\n",
        "\n",
        "    def forward(self, tensors):\n",
        "        output_l1 = torch.relu(self.linear1(tensors))\n",
        "        output_l2 = torch.relu(self.linear2(output_l1))\n",
        "        output_l3 = torch.relu(self.linear3(output_l2))\n",
        "        output_l4 = self.linear4(output_l3)\n",
        "        return output_l4\n",
        "\n",
        "    def l2_regularization_loss(self):\n",
        "        # Calculate L2 regularization loss for linear layers\n",
        "        l2_loss = 0.0\n",
        "        for param in self.parameters():\n",
        "            if param.requires_grad:\n",
        "                l2_loss += torch.norm(param, 2)\n",
        "        return self.weight_decay * l2_loss"
      ],
      "metadata": {
        "id": "ut4eI8yrFp01"
      },
      "execution_count": 14,
      "outputs": []
    },
    {
      "cell_type": "code",
      "source": [
        "label_2 = train_data['label_2'].values.reshape(-1, 1)\n",
        "ohe = OneHotEncoder(handle_unknown='ignore', sparse_output=False).fit(label_2)\n",
        "print(ohe.categories_)\n",
        "\n",
        "label_2 = ohe.transform(label_2)\n",
        "print(label_2)"
      ],
      "metadata": {
        "colab": {
          "base_uri": "https://localhost:8080/"
        },
        "id": "U17NDiCWC7IP",
        "outputId": "bf4cc6e6-efd9-4b04-f5e6-af0e788d3a46"
      },
      "execution_count": 31,
      "outputs": [
        {
          "output_type": "stream",
          "name": "stdout",
          "text": [
            "[array([22., 23., 24., 25., 26., 27., 28., 29., 30., 31., 32., 33., 34.,\n",
            "       35., 36., 41., 61.])]\n",
            "[[0. 0. 0. ... 0. 0. 0.]\n",
            " [0. 0. 0. ... 0. 0. 0.]\n",
            " [0. 0. 0. ... 0. 0. 0.]\n",
            " ...\n",
            " [0. 0. 0. ... 0. 0. 0.]\n",
            " [0. 0. 0. ... 0. 0. 0.]\n",
            " [0. 0. 0. ... 0. 0. 0.]]\n"
          ]
        }
      ]
    },
    {
      "cell_type": "code",
      "source": [
        "X_train_after, X_test_after, y_train_after, y_test_after = train_test_split(new_features, label_2, test_size=0.2, stratify=label_2, random_state=2023)\n",
        "\n",
        "X_train_tensors_after = torch.tensor(X_train_after.values, dtype=torch.float32)\n",
        "print(X_train_tensors_after.shape)\n",
        "\n",
        "\n",
        "X_test_tensors_after = torch.tensor(X_test_after.values, dtype=torch.float32)\n",
        "print(X_test_tensors_after.shape)"
      ],
      "metadata": {
        "colab": {
          "base_uri": "https://localhost:8080/"
        },
        "id": "_ULXXHutGBeZ",
        "outputId": "60e17004-0902-4428-ed84-b1e32e7a1316"
      },
      "execution_count": 32,
      "outputs": [
        {
          "output_type": "stream",
          "name": "stdout",
          "text": [
            "torch.Size([22432, 767])\n",
            "torch.Size([5608, 767])\n"
          ]
        }
      ]
    },
    {
      "cell_type": "code",
      "source": [
        "y_train_after.shape"
      ],
      "metadata": {
        "colab": {
          "base_uri": "https://localhost:8080/"
        },
        "id": "46RCTxTQHymV",
        "outputId": "b58442a8-7c1e-4f5a-d85a-4bc5128ce97b"
      },
      "execution_count": 33,
      "outputs": [
        {
          "output_type": "execute_result",
          "data": {
            "text/plain": [
              "(22432, 17)"
            ]
          },
          "metadata": {},
          "execution_count": 33
        }
      ]
    },
    {
      "cell_type": "code",
      "source": [
        "# Create an instance of the AgeClassifierAfter model\n",
        "ageClassifierAfter = AgeClassifierAfter()\n",
        "\n",
        "# Define a cross-entropy loss function\n",
        "criterion = nn.CrossEntropyLoss()\n",
        "\n",
        "# Create a DataLoader for batching\n",
        "batch_size = 128\n",
        "dataset = TensorDataset(X_train_tensors_after, torch.tensor(y_train_after))\n",
        "dataloader = DataLoader(dataset, batch_size=batch_size, shuffle=True)\n",
        "\n",
        "# Define an optimizer\n",
        "optimizer = torch.optim.Adam(ageClassifierAfter.parameters(), lr=0.001)\n",
        "\n",
        "# Define early stopping parameters\n",
        "patience = 25\n",
        "best_validation_accuracy = 0\n",
        "no_improvement_counter = 0\n",
        "\n",
        "# Training loop\n",
        "epochs = 1000\n",
        "for epoch in range(epochs):\n",
        "\n",
        "    for inputs, targets in dataloader:\n",
        "        optimizer.zero_grad()\n",
        "        outputs = ageClassifierAfter(inputs)\n",
        "\n",
        "        ce_loss = criterion(outputs, targets)\n",
        "        l2_loss = ageClassifierAfter.l2_regularization_loss()\n",
        "\n",
        "        total_loss = ce_loss + l2_loss\n",
        "\n",
        "        total_loss.backward()\n",
        "        optimizer.step()\n",
        "\n",
        "    # Validation step (evaluate on validation dataset)\n",
        "    with torch.no_grad():\n",
        "        ageClassifierAfter.eval()\n",
        "        y_test_pred_after = ageClassifierAfter(X_test_tensors_after)\n",
        "        ce = criterion(y_test_pred_after, torch.tensor(y_test_after))\n",
        "        acc = (torch.argmax(y_test_pred_after, 1) == torch.argmax(torch.tensor(y_test_after), 1)).float().mean()\n",
        "        ageClassifierAfter.train()\n",
        "\n",
        "    print(f\"Epoch {epoch} validation: Cross-entropy={float(ce)}, Accuracy={float(acc)}\")\n",
        "\n",
        "    # Check for early stopping\n",
        "    if acc > best_validation_accuracy:\n",
        "        best_validation_accuracy = acc\n",
        "        no_improvement_counter = 0\n",
        "        # Save the trained best model if needed\n",
        "        torch.save(ageClassifierAfter.state_dict(), 'ageClassifierAfter_model.pth')\n",
        "    else:\n",
        "        no_improvement_counter += 1\n",
        "\n",
        "    # If no improvement for 'patience' consecutive epochs, stop training\n",
        "    if no_improvement_counter >= patience:\n",
        "        print(\"Early stopping triggered. Training stopped.\")\n",
        "        break"
      ],
      "metadata": {
        "colab": {
          "base_uri": "https://localhost:8080/"
        },
        "id": "jeJTeyQBGk3n",
        "outputId": "cb98c53f-72a7-4f15-e8e7-78bfa302ff52"
      },
      "execution_count": 53,
      "outputs": [
        {
          "output_type": "stream",
          "name": "stdout",
          "text": [
            "Epoch 0 validation: Cross-entropy=1.7582267233118756, Accuracy=0.4115549325942993\n",
            "Epoch 1 validation: Cross-entropy=1.1788258352076113, Accuracy=0.605028510093689\n",
            "Epoch 2 validation: Cross-entropy=0.9294041022047469, Accuracy=0.6924037337303162\n",
            "Epoch 3 validation: Cross-entropy=0.6491924954814635, Accuracy=0.7870898842811584\n",
            "Epoch 4 validation: Cross-entropy=0.5363727365550456, Accuracy=0.8223965764045715\n",
            "Epoch 5 validation: Cross-entropy=0.46117015990548205, Accuracy=0.848074197769165\n",
            "Epoch 6 validation: Cross-entropy=0.4400310909588797, Accuracy=0.8544935584068298\n",
            "Epoch 7 validation: Cross-entropy=0.3848966928383065, Accuracy=0.8807061314582825\n",
            "Epoch 8 validation: Cross-entropy=0.38282533642589894, Accuracy=0.879279613494873\n",
            "Epoch 9 validation: Cross-entropy=0.33150331891007745, Accuracy=0.898181140422821\n",
            "Epoch 10 validation: Cross-entropy=0.34744213977425437, Accuracy=0.8915834426879883\n",
            "Epoch 11 validation: Cross-entropy=0.3398351220489623, Accuracy=0.8988944292068481\n",
            "Epoch 12 validation: Cross-entropy=0.3526575359055313, Accuracy=0.8933666348457336\n",
            "Epoch 13 validation: Cross-entropy=0.3408534959354069, Accuracy=0.9012125730514526\n",
            "Epoch 14 validation: Cross-entropy=0.3461242666805552, Accuracy=0.9012125730514526\n",
            "Epoch 15 validation: Cross-entropy=0.40249733454138603, Accuracy=0.8864122629165649\n",
            "Epoch 16 validation: Cross-entropy=0.334932524622818, Accuracy=0.9079886078834534\n",
            "Epoch 17 validation: Cross-entropy=0.3485532413852687, Accuracy=0.9038873314857483\n",
            "Epoch 18 validation: Cross-entropy=0.3537964569416709, Accuracy=0.9081668853759766\n",
            "Epoch 19 validation: Cross-entropy=0.3446991112395202, Accuracy=0.914051353931427\n",
            "Epoch 20 validation: Cross-entropy=0.42475643075578595, Accuracy=0.8971112966537476\n",
            "Epoch 21 validation: Cross-entropy=0.3614850131546188, Accuracy=0.9090585112571716\n",
            "Epoch 22 validation: Cross-entropy=0.38803568299027696, Accuracy=0.90281742811203\n",
            "Epoch 23 validation: Cross-entropy=0.4409502615734881, Accuracy=0.8921183943748474\n",
            "Epoch 24 validation: Cross-entropy=0.3195188416389993, Accuracy=0.9202924370765686\n",
            "Epoch 25 validation: Cross-entropy=0.3431337048228575, Accuracy=0.913873016834259\n",
            "Epoch 26 validation: Cross-entropy=0.3847372787273887, Accuracy=0.9101284146308899\n",
            "Epoch 27 validation: Cross-entropy=0.3969885318909629, Accuracy=0.9074536561965942\n",
            "Epoch 28 validation: Cross-entropy=0.4569933918067285, Accuracy=0.8990727663040161\n",
            "Epoch 29 validation: Cross-entropy=0.41187043184391575, Accuracy=0.9013908505439758\n",
            "Epoch 30 validation: Cross-entropy=0.3771876330616918, Accuracy=0.9147646427154541\n",
            "Epoch 31 validation: Cross-entropy=0.4253021323794516, Accuracy=0.9049571752548218\n",
            "Epoch 32 validation: Cross-entropy=0.40051235649659755, Accuracy=0.9083452224731445\n",
            "Epoch 33 validation: Cross-entropy=0.3886083120148797, Accuracy=0.9124464988708496\n",
            "Epoch 34 validation: Cross-entropy=0.3780483960425195, Accuracy=0.9145863056182861\n",
            "Epoch 35 validation: Cross-entropy=0.4493112499560148, Accuracy=0.909771740436554\n",
            "Epoch 36 validation: Cross-entropy=0.36293497781165807, Accuracy=0.9186875820159912\n",
            "Epoch 37 validation: Cross-entropy=0.4639743098492727, Accuracy=0.9004992842674255\n",
            "Epoch 38 validation: Cross-entropy=0.4177344405543993, Accuracy=0.9119115471839905\n",
            "Epoch 39 validation: Cross-entropy=0.44521545754146036, Accuracy=0.9108416438102722\n",
            "Epoch 40 validation: Cross-entropy=0.5231652966205759, Accuracy=0.9010342359542847\n",
            "Epoch 41 validation: Cross-entropy=0.5432102402367094, Accuracy=0.8842724561691284\n",
            "Epoch 42 validation: Cross-entropy=0.3886498302662686, Accuracy=0.9195791482925415\n",
            "Epoch 43 validation: Cross-entropy=0.36654045017525017, Accuracy=0.9274250864982605\n",
            "Epoch 44 validation: Cross-entropy=0.3932681851895775, Accuracy=0.9258202314376831\n",
            "Epoch 45 validation: Cross-entropy=0.4574650539585471, Accuracy=0.9147646427154541\n",
            "Epoch 46 validation: Cross-entropy=0.3937073090035648, Accuracy=0.9215406775474548\n",
            "Epoch 47 validation: Cross-entropy=0.45101428554496414, Accuracy=0.9152995944023132\n",
            "Epoch 48 validation: Cross-entropy=0.35165185534018756, Accuracy=0.9333095550537109\n",
            "Epoch 49 validation: Cross-entropy=0.45102883356355067, Accuracy=0.9161911606788635\n",
            "Epoch 50 validation: Cross-entropy=0.5157431531808268, Accuracy=0.8935449123382568\n",
            "Epoch 51 validation: Cross-entropy=0.38839680702375257, Accuracy=0.9177960157394409\n",
            "Epoch 52 validation: Cross-entropy=0.3707121960245514, Accuracy=0.9258202314376831\n",
            "Epoch 53 validation: Cross-entropy=0.4443258131623844, Accuracy=0.9197574853897095\n",
            "Epoch 54 validation: Cross-entropy=0.4311427147133506, Accuracy=0.9186875820159912\n",
            "Epoch 55 validation: Cross-entropy=0.40786618215059806, Accuracy=0.9268901348114014\n",
            "Epoch 56 validation: Cross-entropy=0.41767515161680563, Accuracy=0.9236804842948914\n",
            "Epoch 57 validation: Cross-entropy=0.44058662991220576, Accuracy=0.9174394011497498\n",
            "Epoch 58 validation: Cross-entropy=0.44237224290680816, Accuracy=0.9149429202079773\n",
            "Epoch 59 validation: Cross-entropy=0.3993374918757618, Accuracy=0.9243937134742737\n",
            "Epoch 60 validation: Cross-entropy=0.40681258762082606, Accuracy=0.9226105809211731\n",
            "Epoch 61 validation: Cross-entropy=0.4138584582591397, Accuracy=0.9235021471977234\n",
            "Epoch 62 validation: Cross-entropy=0.4475464688982107, Accuracy=0.9202924370765686\n",
            "Epoch 63 validation: Cross-entropy=0.412333931504061, Accuracy=0.926176905632019\n",
            "Epoch 64 validation: Cross-entropy=0.35624659377208034, Accuracy=0.9349144101142883\n",
            "Epoch 65 validation: Cross-entropy=0.4745650679488989, Accuracy=0.9122681617736816\n",
            "Epoch 66 validation: Cross-entropy=0.4424429272222498, Accuracy=0.9161911606788635\n",
            "Epoch 67 validation: Cross-entropy=0.3677300066657847, Accuracy=0.9290299415588379\n",
            "Epoch 68 validation: Cross-entropy=0.532329763994504, Accuracy=0.9078102707862854\n",
            "Epoch 69 validation: Cross-entropy=0.4291366123754547, Accuracy=0.9258202314376831\n",
            "Epoch 70 validation: Cross-entropy=0.39622742280939305, Accuracy=0.9325962662696838\n",
            "Epoch 71 validation: Cross-entropy=0.4980289942394775, Accuracy=0.9095934629440308\n",
            "Epoch 72 validation: Cross-entropy=0.4429990500335816, Accuracy=0.9201140999794006\n",
            "Epoch 73 validation: Cross-entropy=0.39090818450405435, Accuracy=0.9283167123794556\n",
            "Epoch 74 validation: Cross-entropy=0.3874596285449684, Accuracy=0.9318830370903015\n",
            "Epoch 75 validation: Cross-entropy=0.3808106333178982, Accuracy=0.9338445067405701\n",
            "Epoch 76 validation: Cross-entropy=0.3867322851351936, Accuracy=0.9300998449325562\n",
            "Epoch 77 validation: Cross-entropy=0.5976951720261539, Accuracy=0.8972895741462708\n",
            "Epoch 78 validation: Cross-entropy=0.4571165335956709, Accuracy=0.9122681617736816\n",
            "Epoch 79 validation: Cross-entropy=0.3537710780899265, Accuracy=0.9322396516799927\n",
            "Epoch 80 validation: Cross-entropy=0.40599763044640186, Accuracy=0.9293866157531738\n",
            "Epoch 81 validation: Cross-entropy=0.36103279201833793, Accuracy=0.9379457831382751\n",
            "Epoch 82 validation: Cross-entropy=0.37492213304043776, Accuracy=0.937410831451416\n",
            "Epoch 83 validation: Cross-entropy=0.3930061152175758, Accuracy=0.9356276988983154\n",
            "Epoch 84 validation: Cross-entropy=0.39416547924784884, Accuracy=0.9366976022720337\n",
            "Epoch 85 validation: Cross-entropy=0.5472442082649082, Accuracy=0.9188659191131592\n",
            "Epoch 86 validation: Cross-entropy=0.4484182539494904, Accuracy=0.9165477752685547\n",
            "Epoch 87 validation: Cross-entropy=0.43702605292407753, Accuracy=0.9181526303291321\n",
            "Epoch 88 validation: Cross-entropy=0.36437267295388015, Accuracy=0.9336661696434021\n",
            "Epoch 89 validation: Cross-entropy=0.3910968691814953, Accuracy=0.9309914112091064\n",
            "Epoch 90 validation: Cross-entropy=0.45036004800344553, Accuracy=0.9202924370765686\n",
            "Epoch 91 validation: Cross-entropy=0.5222037392401253, Accuracy=0.9195791482925415\n",
            "Epoch 92 validation: Cross-entropy=0.41060392032524284, Accuracy=0.9277817606925964\n",
            "Epoch 93 validation: Cross-entropy=0.4300660252509017, Accuracy=0.9276034235954285\n",
            "Epoch 94 validation: Cross-entropy=0.4088716173745086, Accuracy=0.929743230342865\n",
            "Epoch 95 validation: Cross-entropy=0.4678531264939744, Accuracy=0.9229671955108643\n",
            "Epoch 96 validation: Cross-entropy=0.4167949173120658, Accuracy=0.9313480854034424\n",
            "Epoch 97 validation: Cross-entropy=0.4243368735721867, Accuracy=0.9233238101005554\n",
            "Epoch 98 validation: Cross-entropy=0.4195547599643083, Accuracy=0.9304565191268921\n",
            "Epoch 99 validation: Cross-entropy=0.37142548424678834, Accuracy=0.9379457831382751\n",
            "Epoch 100 validation: Cross-entropy=0.3780797431975829, Accuracy=0.9381241202354431\n",
            "Epoch 101 validation: Cross-entropy=0.3837169762882273, Accuracy=0.9343794584274292\n",
            "Epoch 102 validation: Cross-entropy=0.5100474152320418, Accuracy=0.9088801741600037\n",
            "Epoch 103 validation: Cross-entropy=0.40869643282784435, Accuracy=0.925285279750824\n",
            "Epoch 104 validation: Cross-entropy=0.3491989514103796, Accuracy=0.9381241202354431\n",
            "Epoch 105 validation: Cross-entropy=0.3366129109807792, Accuracy=0.9402639269828796\n",
            "Epoch 106 validation: Cross-entropy=0.33409853469560713, Accuracy=0.9427603483200073\n",
            "Epoch 107 validation: Cross-entropy=0.3454588684302982, Accuracy=0.9395506381988525\n",
            "Epoch 108 validation: Cross-entropy=0.36041805057721066, Accuracy=0.9386590719223022\n",
            "Epoch 109 validation: Cross-entropy=0.5356389516795055, Accuracy=0.9122681617736816\n",
            "Epoch 110 validation: Cross-entropy=0.4659189875350922, Accuracy=0.9242154359817505\n",
            "Epoch 111 validation: Cross-entropy=0.4632492898366376, Accuracy=0.9167261123657227\n",
            "Epoch 112 validation: Cross-entropy=0.3867475807473315, Accuracy=0.9306347966194153\n",
            "Epoch 113 validation: Cross-entropy=0.3814363462157888, Accuracy=0.9334878921508789\n",
            "Epoch 114 validation: Cross-entropy=0.4336327897127751, Accuracy=0.9270684719085693\n",
            "Epoch 115 validation: Cross-entropy=0.43813872448049124, Accuracy=0.9259985685348511\n",
            "Epoch 116 validation: Cross-entropy=0.4571726953268143, Accuracy=0.9265335202217102\n",
            "Epoch 117 validation: Cross-entropy=0.45950646446798393, Accuracy=0.925285279750824\n",
            "Epoch 118 validation: Cross-entropy=0.4395553716931264, Accuracy=0.9306347966194153\n",
            "Epoch 119 validation: Cross-entropy=0.44122874370413206, Accuracy=0.9306347966194153\n",
            "Epoch 120 validation: Cross-entropy=0.406796192608346, Accuracy=0.9338445067405701\n",
            "Epoch 121 validation: Cross-entropy=0.4359637892751794, Accuracy=0.9288516640663147\n",
            "Epoch 122 validation: Cross-entropy=0.42911068442187444, Accuracy=0.9281383752822876\n",
            "Epoch 123 validation: Cross-entropy=0.3900737106096613, Accuracy=0.9333095550537109\n",
            "Epoch 124 validation: Cross-entropy=0.3720449525109675, Accuracy=0.9407988786697388\n",
            "Epoch 125 validation: Cross-entropy=0.388643289427044, Accuracy=0.9390156865119934\n",
            "Epoch 126 validation: Cross-entropy=0.3794626195279807, Accuracy=0.9388373494148254\n",
            "Epoch 127 validation: Cross-entropy=0.43606487220783097, Accuracy=0.9283167123794556\n",
            "Epoch 128 validation: Cross-entropy=0.48995613066922633, Accuracy=0.9136947393417358\n",
            "Epoch 129 validation: Cross-entropy=0.4203678974996024, Accuracy=0.9276034235954285\n",
            "Epoch 130 validation: Cross-entropy=0.3685534074835651, Accuracy=0.9379457831382751\n",
            "Epoch 131 validation: Cross-entropy=0.3618925639572047, Accuracy=0.9381241202354431\n",
            "Early stopping triggered. Training stopped.\n"
          ]
        }
      ]
    },
    {
      "cell_type": "code",
      "source": [
        "# Create an instance of the model\n",
        "ageClassifierAfter = AgeClassifierAfter()\n",
        "\n",
        "# Define a cross-entropy loss function\n",
        "criterion = nn.CrossEntropyLoss()\n",
        "\n",
        "# Load the saved model state dictionary\n",
        "ageClassifierAfter.load_state_dict(torch.load('/content/drive/Shareddrives/test/ML _Project/ageClassifierAfter_model.pth'))\n",
        "\n",
        "# Validation step (evaluate on validation dataset)\n",
        "with torch.no_grad():\n",
        "    ageClassifierAfter.eval()\n",
        "    y_test_pred_after = ageClassifierAfter(X_test_tensors_after)\n",
        "    ce = criterion(y_test_pred_after, torch.tensor(y_test_after))\n",
        "    acc = (torch.argmax(y_test_pred_after, 1) == torch.argmax(torch.tensor(y_test_after), 1)).float().mean()\n",
        "\n",
        "print(f\"Best model validation: Cross-entropy={float(ce)}, Accuracy={float(acc)}\")\n"
      ],
      "metadata": {
        "colab": {
          "base_uri": "https://localhost:8080/"
        },
        "id": "GOFZjKAmMSJy",
        "outputId": "247a2505-e148-4cd9-d6ca-5ccbe1eac192"
      },
      "execution_count": 34,
      "outputs": [
        {
          "output_type": "stream",
          "name": "stdout",
          "text": [
            "Best model validation: Cross-entropy=0.33409853469560713, Accuracy=0.9427603483200073\n"
          ]
        }
      ]
    },
    {
      "cell_type": "markdown",
      "source": [
        "## Evaluation of the Model"
      ],
      "metadata": {
        "id": "J4XWg1l_NqCj"
      }
    },
    {
      "cell_type": "code",
      "source": [
        "# Set your model to evaluation mode\n",
        "ageClassifierAfter.eval()\n",
        "\n",
        "new_features_valid = valid_data.iloc[:, :768].drop(corr_features,axis=1)\n",
        "X_valid_tensors_after = torch.tensor(new_features_valid.values, dtype=torch.float32)\n",
        "print(X_valid_tensors_after.shape)\n",
        "\n",
        "y_pred_valid_after = ageClassifierAfter(X_valid_tensors_after)\n",
        "ce = criterion(y_pred_valid_after, torch.tensor(label_2_eval))\n",
        "acc = (torch.argmax(y_pred_valid_after, 1) == torch.argmax(torch.tensor(label_2_eval), 1)).float().mean()\n",
        "print(f\"Cross-entropy={float(ce)}, Test Accuracy={float(acc)}\")"
      ],
      "metadata": {
        "colab": {
          "base_uri": "https://localhost:8080/"
        },
        "id": "jBP_mvpXMqJW",
        "outputId": "489ce347-91bb-4dfa-d878-76e8379f228c"
      },
      "execution_count": 37,
      "outputs": [
        {
          "output_type": "stream",
          "name": "stdout",
          "text": [
            "torch.Size([736, 767])\n",
            "Cross-entropy=0.29291160724206255, Test Accuracy=0.945652186870575\n"
          ]
        }
      ]
    },
    {
      "cell_type": "code",
      "source": [
        "y_pred_valid_after_labels = torch.argmax(y_pred_valid_after, axis=1).numpy()\n",
        "label_2_np_valid_after = torch.argmax(torch.tensor(label_2_eval), axis=1).numpy()\n",
        "\n",
        "confusion = confusion_matrix(label_2_np_valid_after, y_pred_valid_after_labels)\n",
        "print(classification_report(label_2_np_valid_after, y_pred_valid_after_labels))"
      ],
      "metadata": {
        "colab": {
          "base_uri": "https://localhost:8080/"
        },
        "id": "bnjuuUBWPZ_N",
        "outputId": "d5667ab9-1cd9-47dd-a3a8-bf12a9c0f508"
      },
      "execution_count": 38,
      "outputs": [
        {
          "output_type": "stream",
          "name": "stdout",
          "text": [
            "              precision    recall  f1-score   support\n",
            "\n",
            "           0       0.94      0.94      0.94        36\n",
            "           1       0.94      0.93      0.94        71\n",
            "           2       0.90      1.00      0.95        46\n",
            "           3       0.97      0.92      0.95        79\n",
            "           4       0.92      0.95      0.94       115\n",
            "           5       0.99      0.96      0.97        81\n",
            "           6       0.89      0.91      0.90        46\n",
            "           7       0.96      0.96      0.96        45\n",
            "           8       0.94      0.96      0.95        48\n",
            "           9       0.95      0.95      0.95        65\n",
            "          10       1.00      1.00      1.00        11\n",
            "          11       0.97      1.00      0.98        30\n",
            "          12       1.00      1.00      1.00        11\n",
            "          13       1.00      0.91      0.95        11\n",
            "          14       0.80      1.00      0.89         8\n",
            "          15       0.91      0.71      0.80        14\n",
            "          16       1.00      0.89      0.94        19\n",
            "\n",
            "    accuracy                           0.95       736\n",
            "   macro avg       0.95      0.94      0.94       736\n",
            "weighted avg       0.95      0.95      0.95       736\n",
            "\n"
          ]
        }
      ]
    },
    {
      "cell_type": "code",
      "source": [
        "accuracy_score(label_2_np_valid_after, y_pred_valid_after_labels)"
      ],
      "metadata": {
        "colab": {
          "base_uri": "https://localhost:8080/"
        },
        "id": "-sr7hg-iP_fM",
        "outputId": "46422321-bd45-476d-c230-7098a180af30"
      },
      "execution_count": 39,
      "outputs": [
        {
          "output_type": "execute_result",
          "data": {
            "text/plain": [
              "0.9456521739130435"
            ]
          },
          "metadata": {},
          "execution_count": 39
        }
      ]
    },
    {
      "cell_type": "markdown",
      "source": [
        "## Get Test Results"
      ],
      "metadata": {
        "id": "f0T5J40QnQNv"
      }
    },
    {
      "cell_type": "code",
      "source": [
        "# Set your model to evaluation mode\n",
        "ageClassifierAfter.eval()\n",
        "\n",
        "new_features_test = test_data.iloc[:, :768].drop(corr_features,axis=1)\n",
        "X_t_tensors_after = torch.tensor(new_features_test.values, dtype=torch.float32)\n",
        "print(X_t_tensors_after.shape)\n",
        "\n",
        "y_pred_t_after = ageClassifierAfter(X_t_tensors_after)\n",
        "print(y_pred_t_after.shape)"
      ],
      "metadata": {
        "colab": {
          "base_uri": "https://localhost:8080/"
        },
        "id": "lnfmkAcPnWOx",
        "outputId": "e5e8c052-8658-4fc2-83d7-39608700aced"
      },
      "execution_count": 41,
      "outputs": [
        {
          "output_type": "stream",
          "name": "stdout",
          "text": [
            "torch.Size([744, 767])\n",
            "torch.Size([744, 17])\n"
          ]
        }
      ]
    },
    {
      "cell_type": "code",
      "source": [
        "y_pred_one_hot = ohe.inverse_transform(y_pred_t_after.detach().numpy())\n",
        "test_data[\"label_2\"] = pd.DataFrame(y_pred_one_hot, columns=[\"label_2\"])"
      ],
      "metadata": {
        "id": "gW_LFH5jnYx2"
      },
      "execution_count": 42,
      "outputs": []
    },
    {
      "cell_type": "code",
      "source": [
        "test_data.head()"
      ],
      "metadata": {
        "colab": {
          "base_uri": "https://localhost:8080/",
          "height": 253
        },
        "id": "s85uNNtPnegH",
        "outputId": "508d0205-3cf4-4a40-a6c6-18e57b8e3fed"
      },
      "execution_count": 43,
      "outputs": [
        {
          "output_type": "execute_result",
          "data": {
            "text/plain": [
              "   ID  feature_1  feature_2  feature_3  feature_4  feature_5  feature_6  \\\n",
              "0   1   0.013112   0.130904   0.020284   0.063018  -0.034321  -0.073516   \n",
              "1   2   0.005934   0.138592  -0.007000   0.055925  -0.021927  -0.084788   \n",
              "2   3  -0.067210   0.078710  -0.044344   0.101248  -0.074331  -0.088951   \n",
              "3   4  -0.005678   0.060703   0.033954   0.068771  -0.039923  -0.186583   \n",
              "4   5  -0.076360   0.061095  -0.004938   0.066692  -0.040454  -0.005141   \n",
              "\n",
              "   feature_7  feature_8  feature_9  ...  feature_760  feature_761  \\\n",
              "0  -0.030659  -0.064994   0.024153  ...     0.241121     0.079949   \n",
              "1   0.013339   0.060811  -0.011344  ...     0.042921     0.018571   \n",
              "2   0.074616   0.007231   0.021091  ...     0.053370     0.096232   \n",
              "3   0.014921   0.020791   0.017441  ...     0.018405    -0.018047   \n",
              "4  -0.003213   0.025721   0.083558  ...     0.045479     0.057146   \n",
              "\n",
              "   feature_762  feature_763  feature_764  feature_765  feature_766  \\\n",
              "0    -0.186099    -0.096718     0.126006    -0.023069     0.190374   \n",
              "1    -0.114785    -0.105186     0.059050     0.021443     0.013027   \n",
              "2    -0.369018    -0.066708    -0.003730    -0.063339    -0.044497   \n",
              "3    -0.080393    -0.114030     0.048255     0.033839     0.035026   \n",
              "4    -0.194466     0.000739     0.018702     0.013192    -0.038486   \n",
              "\n",
              "   feature_767  feature_768  label_2  \n",
              "0     0.146516     0.038047     30.0  \n",
              "1     0.046826    -0.026682     30.0  \n",
              "2    -0.024363    -0.042594     30.0  \n",
              "3    -0.047988    -0.038252     31.0  \n",
              "4     0.033358    -0.038452     30.0  \n",
              "\n",
              "[5 rows x 770 columns]"
            ],
            "text/html": [
              "\n",
              "  <div id=\"df-6445186b-6f7f-4723-bb31-01750d90c6ac\" class=\"colab-df-container\">\n",
              "    <div>\n",
              "<style scoped>\n",
              "    .dataframe tbody tr th:only-of-type {\n",
              "        vertical-align: middle;\n",
              "    }\n",
              "\n",
              "    .dataframe tbody tr th {\n",
              "        vertical-align: top;\n",
              "    }\n",
              "\n",
              "    .dataframe thead th {\n",
              "        text-align: right;\n",
              "    }\n",
              "</style>\n",
              "<table border=\"1\" class=\"dataframe\">\n",
              "  <thead>\n",
              "    <tr style=\"text-align: right;\">\n",
              "      <th></th>\n",
              "      <th>ID</th>\n",
              "      <th>feature_1</th>\n",
              "      <th>feature_2</th>\n",
              "      <th>feature_3</th>\n",
              "      <th>feature_4</th>\n",
              "      <th>feature_5</th>\n",
              "      <th>feature_6</th>\n",
              "      <th>feature_7</th>\n",
              "      <th>feature_8</th>\n",
              "      <th>feature_9</th>\n",
              "      <th>...</th>\n",
              "      <th>feature_760</th>\n",
              "      <th>feature_761</th>\n",
              "      <th>feature_762</th>\n",
              "      <th>feature_763</th>\n",
              "      <th>feature_764</th>\n",
              "      <th>feature_765</th>\n",
              "      <th>feature_766</th>\n",
              "      <th>feature_767</th>\n",
              "      <th>feature_768</th>\n",
              "      <th>label_2</th>\n",
              "    </tr>\n",
              "  </thead>\n",
              "  <tbody>\n",
              "    <tr>\n",
              "      <th>0</th>\n",
              "      <td>1</td>\n",
              "      <td>0.013112</td>\n",
              "      <td>0.130904</td>\n",
              "      <td>0.020284</td>\n",
              "      <td>0.063018</td>\n",
              "      <td>-0.034321</td>\n",
              "      <td>-0.073516</td>\n",
              "      <td>-0.030659</td>\n",
              "      <td>-0.064994</td>\n",
              "      <td>0.024153</td>\n",
              "      <td>...</td>\n",
              "      <td>0.241121</td>\n",
              "      <td>0.079949</td>\n",
              "      <td>-0.186099</td>\n",
              "      <td>-0.096718</td>\n",
              "      <td>0.126006</td>\n",
              "      <td>-0.023069</td>\n",
              "      <td>0.190374</td>\n",
              "      <td>0.146516</td>\n",
              "      <td>0.038047</td>\n",
              "      <td>30.0</td>\n",
              "    </tr>\n",
              "    <tr>\n",
              "      <th>1</th>\n",
              "      <td>2</td>\n",
              "      <td>0.005934</td>\n",
              "      <td>0.138592</td>\n",
              "      <td>-0.007000</td>\n",
              "      <td>0.055925</td>\n",
              "      <td>-0.021927</td>\n",
              "      <td>-0.084788</td>\n",
              "      <td>0.013339</td>\n",
              "      <td>0.060811</td>\n",
              "      <td>-0.011344</td>\n",
              "      <td>...</td>\n",
              "      <td>0.042921</td>\n",
              "      <td>0.018571</td>\n",
              "      <td>-0.114785</td>\n",
              "      <td>-0.105186</td>\n",
              "      <td>0.059050</td>\n",
              "      <td>0.021443</td>\n",
              "      <td>0.013027</td>\n",
              "      <td>0.046826</td>\n",
              "      <td>-0.026682</td>\n",
              "      <td>30.0</td>\n",
              "    </tr>\n",
              "    <tr>\n",
              "      <th>2</th>\n",
              "      <td>3</td>\n",
              "      <td>-0.067210</td>\n",
              "      <td>0.078710</td>\n",
              "      <td>-0.044344</td>\n",
              "      <td>0.101248</td>\n",
              "      <td>-0.074331</td>\n",
              "      <td>-0.088951</td>\n",
              "      <td>0.074616</td>\n",
              "      <td>0.007231</td>\n",
              "      <td>0.021091</td>\n",
              "      <td>...</td>\n",
              "      <td>0.053370</td>\n",
              "      <td>0.096232</td>\n",
              "      <td>-0.369018</td>\n",
              "      <td>-0.066708</td>\n",
              "      <td>-0.003730</td>\n",
              "      <td>-0.063339</td>\n",
              "      <td>-0.044497</td>\n",
              "      <td>-0.024363</td>\n",
              "      <td>-0.042594</td>\n",
              "      <td>30.0</td>\n",
              "    </tr>\n",
              "    <tr>\n",
              "      <th>3</th>\n",
              "      <td>4</td>\n",
              "      <td>-0.005678</td>\n",
              "      <td>0.060703</td>\n",
              "      <td>0.033954</td>\n",
              "      <td>0.068771</td>\n",
              "      <td>-0.039923</td>\n",
              "      <td>-0.186583</td>\n",
              "      <td>0.014921</td>\n",
              "      <td>0.020791</td>\n",
              "      <td>0.017441</td>\n",
              "      <td>...</td>\n",
              "      <td>0.018405</td>\n",
              "      <td>-0.018047</td>\n",
              "      <td>-0.080393</td>\n",
              "      <td>-0.114030</td>\n",
              "      <td>0.048255</td>\n",
              "      <td>0.033839</td>\n",
              "      <td>0.035026</td>\n",
              "      <td>-0.047988</td>\n",
              "      <td>-0.038252</td>\n",
              "      <td>31.0</td>\n",
              "    </tr>\n",
              "    <tr>\n",
              "      <th>4</th>\n",
              "      <td>5</td>\n",
              "      <td>-0.076360</td>\n",
              "      <td>0.061095</td>\n",
              "      <td>-0.004938</td>\n",
              "      <td>0.066692</td>\n",
              "      <td>-0.040454</td>\n",
              "      <td>-0.005141</td>\n",
              "      <td>-0.003213</td>\n",
              "      <td>0.025721</td>\n",
              "      <td>0.083558</td>\n",
              "      <td>...</td>\n",
              "      <td>0.045479</td>\n",
              "      <td>0.057146</td>\n",
              "      <td>-0.194466</td>\n",
              "      <td>0.000739</td>\n",
              "      <td>0.018702</td>\n",
              "      <td>0.013192</td>\n",
              "      <td>-0.038486</td>\n",
              "      <td>0.033358</td>\n",
              "      <td>-0.038452</td>\n",
              "      <td>30.0</td>\n",
              "    </tr>\n",
              "  </tbody>\n",
              "</table>\n",
              "<p>5 rows × 770 columns</p>\n",
              "</div>\n",
              "    <div class=\"colab-df-buttons\">\n",
              "\n",
              "  <div class=\"colab-df-container\">\n",
              "    <button class=\"colab-df-convert\" onclick=\"convertToInteractive('df-6445186b-6f7f-4723-bb31-01750d90c6ac')\"\n",
              "            title=\"Convert this dataframe to an interactive table.\"\n",
              "            style=\"display:none;\">\n",
              "\n",
              "  <svg xmlns=\"http://www.w3.org/2000/svg\" height=\"24px\" viewBox=\"0 -960 960 960\">\n",
              "    <path d=\"M120-120v-720h720v720H120Zm60-500h600v-160H180v160Zm220 220h160v-160H400v160Zm0 220h160v-160H400v160ZM180-400h160v-160H180v160Zm440 0h160v-160H620v160ZM180-180h160v-160H180v160Zm440 0h160v-160H620v160Z\"/>\n",
              "  </svg>\n",
              "    </button>\n",
              "\n",
              "  <style>\n",
              "    .colab-df-container {\n",
              "      display:flex;\n",
              "      gap: 12px;\n",
              "    }\n",
              "\n",
              "    .colab-df-convert {\n",
              "      background-color: #E8F0FE;\n",
              "      border: none;\n",
              "      border-radius: 50%;\n",
              "      cursor: pointer;\n",
              "      display: none;\n",
              "      fill: #1967D2;\n",
              "      height: 32px;\n",
              "      padding: 0 0 0 0;\n",
              "      width: 32px;\n",
              "    }\n",
              "\n",
              "    .colab-df-convert:hover {\n",
              "      background-color: #E2EBFA;\n",
              "      box-shadow: 0px 1px 2px rgba(60, 64, 67, 0.3), 0px 1px 3px 1px rgba(60, 64, 67, 0.15);\n",
              "      fill: #174EA6;\n",
              "    }\n",
              "\n",
              "    .colab-df-buttons div {\n",
              "      margin-bottom: 4px;\n",
              "    }\n",
              "\n",
              "    [theme=dark] .colab-df-convert {\n",
              "      background-color: #3B4455;\n",
              "      fill: #D2E3FC;\n",
              "    }\n",
              "\n",
              "    [theme=dark] .colab-df-convert:hover {\n",
              "      background-color: #434B5C;\n",
              "      box-shadow: 0px 1px 3px 1px rgba(0, 0, 0, 0.15);\n",
              "      filter: drop-shadow(0px 1px 2px rgba(0, 0, 0, 0.3));\n",
              "      fill: #FFFFFF;\n",
              "    }\n",
              "  </style>\n",
              "\n",
              "    <script>\n",
              "      const buttonEl =\n",
              "        document.querySelector('#df-6445186b-6f7f-4723-bb31-01750d90c6ac button.colab-df-convert');\n",
              "      buttonEl.style.display =\n",
              "        google.colab.kernel.accessAllowed ? 'block' : 'none';\n",
              "\n",
              "      async function convertToInteractive(key) {\n",
              "        const element = document.querySelector('#df-6445186b-6f7f-4723-bb31-01750d90c6ac');\n",
              "        const dataTable =\n",
              "          await google.colab.kernel.invokeFunction('convertToInteractive',\n",
              "                                                    [key], {});\n",
              "        if (!dataTable) return;\n",
              "\n",
              "        const docLinkHtml = 'Like what you see? Visit the ' +\n",
              "          '<a target=\"_blank\" href=https://colab.research.google.com/notebooks/data_table.ipynb>data table notebook</a>'\n",
              "          + ' to learn more about interactive tables.';\n",
              "        element.innerHTML = '';\n",
              "        dataTable['output_type'] = 'display_data';\n",
              "        await google.colab.output.renderOutput(dataTable, element);\n",
              "        const docLink = document.createElement('div');\n",
              "        docLink.innerHTML = docLinkHtml;\n",
              "        element.appendChild(docLink);\n",
              "      }\n",
              "    </script>\n",
              "  </div>\n",
              "\n",
              "\n",
              "<div id=\"df-16f458f5-6a87-4f8f-beb2-9492376aca0f\">\n",
              "  <button class=\"colab-df-quickchart\" onclick=\"quickchart('df-16f458f5-6a87-4f8f-beb2-9492376aca0f')\"\n",
              "            title=\"Suggest charts.\"\n",
              "            style=\"display:none;\">\n",
              "\n",
              "<svg xmlns=\"http://www.w3.org/2000/svg\" height=\"24px\"viewBox=\"0 0 24 24\"\n",
              "     width=\"24px\">\n",
              "    <g>\n",
              "        <path d=\"M19 3H5c-1.1 0-2 .9-2 2v14c0 1.1.9 2 2 2h14c1.1 0 2-.9 2-2V5c0-1.1-.9-2-2-2zM9 17H7v-7h2v7zm4 0h-2V7h2v10zm4 0h-2v-4h2v4z\"/>\n",
              "    </g>\n",
              "</svg>\n",
              "  </button>\n",
              "\n",
              "<style>\n",
              "  .colab-df-quickchart {\n",
              "      --bg-color: #E8F0FE;\n",
              "      --fill-color: #1967D2;\n",
              "      --hover-bg-color: #E2EBFA;\n",
              "      --hover-fill-color: #174EA6;\n",
              "      --disabled-fill-color: #AAA;\n",
              "      --disabled-bg-color: #DDD;\n",
              "  }\n",
              "\n",
              "  [theme=dark] .colab-df-quickchart {\n",
              "      --bg-color: #3B4455;\n",
              "      --fill-color: #D2E3FC;\n",
              "      --hover-bg-color: #434B5C;\n",
              "      --hover-fill-color: #FFFFFF;\n",
              "      --disabled-bg-color: #3B4455;\n",
              "      --disabled-fill-color: #666;\n",
              "  }\n",
              "\n",
              "  .colab-df-quickchart {\n",
              "    background-color: var(--bg-color);\n",
              "    border: none;\n",
              "    border-radius: 50%;\n",
              "    cursor: pointer;\n",
              "    display: none;\n",
              "    fill: var(--fill-color);\n",
              "    height: 32px;\n",
              "    padding: 0;\n",
              "    width: 32px;\n",
              "  }\n",
              "\n",
              "  .colab-df-quickchart:hover {\n",
              "    background-color: var(--hover-bg-color);\n",
              "    box-shadow: 0 1px 2px rgba(60, 64, 67, 0.3), 0 1px 3px 1px rgba(60, 64, 67, 0.15);\n",
              "    fill: var(--button-hover-fill-color);\n",
              "  }\n",
              "\n",
              "  .colab-df-quickchart-complete:disabled,\n",
              "  .colab-df-quickchart-complete:disabled:hover {\n",
              "    background-color: var(--disabled-bg-color);\n",
              "    fill: var(--disabled-fill-color);\n",
              "    box-shadow: none;\n",
              "  }\n",
              "\n",
              "  .colab-df-spinner {\n",
              "    border: 2px solid var(--fill-color);\n",
              "    border-color: transparent;\n",
              "    border-bottom-color: var(--fill-color);\n",
              "    animation:\n",
              "      spin 1s steps(1) infinite;\n",
              "  }\n",
              "\n",
              "  @keyframes spin {\n",
              "    0% {\n",
              "      border-color: transparent;\n",
              "      border-bottom-color: var(--fill-color);\n",
              "      border-left-color: var(--fill-color);\n",
              "    }\n",
              "    20% {\n",
              "      border-color: transparent;\n",
              "      border-left-color: var(--fill-color);\n",
              "      border-top-color: var(--fill-color);\n",
              "    }\n",
              "    30% {\n",
              "      border-color: transparent;\n",
              "      border-left-color: var(--fill-color);\n",
              "      border-top-color: var(--fill-color);\n",
              "      border-right-color: var(--fill-color);\n",
              "    }\n",
              "    40% {\n",
              "      border-color: transparent;\n",
              "      border-right-color: var(--fill-color);\n",
              "      border-top-color: var(--fill-color);\n",
              "    }\n",
              "    60% {\n",
              "      border-color: transparent;\n",
              "      border-right-color: var(--fill-color);\n",
              "    }\n",
              "    80% {\n",
              "      border-color: transparent;\n",
              "      border-right-color: var(--fill-color);\n",
              "      border-bottom-color: var(--fill-color);\n",
              "    }\n",
              "    90% {\n",
              "      border-color: transparent;\n",
              "      border-bottom-color: var(--fill-color);\n",
              "    }\n",
              "  }\n",
              "</style>\n",
              "\n",
              "  <script>\n",
              "    async function quickchart(key) {\n",
              "      const quickchartButtonEl =\n",
              "        document.querySelector('#' + key + ' button');\n",
              "      quickchartButtonEl.disabled = true;  // To prevent multiple clicks.\n",
              "      quickchartButtonEl.classList.add('colab-df-spinner');\n",
              "      try {\n",
              "        const charts = await google.colab.kernel.invokeFunction(\n",
              "            'suggestCharts', [key], {});\n",
              "      } catch (error) {\n",
              "        console.error('Error during call to suggestCharts:', error);\n",
              "      }\n",
              "      quickchartButtonEl.classList.remove('colab-df-spinner');\n",
              "      quickchartButtonEl.classList.add('colab-df-quickchart-complete');\n",
              "    }\n",
              "    (() => {\n",
              "      let quickchartButtonEl =\n",
              "        document.querySelector('#df-16f458f5-6a87-4f8f-beb2-9492376aca0f button');\n",
              "      quickchartButtonEl.style.display =\n",
              "        google.colab.kernel.accessAllowed ? 'block' : 'none';\n",
              "    })();\n",
              "  </script>\n",
              "</div>\n",
              "    </div>\n",
              "  </div>\n"
            ]
          },
          "metadata": {},
          "execution_count": 43
        }
      ]
    },
    {
      "cell_type": "code",
      "source": [
        "file_path = \"/content/drive/MyDrive/#Semester07/CS4622/ML Project/speech-based-classification-layer-9/label_2.csv\"\n",
        "\n",
        "# Save the DataFrame to a CSV file\n",
        "test_data.to_csv(file_path, index=False)"
      ],
      "metadata": {
        "id": "tf6O1QSin2fz"
      },
      "execution_count": 46,
      "outputs": []
    }
  ]
}